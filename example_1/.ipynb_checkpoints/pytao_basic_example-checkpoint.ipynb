{
 "cells": [
  {
   "cell_type": "markdown",
   "id": "995348dd-9245-4264-bb16-553fa32a53a3",
   "metadata": {},
   "source": [
    "## Instructions\n",
    "###### To use Tao plot, `Xquartz` is required.\n",
    "###### https://www.xquartz.org\n",
    "\n",
    "###### `Xcode` might be additionally required.\n",
    "###### Detialed instructions are at:\n",
    "##### https://wiki.classe.cornell.edu/ACC/ACL/OffsiteDoc#DistDownload\n"
   ]
  },
  {
   "cell_type": "markdown",
   "id": "17cf4c02-86f7-41fc-9b14-5d517723d84f",
   "metadata": {},
   "source": [
    "## Tao initialization"
   ]
  },
  {
   "cell_type": "code",
   "execution_count": 1,
   "id": "a4b69690-aa52-40b0-afca-edfd9db6fc7b",
   "metadata": {},
   "outputs": [],
   "source": [
    "from pytao import Tao"
   ]
  },
  {
   "cell_type": "code",
   "execution_count": 90,
   "id": "098ee7ae-e111-4f7b-b717-2048ca80db31",
   "metadata": {},
   "outputs": [],
   "source": [
    "# This activates tao, and a plot window (with Xquartz) should pop up.\n",
    "# If this crashes the kernel, try again with -noplot option below.\n",
    "tao = Tao('-init tao.init')\n",
    "\n",
    "#tao = Tao('-init tao.init -noplot')"
   ]
  },
  {
   "cell_type": "markdown",
   "id": "bf0318af-2947-488b-8483-adc18d1a14f6",
   "metadata": {},
   "source": [
    "## Run Tao commands \n",
    "#### Note that `cmd` takes one while `cmds` takes a list of many\n",
    "#### These commands can be run using vanilla tao in a terminal"
   ]
  },
  {
   "cell_type": "code",
   "execution_count": 8,
   "id": "0025c2fb-f22c-437a-a6aa-8b92b76922d5",
   "metadata": {},
   "outputs": [
    {
     "data": {
      "text/plain": [
       "['# Values shown are for the Exit End of each Element:',\n",
       " '# Index  name    key                      s       l      beta_a',\n",
       " '      1  MAR.BEG Marker               0.000   0.000  5.0000E+00',\n",
       " '      2  P1      Pipe                 1.000   1.000  5.2000E+00',\n",
       " '      3  B1      Sbend                1.200   0.200  5.1295E+00',\n",
       " '# Index  name    key                      s       l      beta_a',\n",
       " '# Values shown are for the Exit End of each Element:']"
      ]
     },
     "execution_count": 8,
     "metadata": {},
     "output_type": "execute_result"
    }
   ],
   "source": [
    "tao.cmd('show lat 1:3 -at beta_a')"
   ]
  },
  {
   "cell_type": "code",
   "execution_count": 52,
   "id": "7684dac5-c201-4688-80c9-573cbb4fcbef",
   "metadata": {},
   "outputs": [
    {
     "data": {
      "text/plain": [
       "[['',\n",
       "  '\\x1b[34mTao\\x1b[0m: show ele 2:3',\n",
       "  '         2  P1                                               1.000',\n",
       "  '         3  B1                                               1.200',\n",
       "  'Number of Matches: 2',\n",
       "  '',\n",
       "  '\\x1b[34mTao\\x1b[0m: sho lat 5:6 -at key',\n",
       "  '# Values shown are for the Exit End of each Element:',\n",
       "  '# Index  name  key                      s       l  key',\n",
       "  '      5  P2\\\\Q1 Quadrupole           1.550   0.100  Quadrupole',\n",
       "  '      6  P2#2  Pipe                 1.850   0.300  Pipe',\n",
       "  '# Index  name  key                      s       l  key',\n",
       "  '# Values shown are for the Exit End of each Element:']]"
      ]
     },
     "execution_count": 52,
     "metadata": {},
     "output_type": "execute_result"
    }
   ],
   "source": [
    "tao.cmds(['show ele 2:3; sho lat 5:6 -at key'])"
   ]
  },
  {
   "cell_type": "markdown",
   "id": "91b4b2e2-61a3-4f90-a23f-675a8c508c0c",
   "metadata": {},
   "source": [
    "## Tao magic\n",
    "#### The `%%tao` header allows the commands to run cleanly\n",
    "#### Note that commenting in Tao use `!`, not `#`"
   ]
  },
  {
   "cell_type": "code",
   "execution_count": 27,
   "id": "4442d198-1a5b-4fd3-9b70-521bc13787a9",
   "metadata": {
    "tags": []
   },
   "outputs": [
    {
     "name": "stdout",
     "output_type": "stream",
     "text": [
      "-------------------------\n",
      "Tao> sho lat -s 1.5:2.3 -at eta_x\n",
      "# Values shown are for the Exit End of each Element:\n",
      "# Index  name  key                      s       l       eta_x\n",
      "      5  P2\\Q1 Quadrupole           1.550   0.100  7.9123E-02\n",
      "      6  P2#2  Pipe                 1.850   0.300  1.3202E-01\n",
      "      7  P2\\Q2 Quadrupole           1.950   0.100  1.4965E-01\n",
      "      8  P2#3  Pipe                 2.200   0.250  1.9374E-01\n",
      "# Index  name  key                      s       l       eta_x\n",
      "# Values shown are for the Exit End of each Element:\n",
      "-------------------------\n",
      "Tao> \n"
     ]
    }
   ],
   "source": [
    "%%tao\n",
    "sho lat -s 1.5:2.3 -at eta_x"
   ]
  },
  {
   "cell_type": "markdown",
   "id": "c6f6a0d6-7ba4-465d-9b1f-32dd3af30729",
   "metadata": {},
   "source": [
    "### Try the following commands \n",
    "##### Uncomment by removing the `!`"
   ]
  },
  {
   "cell_type": "code",
   "execution_count": 53,
   "id": "577bf6ef-6329-4a3f-8fa9-d4ba4bcfb09e",
   "metadata": {},
   "outputs": [
    {
     "name": "stdout",
     "output_type": "stream",
     "text": [
      "-------------------------\n",
      "Tao> !sho lat -lords quad::* -at l\n",
      "-------------------------\n",
      "Tao> !sho lat -no_label_lines -tracking_elements B* -at b_field\n",
      "-------------------------\n",
      "Tao> !sho -write ele_3.dat ele 3 \n",
      "-------------------------\n",
      "Tao> !sho mat 1 3 \n",
      "-------------------------\n",
      "Tao> !sho uni\n",
      "-------------------------\n",
      "Tao> !sho global\n",
      "-------------------------\n",
      "Tao> !alias\n",
      "-------------------------\n",
      "Tao> \n"
     ]
    }
   ],
   "source": [
    "%%tao\n",
    "!sho lat -lords quad::* -at l\n",
    "!sho lat -no_label_lines -tracking_elements B* -at b_field\n",
    "!sho -write ele_3.dat ele 3 \n",
    "!sho mat 1 3 \n",
    "!sho uni\n",
    "!sho global\n",
    "!alias"
   ]
  },
  {
   "cell_type": "markdown",
   "id": "28646ff6-04a0-4e7f-add2-da6adb61e558",
   "metadata": {},
   "source": [
    "## Tao optimiaztion"
   ]
  },
  {
   "cell_type": "code",
   "execution_count": 51,
   "id": "77cafa3f-da4c-46b0-a202-4a86f7a915b7",
   "metadata": {},
   "outputs": [
    {
     "name": "stdout",
     "output_type": "stream",
     "text": [
      "-------------------------\n",
      "Tao> sho top\n",
      "\n",
      "! Top 10\n",
      "\n",
      "Constraints                     Ref_Ele    Start_Ele   Ele/S    Meas-or-Lim    Model       Merit      Max_Loc\n",
      "twiss.end[3]  beta.b <target>                         END        1.2500E+01   1.7445E+00  1.157E+03\n",
      "twiss.end[4]  alpha.b <target>                        END       -1.0000E+00  -4.7046E-01  2.804E+01\n",
      "twiss.end[1]  beta.a <target>                         END        1.2500E+01   1.1892E+01  3.693E+00\n",
      "twiss.end[2]  alpha.a <target>                        END       -1.0000E+00  -1.1741E+00  3.030E+00\n",
      "twiss.end[5]  eta.x <target>                          END        0.0000E+00  -1.3878E-16  1.926E-31\n",
      "twiss.max[2]  eta.x <abs_max>             Q1          END        1.0000E+00   2.1440E-01  0.000E+00  B2\n",
      "twiss.max[1]  beta.a <max>                Q1          END        1.0000E+02   1.1892E+01  0.000E+00  P5\n",
      "twiss.end[6]  etap.x <target>                         END        0.0000E+00   0.0000E+00  0.000E+00\n",
      "Constraints                     Ref_Ele    Start_Ele   Ele/S    Meas-or-Lim    Model       Merit      Max_Loc\n",
      "\n",
      " figure of merit: 0.000000E+00\n",
      "\n",
      "List of non-zero contributors to the Merit Function:\n",
      "Name                                          Merit           Sigma [= sqrt(Chi^2/N)]\n",
      "twiss.end                                     1.1916E+03      4.8241E+00\n",
      "-------------------------\n",
      "Tao> \n"
     ]
    }
   ],
   "source": [
    "%%tao\n",
    "sho top"
   ]
  },
  {
   "cell_type": "markdown",
   "id": "7bfc328b-a32c-418d-8207-c946a4cc3bdc",
   "metadata": {},
   "source": [
    "## Tao method commands\n",
    "#### These give clean parsing and further data processing"
   ]
  },
  {
   "cell_type": "code",
   "execution_count": 63,
   "id": "1c64e50b-7b1a-4d6a-8b5b-32b1ca357504",
   "metadata": {},
   "outputs": [
    {
     "data": {
      "text/plain": [
       "{'x': 0.0,\n",
       " 'px': 0.0,\n",
       " 'y': 0.0,\n",
       " 'py': 0.0,\n",
       " 'z': 0.0,\n",
       " 'pz': 0.0,\n",
       " 'spin': array([0., 0., 0.]),\n",
       " 'field': array([0., 0.]),\n",
       " 'phase': array([0., 0.]),\n",
       " 's': 1.5,\n",
       " 't': 5.01000676656434e-09,\n",
       " 'charge': 0.0,\n",
       " 'dt_ref': 0.0,\n",
       " 'p0c': 9986935.46955716,\n",
       " 'beta': 0.998693546955716,\n",
       " 'ix_ele': 5,\n",
       " 'state': 'Alive',\n",
       " 'direction': 1,\n",
       " 'species': 'Positron',\n",
       " 'location': 'Inside'}"
      ]
     },
     "execution_count": 63,
     "metadata": {},
     "output_type": "execute_result"
    }
   ],
   "source": [
    "tao.orbit_at_s(s_offset=1.5)"
   ]
  },
  {
   "cell_type": "code",
   "execution_count": 60,
   "id": "060cde43-cea2-452b-bb91-fb1e507e465e",
   "metadata": {},
   "outputs": [
    {
     "data": {
      "text/plain": [
       "array([ 1.18923327e+01, -1.17408115e+00,  1.74447511e+00, -4.70463955e-01,\n",
       "       -1.38777878e-16,  0.00000000e+00])"
      ]
     },
     "execution_count": 60,
     "metadata": {},
     "output_type": "execute_result"
    }
   ],
   "source": [
    "tao.evaluate('data::twiss.end[1:6]|model')"
   ]
  },
  {
   "cell_type": "code",
   "execution_count": 64,
   "id": "5307a644-a2d1-4584-85c9-e241b906e54d",
   "metadata": {},
   "outputs": [
    {
     "name": "stdout",
     "output_type": "stream",
     "text": [
      "python lat_list -array_out -track_only @>>*|model ele.s\n"
     ]
    },
    {
     "data": {
      "text/plain": [
       "array([0.  , 0.  , 1.  , 1.2 , 1.45])"
      ]
     },
     "execution_count": 64,
     "metadata": {},
     "output_type": "execute_result"
    }
   ],
   "source": [
    "s = tao.lat_list('*', 'ele.s', verbose=True)\n",
    "s[0:5]"
   ]
  },
  {
   "cell_type": "code",
   "execution_count": 65,
   "id": "d2a25ee0-8d3e-481f-8212-c3ddcfed038c",
   "metadata": {},
   "outputs": [
    {
     "data": {
      "text/plain": [
       "['BEGINNING', 'MAR.BEG', 'P1', 'B1', 'P2#1']"
      ]
     },
     "execution_count": 65,
     "metadata": {},
     "output_type": "execute_result"
    }
   ],
   "source": [
    "names = tao.lat_list('*', 'ele.name')\n",
    "names[0:5]"
   ]
  },
  {
   "cell_type": "code",
   "execution_count": 77,
   "id": "316f408f-bccb-4b22-a412-f8354b256ea0",
   "metadata": {},
   "outputs": [
    {
     "data": {
      "text/plain": [
       "Text(0, 0.5, '$\\\\eta_x$ (m)')"
      ]
     },
     "execution_count": 77,
     "metadata": {},
     "output_type": "execute_result"
    },
    {
     "data": {
      "image/png": "[encoded data removed]",
      "text/plain": [
       "<Figure size 640x480 with 1 Axes>"
      ]
     },
     "metadata": {
      "image/png": {
       "height": 432,
       "width": 578
      }
     },
     "output_type": "display_data"
    }
   ],
   "source": [
    "%config InlineBackend.figure_format = 'retina'\n",
    "import matplotlib.pyplot as plt\n",
    "import numpy as np\n",
    "\n",
    "plt.plot(\n",
    "    tao.lat_list('*', 'ele.s'),\n",
    "    tao.lat_list('*', 'ele.a.eta'),\n",
    "    marker='.'\n",
    ")\n",
    "\n",
    "plt.xlabel('s (m)')\n",
    "plt.ylabel(r'$\\eta_x$ (m)')"
   ]
  },
  {
   "cell_type": "markdown",
   "id": "cfa671b0-e93f-4282-94c4-cd03e51e159a",
   "metadata": {},
   "source": [
    "## Other useful commands"
   ]
  },
  {
   "cell_type": "code",
   "execution_count": 75,
   "id": "2388c5e1-890d-40bc-ae41-08ec2cee4189",
   "metadata": {},
   "outputs": [
    {
     "name": "stdout",
     "output_type": "stream",
     "text": [
      "['beam', 'beam_init', 'bmad_com', 'branch1', 'building_wall_graph', 'building_wall_list', 'building_wall_point', 'building_wall_section', 'bunch1', 'bunch_comb', 'bunch_params', 'constraints', 'da_aperture', 'da_params', 'data', 'data_d1_array', 'data_d2', 'data_d2_array', 'data_d2_create', 'data_d2_destroy', 'data_d_array', 'data_parameter', 'data_set_design_value', 'datum_create', 'datum_has_ele', 'derivative', 'ele_ac_kicker', 'ele_cartesian_map', 'ele_chamber_wall', 'ele_control_var', 'ele_cylindrical_map', 'ele_elec_multipoles', 'ele_floor', 'ele_gen_attribs', 'ele_grid_field', 'ele_head', 'ele_lord_slave', 'ele_mat6', 'ele_methods', 'ele_multipoles', 'ele_orbit', 'ele_param', 'ele_photon', 'ele_spin_taylor', 'ele_taylor', 'ele_taylor_field', 'ele_twiss', 'ele_wake', 'ele_wall3d', 'em_field', 'enum', 'evaluate', 'floor_orbit', 'floor_plan', 'help', 'inum', 'lat_branch_list', 'lat_calc_done', 'lat_ele_list', 'lat_list', 'lat_param_units', 'matrix', 'merit', 'orbit_at_s', 'parse_tao_python_data', 'place_buffer', 'plot1', 'plot_curve', 'plot_curve_manage', 'plot_graph', 'plot_graph_manage', 'plot_histogram', 'plot_lat_layout', 'plot_line', 'plot_list', 'plot_symbol', 'plot_template_manage', 'plot_transfer', 'ptc_com', 'ring_general', 'shape_list', 'shape_manage', 'shape_pattern_list', 'shape_pattern_manage', 'shape_pattern_point_manage', 'shape_set', 'show', 'species_to_int', 'species_to_str', 'spin_invariant', 'spin_polarization', 'spin_resonance', 'super_universe', 'tao_global', 'tao_parameter_dict', 'twiss_at_s', 'universe', 'var', 'var_create', 'var_general', 'var_v1_array', 'var_v1_create', 'var_v1_destroy', 'var_v_array', 'wave']\n"
     ]
    }
   ],
   "source": [
    "from pytao import interface_commands\n",
    "all_cmds = [name for name in dir(interface_commands) if not name.startswith('__')]\n",
    "print(all_cmds)"
   ]
  },
  {
   "cell_type": "markdown",
   "id": "039e6645-e06f-49a4-a7c3-34f306beeeeb",
   "metadata": {},
   "source": [
    "## Tao optimization\n",
    "#### Tao data and variables are defined in `tao.init`\n",
    "#### run 'alias' to learn some special commands below"
   ]
  },
  {
   "cell_type": "code",
   "execution_count": 141,
   "id": "984b096d-daa2-4397-81e0-3d2d6cd4b213",
   "metadata": {},
   "outputs": [
    {
     "name": "stdout",
     "output_type": "stream",
     "text": [
      "-------------------------\n",
      "Tao> sho dat\n",
      "\n",
      "  Name                                 Using for Optimization\n",
      "  twiss.end[1:6]                                 Using: 1:6\n",
      "  twiss.max[1:2]                                 Using: 1:2\n",
      "-------------------------\n",
      "Tao> sho var\n",
      "       Name                                      Using for Optimization\n",
      "    quad[1:6]                                    1:6\n",
      "-------------------------\n",
      "Tao> \n"
     ]
    }
   ],
   "source": [
    "%%tao\n",
    "sho dat\n",
    "sho var"
   ]
  },
  {
   "cell_type": "code",
   "execution_count": 134,
   "id": "055aca61-8d74-42b0-a0a0-309e32954805",
   "metadata": {},
   "outputs": [
    {
     "name": "stdout",
     "output_type": "stream",
     "text": [
      "-------------------------\n",
      "Tao> SLD\n",
      "-------------------------\n",
      "Tao> vv\n",
      "  quad[1:6]                                      Using:\n",
      "-------------------------\n",
      "Tao> vd\n",
      "  twiss.end[1:6]                                 Using:\n",
      "  twiss.max[1:2]                                 Using:\n",
      "-------------------------\n",
      "Tao> use dat twiss.end[1:6]\n",
      "  twiss.end[1:6]                                 Using: 1:6\n",
      "  twiss.max[1:2]                                 Using:\n",
      "-------------------------\n",
      "Tao> use dat twiss.max[1:2]\n",
      "  twiss.end[1:6]                                 Using: 1:6\n",
      "  twiss.max[1:2]                                 Using: 1:2\n",
      "-------------------------\n",
      "Tao> use var quad[1:6]\n",
      "  quad[1:6]                                      Using: 1:6\n",
      "-------------------------\n",
      "Tao> \n"
     ]
    }
   ],
   "source": [
    "%%tao \n",
    "SLD\n",
    "vv\n",
    "vd\n",
    "use dat twiss.end[1:6]\n",
    "use dat twiss.max[1:2]\n",
    "use var quad[1:6]"
   ]
  },
  {
   "cell_type": "markdown",
   "id": "92eedd90-f3ec-4c82-8c00-678e353e379c",
   "metadata": {},
   "source": [
    "#### Note that the merit value is high due to optics mismatching"
   ]
  },
  {
   "cell_type": "code",
   "execution_count": 95,
   "id": "5c55728e-e271-4416-b21b-74b0c22b33f1",
   "metadata": {},
   "outputs": [
    {
     "name": "stdout",
     "output_type": "stream",
     "text": [
      "-------------------------\n",
      "Tao> sho merit\n",
      "\n",
      "! Top 10\n",
      "\n",
      "Constraints                     Ref_Ele    Start_Ele   Ele/S    Meas-or-Lim    Model       Merit      Max_Loc\n",
      "twiss.end[3]  beta.b <target>                         END        1.2500E+01   1.7445E+00  1.157E+03\n",
      "twiss.end[4]  alpha.b <target>                        END       -1.0000E+00  -4.7046E-01  2.804E+01\n",
      "twiss.end[1]  beta.a <target>                         END        1.2500E+01   1.1892E+01  3.693E+00\n",
      "twiss.end[2]  alpha.a <target>                        END       -1.0000E+00  -1.1741E+00  3.030E+00\n",
      "twiss.end[5]  eta.x <target>                          END        0.0000E+00  -1.3878E-16  1.926E-31\n",
      "quad[6]       Q6[K1]                                  4.35      -1.0000E+30   0.0000E+00  0.000E+00\n",
      "quad[5]       Q5[K1]                                  3.95      -1.0000E+30   0.0000E+00  0.000E+00\n",
      "quad[4]       Q4[K1]                                  3.15      -1.0000E+30   0.0000E+00  0.000E+00\n",
      "quad[3]       Q3[K1]                                  2.75      -1.0000E+30   0.0000E+00  0.000E+00\n",
      "quad[2]       Q2[K1]                                  1.95      -1.0000E+30   0.0000E+00  0.000E+00\n",
      "Constraints                     Ref_Ele    Start_Ele   Ele/S    Meas-or-Lim    Model       Merit      Max_Loc\n",
      "\n",
      " figure of merit: 1.191577E+03\n",
      "\n",
      "List of non-zero contributors to the Merit Function:\n",
      "Name                                          Merit           Sigma [= sqrt(Chi^2/N)]\n",
      "twiss.end                                     1.1916E+03      4.8241E+00\n",
      "-------------------------\n",
      "Tao> \n"
     ]
    }
   ],
   "source": [
    "%%tao\n",
    "sho merit"
   ]
  },
  {
   "cell_type": "code",
   "execution_count": 108,
   "id": "ff6da61e-2743-4d73-ac32-05600f6a445a",
   "metadata": {},
   "outputs": [
    {
     "name": "stdout",
     "output_type": "stream",
     "text": [
      "-------------------------\n",
      "Tao> run\n",
      "Optimizing with: lmdif\n",
      "Type ``.'' to stop the optimizer before it's finished.\n",
      "  Cycle      Merit\n",
      "    1    1.6616E+00\n",
      "    2    1.6616E+00\n",
      "    3    1.6616E+00\n",
      "    4    1.6616E+00\n",
      "    5    1.6616E+00\n",
      "    6    1.6616E+00\n",
      "    7    1.6616E+00\n",
      "    8    2.7780E+03\n",
      "    9    1.2958E+02\n",
      "   10    1.6238E+00\n",
      "   11    1.6238E+00\n",
      "   12    1.6238E+00\n",
      "   13    1.6238E+00\n",
      "   14    1.6238E+00\n",
      "   15    1.6238E+00\n",
      "   16    1.6238E+00\n",
      "   17    1.5818E+00\n",
      "   18    1.5818E+00\n",
      "   19    1.5818E+00\n",
      "   20    1.5818E+00\n",
      "   21    1.5818E+00\n",
      "   22    1.5818E+00\n",
      "   23    1.5818E+00\n",
      "   24    1.5398E+00\n",
      "   25    1.5398E+00\n",
      "   26    1.5398E+00\n",
      "   27    1.5398E+00\n",
      "   28    1.5398E+00\n",
      "   29    1.5398E+00\n",
      "   30    1.5398E+00\n",
      "   31    1.4983E+00\n",
      "   32    1.4983E+00\n",
      "   33    1.4983E+00\n",
      "   34    1.4983E+00\n",
      "   35    1.4983E+00\n",
      "   36    1.4983E+00\n",
      "   37    1.4983E+00\n",
      "   38    1.4574E+00\n",
      "   39    1.4574E+00\n",
      "   40    1.4574E+00\n",
      "   41    1.4574E+00\n",
      "   42    1.4574E+00\n",
      "   43    1.4574E+00\n",
      "   44    1.4574E+00\n",
      "   45    1.4173E+00\n",
      "   46    1.4173E+00\n",
      "   47    1.4173E+00\n",
      "   48    1.4173E+00\n",
      "   49    1.4173E+00\n",
      "   50    1.4173E+00\n",
      "   51    1.4173E+00\n",
      "   52    1.3782E+00\n",
      "   53    1.3782E+00\n",
      "   54    1.3782E+00\n",
      "   55    1.3782E+00\n",
      "   56    1.3782E+00\n",
      "   57    1.3782E+00\n",
      "   58    1.3782E+00\n",
      "   59    1.3401E+00\n",
      "   60    1.3401E+00\n",
      "   61    1.3401E+00\n",
      "   62    1.3401E+00\n",
      "   63    1.3401E+00\n",
      "   64    1.3401E+00\n",
      "   65    1.3401E+00\n",
      "   66    1.3033E+00\n",
      "   67    1.3033E+00\n",
      "   68    1.3033E+00\n",
      "   69    1.3033E+00\n",
      "   70    1.3033E+00\n",
      "   71    1.3033E+00\n",
      "   72    1.3033E+00\n",
      "   73    1.3868E+00\n",
      "   74    1.2738E+00\n",
      "   75    1.2738E+00\n",
      "   76    1.2738E+00\n",
      "   77    1.2738E+00\n",
      "   78    1.2738E+00\n",
      "   79    1.2738E+00\n",
      "   80    1.2738E+00\n",
      "   81    1.2498E+00\n",
      "   82    1.2498E+00\n",
      "   83    1.2498E+00\n",
      "   84    1.2498E+00\n",
      "   85    1.2498E+00\n",
      "   86    1.2498E+00\n",
      "   87    1.2498E+00\n",
      "   88    1.2146E+00\n",
      "   89    1.2146E+00\n",
      "   90    1.2146E+00\n",
      "   91    1.2146E+00\n",
      "   92    1.2146E+00\n",
      "   93    1.2146E+00\n",
      "   94    1.2146E+00\n",
      "   95    1.1806E+00\n",
      "   96    1.1806E+00\n",
      "   97    1.1806E+00\n",
      "   98    1.1806E+00\n",
      "   99    1.1806E+00\n",
      "  100    1.1806E+00\n",
      "Written: var1.out\n",
      "-------------------------\n",
      "Tao> \n"
     ]
    }
   ],
   "source": [
    "%%tao\n",
    "run"
   ]
  },
  {
   "cell_type": "markdown",
   "id": "2f4420d4-7b8c-42e9-b343-ef635836fb09",
   "metadata": {},
   "source": [
    "#### Optimization above fails to converge.\n",
    "#### A better initial guess is required.\n",
    "#### We can call optimization using an external tao script. "
   ]
  },
  {
   "cell_type": "code",
   "execution_count": 135,
   "id": "56e96e4f-c1af-49c3-82dc-3f2e204bac1f",
   "metadata": {},
   "outputs": [
    {
     "name": "stdout",
     "output_type": "stream",
     "text": [
      "-------------------------\n",
      "Tao> call Optimize.tao\n",
      "\n",
      "\u001b[34mTao\u001b[0m: ! Some educational \"guess\" of the initial condition\n",
      "\n",
      "\u001b[34mTao\u001b[0m: set ele Q1 k1 = 6\n",
      "\n",
      "\u001b[34mTao\u001b[0m: set ele Q2 k1 = -18\n",
      "\n",
      "\u001b[34mTao\u001b[0m: set ele Q3 k1 = 16\n",
      "\n",
      "\u001b[34mTao\u001b[0m: set ele Q4 k1 = -16\n",
      "\n",
      "\u001b[34mTao\u001b[0m: set ele Q5 k1 = -1.4\n",
      "\n",
      "\u001b[34mTao\u001b[0m: set ele Q6 k1 = 2.4\n",
      "\n",
      "\u001b[34mTao\u001b[0m: set global quiet = all ! This prevents further output messages to terminal\n",
      "-------------------------\n",
      "Tao> \n"
     ]
    }
   ],
   "source": [
    "%%tao\n",
    "call Optimize.tao"
   ]
  },
  {
   "cell_type": "markdown",
   "id": "f6db40a5-a04b-450f-9258-92083e5cfa84",
   "metadata": {},
   "source": [
    "#### Merit has dropped significantly. Optimization complete."
   ]
  },
  {
   "cell_type": "code",
   "execution_count": 136,
   "id": "d8fa6135-193e-4ed8-a6d5-1343a527fa62",
   "metadata": {},
   "outputs": [
    {
     "data": {
      "text/plain": [
       "['  6.52063184606780E-28']"
      ]
     },
     "execution_count": 136,
     "metadata": {},
     "output_type": "execute_result"
    }
   ],
   "source": [
    "tao.merit()"
   ]
  },
  {
   "cell_type": "code",
   "execution_count": 138,
   "id": "7cd104ac-6fc8-4044-b7d3-f56b40f6ae91",
   "metadata": {},
   "outputs": [
    {
     "data": {
      "text/plain": [
       "Text(0, 0.5, '$\\\\beta_x$ (m)')"
      ]
     },
     "execution_count": 138,
     "metadata": {},
     "output_type": "execute_result"
    },
    {
     "data": {
      "image/png": "[encoded data removed]",
      "text/plain": [
       "<Figure size 640x480 with 1 Axes>"
      ]
     },
     "metadata": {
      "image/png": {
       "height": 432,
       "width": 564
      }
     },
     "output_type": "display_data"
    }
   ],
   "source": [
    "plt.plot(\n",
    "    tao.lat_list('*', 'ele.s'),\n",
    "    tao.lat_list('*', 'ele.a.beta'),\n",
    "    marker='.'\n",
    ")\n",
    "\n",
    "plt.xlabel('s (m)')\n",
    "plt.ylabel(r'$\\beta_x$ (m)')"
   ]
  },
  {
   "cell_type": "code",
   "execution_count": 140,
   "id": "0c862c51-d25c-4411-9337-8c3fed90ecbb",
   "metadata": {},
   "outputs": [
    {
     "name": "stdout",
     "output_type": "stream",
     "text": [
      "-------------------------\n",
      "Tao> beamon\n",
      "[WARNING] calc_emittances_and_twiss_from_sigma_matrix:\n",
      "    Cannot normalize some eigenvectors.\n",
      "    Note: This can happen if the emittance of a normal mode is very small or zero.\n",
      "    This will throw off the emittance and other calculations.\n",
      "[WARNING] calc_emittances_and_twiss_from_sigma_matrix:\n",
      "    Cannot normalize some eigenvectors.\n",
      "    Note: This can happen if the emittance of a normal mode is very small or zero.\n",
      "    This will throw off the emittance and other calculations.\n",
      "-------------------------\n",
      "Tao> \n"
     ]
    }
   ],
   "source": [
    "%%tao\n",
    "beamon"
   ]
  },
  {
   "cell_type": "code",
   "execution_count": null,
   "id": "08694197-0280-4b83-a812-0dcc711ee0cd",
   "metadata": {},
   "outputs": [],
   "source": []
  }
 ],
 "metadata": {
  "kernelspec": {
   "display_name": "Lcls-live",
   "language": "python",
   "name": "lcls-live"
  },
  "language_info": {
   "codemirror_mode": {
    "name": "ipython",
    "version": 3
   },
   "file_extension": ".py",
   "mimetype": "text/x-python",
   "name": "python",
   "nbconvert_exporter": "python",
   "pygments_lexer": "ipython3",
   "version": "3.8.15"
  }
 },
 "nbformat": 4,
 "nbformat_minor": 5
}
