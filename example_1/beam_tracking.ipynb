{
 "cells": [
  {
   "cell_type": "markdown",
   "id": "65fb3fd7-d1e6-4412-affb-74cf4810b971",
   "metadata": {},
   "source": [
    "#### Run and understand `pytao_basic_examples.ipynb` first !!"
   ]
  },
  {
   "cell_type": "markdown",
   "id": "70a4c19a-b757-4bb8-b9ee-e770862a97a3",
   "metadata": {},
   "source": [
    "## Tao initialization"
   ]
  },
  {
   "cell_type": "code",
   "execution_count": 1,
   "id": "4b0da2ce-9936-47ca-9afa-55e02167244e",
   "metadata": {},
   "outputs": [],
   "source": [
    "from pytao import Tao"
   ]
  },
  {
   "cell_type": "code",
   "execution_count": 2,
   "id": "29f0e69e-0030-492c-9112-abbefe22c902",
   "metadata": {},
   "outputs": [],
   "source": [
    "# This activates tao, and a plot window (with Xquartz) should pop up.\n",
    "# If this crashes the kernel, try again with -noplot option below.\n",
    "tao = Tao('-init tao.init')\n",
    "\n",
    "#tao = Tao('-init tao.init -noplot')"
   ]
  },
  {
   "cell_type": "markdown",
   "id": "add49a70-6137-417a-96c0-62a06463b6f1",
   "metadata": {},
   "source": [
    "## Turn on the beam\n",
    "#### An artificial beam is defined in `tao.init`.\n",
    "#### Loading in a user-defined beam will be demonstrated in the LCLS-live example.\n",
    "#### Detailed examples available at:\n",
    "#### 'https://bmad-sim.github.io/pytao/examples/bunch/'"
   ]
  },
  {
   "cell_type": "code",
   "execution_count": 3,
   "id": "50863488-47e2-4126-b8c6-665f1514f57c",
   "metadata": {},
   "outputs": [
    {
     "name": "stdout",
     "output_type": "stream",
     "text": [
      "-------------------------\n",
      "Tao> beamon\n",
      "-------------------------\n",
      "Tao> \n"
     ]
    }
   ],
   "source": [
    "%%tao\n",
    "beamon"
   ]
  },
  {
   "cell_type": "code",
   "execution_count": 4,
   "id": "b7e466f9-9050-4d85-a35f-e8382d5df40a",
   "metadata": {},
   "outputs": [
    {
     "name": "stdout",
     "output_type": "stream",
     "text": [
      "-------------------------\n",
      "Tao> sho beam END\n",
      "Bunch parameters at: END (24)\n",
      "  Parameters for bunch:       1\n",
      "  S-position:                   5.80000000E+00\n",
      "  In branch:                  0\n",
      "  Particles surviving:        10000\n",
      "  Particles lost:             0\n",
      "  Particles lost (%):         .000\n",
      "  Charge live (C):              1.00000000E-10\n",
      "  Centroid: -1.53390477E-08  2.81266548E-15 -2.31772935E-14  1.30976852E-12 -2.85646551E-07 -1.58696627E-21\n",
      "  RMS:       7.80058621E-04  1.01160011E-04  2.98761969E-04  1.89268829E-04  6.05652142E-04  1.00000000E-03\n",
      "\n",
      "               norm_emitt            emit            beta           alpha\n",
      "  a:         1.00000552E-06  5.11670244E-08  8.72578680E+00 -8.61463092E-01\n",
      "  b:         9.99999618E-07  5.11667224E-08  1.27997205E+00 -3.45192864E-01\n",
      "  x:         1.00000396E-06  5.11669447E-08  1.18922765E+01 -1.17407228E+00\n",
      "  y:         1.00000121E-06  5.11668041E-08  1.74446530E+00 -4.70454867E-01\n",
      "  z:         1.17181478E-05  5.99579443E-07  6.11786348E-01\n",
      "\n",
      "Sigma Mat       x              px               y              py              z             pz\n",
      "x     6.08491452E-07  6.00736915E-08 -2.62202469E-12 -3.19281796E-13  2.88894429E-13 -1.34831906E-13\n",
      "px    6.00736915E-08  1.02333478E-08 -3.00039599E-13  6.79671394E-14  3.25681487E-14 -1.17245489E-15\n",
      "y    -2.62202469E-12 -3.00039599E-13  8.92587144E-08  2.40716720E-08 -7.64251790E-13  2.17558932E-12\n",
      "py   -3.19281796E-13  6.79671394E-14  2.40716720E-08  3.58226898E-08 -2.15917672E-13 -4.98449909E-13\n",
      "z     2.88894429E-13  3.25681487E-14 -7.64251790E-13 -2.15917672E-13  3.66814517E-07  8.55512085E-08\n",
      "pz   -1.34831906E-13 -1.17245489E-15  2.17558932E-12 -4.98449909E-13  8.55512085E-08  1.00000000E-06\n",
      "Note! The calculation of the emittances from the beam sigma matrix is singular when the emittances are equal!\n",
      "This is due to modes being degenerate. Emittance and Twiss values are untrustworthy in this limit.\n",
      "\n",
      "Note: Individual particle positions are saved at this element.\n",
      "-------------------------\n",
      "Tao> \n"
     ]
    }
   ],
   "source": [
    "%%tao\n",
    "sho beam END"
   ]
  },
  {
   "cell_type": "code",
   "execution_count": 5,
   "id": "fcad7a71-d287-496a-bf32-9b4d92484f52",
   "metadata": {},
   "outputs": [
    {
     "data": {
      "text/plain": [
       "{'beta_x': 11.8922764508297,\n",
       " 'alpha_x': -1.17407228081764,\n",
       " 'gamma_x': 0.199999195311205,\n",
       " 'phi_x': 0.0,\n",
       " 'eta_x': -1.34831906095454e-07,\n",
       " 'etap_x': -1.17245489269297e-09,\n",
       " 'sigma_x': 0.000780058620668074,\n",
       " 'sigma_p_x': 0.000101160010721901,\n",
       " 'emit_x': 5.11669447136107e-08,\n",
       " 'norm_emit_x': 1.00000396288335e-06,\n",
       " 'beta_y': 1.7444653031207,\n",
       " 'alpha_y': -0.470454867337781,\n",
       " 'gamma_y': 0.700115834930597,\n",
       " 'phi_y': 0.0,\n",
       " 'eta_y': 2.17558931954453e-06,\n",
       " 'etap_y': -4.98449909158126e-07,\n",
       " 'sigma_y': 0.000298761969411354,\n",
       " 'sigma_p_y': 0.000189268829314644,\n",
       " 'emit_y': 5.11668040670539e-08,\n",
       " 'norm_emit_y': 1.00000121409475e-06,\n",
       " 'beta_z': 0.611786347633854,\n",
       " 'alpha_z': -0.142685359825218,\n",
       " 'gamma_z': 1.66783570090244,\n",
       " 'phi_z': 0.0,\n",
       " 'eta_z': 0.0,\n",
       " 'etap_z': 0.0,\n",
       " 'sigma_z': 0.000605652142193026,\n",
       " 'sigma_p_z': 0.00100000000000008,\n",
       " 'emit_z': 5.99579442662776e-07,\n",
       " 'norm_emit_z': 1.17181477628206e-05,\n",
       " 'beta_a': 8.7257868021372,\n",
       " 'alpha_a': -0.861463091829145,\n",
       " 'gamma_a': 0.146747172545764,\n",
       " 'phi_a': 0.0,\n",
       " 'eta_a': -2.3508328492405e-07,\n",
       " 'etap_a': 3.22588114204108e-09,\n",
       " 'sigma_a': 0.0,\n",
       " 'sigma_p_a': 0.0,\n",
       " 'emit_a': 5.11670243952267e-08,\n",
       " 'norm_emit_a': 1.00000552017648e-06,\n",
       " 'beta_b': 1.27997204825666,\n",
       " 'alpha_b': -0.345192863716238,\n",
       " 'gamma_b': 0.513701847105704,\n",
       " 'phi_b': 0.0,\n",
       " 'eta_b': 3.62050981033921e-06,\n",
       " 'etap_b': -9.77044570090009e-07,\n",
       " 'sigma_b': 0.0,\n",
       " 'sigma_p_b': 0.0,\n",
       " 'emit_b': 5.1166722414564e-08,\n",
       " 'norm_emit_b': 9.99999618282962e-07,\n",
       " 'beta_c': 0.611786407895351,\n",
       " 'alpha_c': -0.142685353026855,\n",
       " 'gamma_c': 1.66783553343713,\n",
       " 'phi_c': 0.0,\n",
       " 'eta_c': 0.142685353026855,\n",
       " 'etap_c': 1.66783553343713,\n",
       " 'sigma_c': 0.0,\n",
       " 'sigma_p_c': 0.0,\n",
       " 'emit_c': 5.99579436766362e-07,\n",
       " 'norm_emit_c': 1.17181476475814e-05,\n",
       " 'sigma_11': 6.08491451678597e-07,\n",
       " 'sigma_12': 6.00736914823792e-08,\n",
       " 'sigma_13': -2.62202469169682e-12,\n",
       " 'sigma_14': -3.19281795527401e-13,\n",
       " 'sigma_15': 2.88894429458805e-13,\n",
       " 'sigma_16': -1.34831906095476e-13,\n",
       " 'sigma_21': 6.00736914823792e-08,\n",
       " 'sigma_22': 1.02333477692551e-08,\n",
       " 'sigma_23': -3.00039599136316e-13,\n",
       " 'sigma_24': 6.79671394458797e-14,\n",
       " 'sigma_25': 3.25681486681292e-14,\n",
       " 'sigma_26': -1.17245489269317e-15,\n",
       " 'sigma_31': -2.62202469169682e-12,\n",
       " 'sigma_32': -3.00039599136316e-13,\n",
       " 'sigma_33': 8.92587143712842e-08,\n",
       " 'sigma_34': 2.40716720183797e-08,\n",
       " 'sigma_35': -7.64251789904113e-13,\n",
       " 'sigma_36': 2.17558931954489e-12,\n",
       " 'sigma_41': -3.19281795527401e-13,\n",
       " 'sigma_42': 6.79671394458797e-14,\n",
       " 'sigma_43': 2.40716720183797e-08,\n",
       " 'sigma_44': 3.58226897503842e-08,\n",
       " 'sigma_45': -2.15917672195852e-13,\n",
       " 'sigma_46': -4.98449909158208e-13,\n",
       " 'sigma_51': 2.88894429458805e-13,\n",
       " 'sigma_52': 3.25681486681292e-14,\n",
       " 'sigma_53': -7.64251789904113e-13,\n",
       " 'sigma_54': -2.15917672195852e-13,\n",
       " 'sigma_55': 3.66814517343002e-07,\n",
       " 'sigma_56': 8.5551208520142e-08,\n",
       " 'sigma_61': -1.34831906095476e-13,\n",
       " 'sigma_62': -1.17245489269317e-15,\n",
       " 'sigma_63': 2.17558931954489e-12,\n",
       " 'sigma_64': -4.98449909158208e-13,\n",
       " 'sigma_65': 8.5551208520142e-08,\n",
       " 'sigma_66': 1.00000000000016e-06,\n",
       " 'rel_min_1': -0.0029615285648953,\n",
       " 'rel_max_1': 0.00341854769431995,\n",
       " 'centroid_vec_1': -1.53390476672749e-08,\n",
       " 'rel_min_2': -0.000388605921916106,\n",
       " 'rel_max_2': 0.000371068888779818,\n",
       " 'centroid_vec_2': 2.81266547693566e-15,\n",
       " 'rel_min_3': -0.00110507009881905,\n",
       " 'rel_max_3': 0.00104439679414812,\n",
       " 'centroid_vec_3': -2.31772934654546e-14,\n",
       " 'rel_min_4': -0.000692475017242158,\n",
       " 'rel_max_4': 0.000747777899092601,\n",
       " 'centroid_vec_4': 1.30976852137742e-12,\n",
       " 'rel_min_5': -0.00219239008904942,\n",
       " 'rel_max_5': 0.00220672844247594,\n",
       " 'centroid_vec_5': -2.85646550555785e-07,\n",
       " 'rel_min_6': -0.00367122617589059,\n",
       " 'rel_max_6': 0.00367159106956149,\n",
       " 'centroid_vec_6': -1.58696627417534e-21,\n",
       " 'centroid_t': 1.93720271188588e-08,\n",
       " 'centroid_p0c': 9986935.46955716,\n",
       " 'centroid_beta': 0.998693546955716,\n",
       " 'ix_ele': 24,\n",
       " 'direction': 1,\n",
       " 'species': 'Positron',\n",
       " 'location': 'Downstream_End',\n",
       " 's': 5.79999999999998,\n",
       " 'charge_live': 9.99999999999837e-11,\n",
       " 'n_particle_tot': 10000,\n",
       " 'n_particle_live': 10000,\n",
       " 'n_particle_lost_in_ele': 0,\n",
       " 'beam_saved': True}"
      ]
     },
     "execution_count": 5,
     "metadata": {},
     "output_type": "execute_result"
    }
   ],
   "source": [
    "stats = tao.bunch_params('end')\n",
    "stats"
   ]
  },
  {
   "cell_type": "code",
   "execution_count": 6,
   "id": "59fc0cfb-70ea-4e9d-ad38-c7f395b382a6",
   "metadata": {},
   "outputs": [
    {
     "data": {
      "text/plain": [
       "True"
      ]
     },
     "execution_count": 6,
     "metadata": {},
     "output_type": "execute_result"
    }
   ],
   "source": [
    "stats['beam_saved']"
   ]
  },
  {
   "cell_type": "markdown",
   "id": "847c1d26-1239-4a35-9ddd-97a9d549476a",
   "metadata": {},
   "source": [
    "### x coordinate of the first 10 particles"
   ]
  },
  {
   "cell_type": "code",
   "execution_count": 7,
   "id": "2c888244-c014-4adf-9697-d3c747366e9c",
   "metadata": {},
   "outputs": [
    {
     "data": {
      "text/plain": [
       "array([ 3.04912320e-07, -7.40479375e-04,  7.41642587e-04, -3.48191798e-04,\n",
       "        1.26604057e-03, -3.94364534e-04, -5.21419469e-04,  4.21812874e-05,\n",
       "       -7.50067730e-05, -8.69976494e-04])"
      ]
     },
     "execution_count": 7,
     "metadata": {},
     "output_type": "execute_result"
    }
   ],
   "source": [
    "tao.bunch1('end', 'x')[0:10]"
   ]
  },
  {
   "cell_type": "markdown",
   "id": "2e4e14f6-76a7-43e0-b0a2-bf86cabc75f4",
   "metadata": {},
   "source": [
    "### Plotting"
   ]
  },
  {
   "cell_type": "code",
   "execution_count": 8,
   "id": "6bb221f6-3645-4627-bca4-aef7baa0dc01",
   "metadata": {},
   "outputs": [],
   "source": [
    "import matplotlib.pyplot as plt\n",
    "%matplotlib inline"
   ]
  },
  {
   "cell_type": "code",
   "execution_count": 9,
   "id": "9d225eb5-a72a-4a79-801e-dbc6518c5634",
   "metadata": {},
   "outputs": [],
   "source": [
    "xdat = tao.bunch1('end', 'x')\n",
    "pxdat = tao.bunch1('end', 'px')\n",
    "chargedat = tao.bunch1('end', 'charge')\n",
    "\n",
    "xdata = 1000*xdat\n",
    "ydata = 1000*pxdat\n",
    "weights = chargedat"
   ]
  },
  {
   "cell_type": "code",
   "execution_count": 10,
   "id": "a0b387a1-e7a1-469b-9e9f-7387ae8ee659",
   "metadata": {},
   "outputs": [
    {
     "data": {
      "image/png": "[encoded data removed]",
      "text/plain": [
       "<Figure size 640x480 with 1 Axes>"
      ]
     },
     "metadata": {},
     "output_type": "display_data"
    }
   ],
   "source": [
    "# hist2d\n",
    "\n",
    "mycmap = plt.get_cmap('plasma') # viridis plasma inferno magma and _r versions\n",
    "mycmap.set_under(color='white') # map 0 to this color\n",
    "myvmin = 1e-30 # something tiny\n",
    "# Bin particles\n",
    "plt.hist2d(x=1000*xdata, y=ydata,  bins=2*[40], weights=weights, cmap=mycmap, vmin=myvmin)\n",
    "plt.xlabel('x (mm)')\n",
    "plt.ylabel('px (mrad)')\n",
    "plt.show()"
   ]
  },
  {
   "cell_type": "code",
   "execution_count": 11,
   "id": "f3aaa50e-21dc-4f38-bd89-6f7e8c3d0e0b",
   "metadata": {},
   "outputs": [
    {
     "ename": "RuntimeError",
     "evalue": "ERROR detected: [ERROR | 2023-FEB-06 00:59:45] tao_python_cmd:\n    \"python bunch_comb -array_out s @ 1\": COMB_DS_SAVE NOT POSITIVE.\nINVALID",
     "output_type": "error",
     "traceback": [
      "\u001b[0;31m---------------------------------------------------------------------------\u001b[0m",
      "\u001b[0;31mRuntimeError\u001b[0m                              Traceback (most recent call last)",
      "Cell \u001b[0;32mIn[11], line 1\u001b[0m\n\u001b[0;32m----> 1\u001b[0m s \u001b[38;5;241m=\u001b[39m \u001b[43mtao\u001b[49m\u001b[38;5;241;43m.\u001b[39;49m\u001b[43mbunch_comb\u001b[49m\u001b[43m(\u001b[49m\u001b[38;5;124;43m'\u001b[39;49m\u001b[38;5;124;43ms\u001b[39;49m\u001b[38;5;124;43m'\u001b[39;49m\u001b[43m)\u001b[49m\n\u001b[1;32m      2\u001b[0m mean_x \u001b[38;5;241m=\u001b[39m tao\u001b[38;5;241m.\u001b[39mbunch_comb(\u001b[38;5;124m'\u001b[39m\u001b[38;5;124mx\u001b[39m\u001b[38;5;124m'\u001b[39m)\n\u001b[1;32m      3\u001b[0m max_x \u001b[38;5;241m=\u001b[39m mean_x \u001b[38;5;241m+\u001b[39m tao\u001b[38;5;241m.\u001b[39mbunch_comb(\u001b[38;5;124m'\u001b[39m\u001b[38;5;124mrel_max.1\u001b[39m\u001b[38;5;124m'\u001b[39m)\n",
      "File \u001b[0;32m~/miniconda3/envs/lcls-live/lib/python3.8/site-packages/pytao/interface_commands.py:226\u001b[0m, in \u001b[0;36mbunch_comb\u001b[0;34m(tao, who, ix_uni, ix_branch, ix_bunch, flags, verbose, as_dict, raises)\u001b[0m\n\u001b[1;32m    224\u001b[0m     \u001b[38;5;28;01mreturn\u001b[39;00m __execute(tao, cmd, as_dict, raises, method_name\u001b[38;5;241m=\u001b[39m\u001b[38;5;124m'\u001b[39m\u001b[38;5;124mbunch_comb\u001b[39m\u001b[38;5;124m'\u001b[39m, cmd_type\u001b[38;5;241m=\u001b[39m\u001b[38;5;124m'\u001b[39m\u001b[38;5;124mstring_list\u001b[39m\u001b[38;5;124m'\u001b[39m)\n\u001b[1;32m    225\u001b[0m \u001b[38;5;28;01mif\u001b[39;00m \u001b[38;5;124m'\u001b[39m\u001b[38;5;124m-array_out\u001b[39m\u001b[38;5;124m'\u001b[39m \u001b[38;5;129;01min\u001b[39;00m flags:\n\u001b[0;32m--> 226\u001b[0m     \u001b[38;5;28;01mreturn\u001b[39;00m \u001b[43m__execute\u001b[49m\u001b[43m(\u001b[49m\u001b[43mtao\u001b[49m\u001b[43m,\u001b[49m\u001b[43m \u001b[49m\u001b[43mcmd\u001b[49m\u001b[43m,\u001b[49m\u001b[43m \u001b[49m\u001b[43mas_dict\u001b[49m\u001b[43m,\u001b[49m\u001b[43m \u001b[49m\u001b[43mraises\u001b[49m\u001b[43m,\u001b[49m\u001b[43m \u001b[49m\u001b[43mmethod_name\u001b[49m\u001b[38;5;241;43m=\u001b[39;49m\u001b[38;5;124;43m'\u001b[39;49m\u001b[38;5;124;43mbunch_comb\u001b[39;49m\u001b[38;5;124;43m'\u001b[39;49m\u001b[43m,\u001b[49m\u001b[43m \u001b[49m\u001b[43mcmd_type\u001b[49m\u001b[38;5;241;43m=\u001b[39;49m\u001b[38;5;124;43m'\u001b[39;49m\u001b[38;5;124;43mreal_array\u001b[39;49m\u001b[38;5;124;43m'\u001b[39;49m\u001b[43m)\u001b[49m\n",
      "File \u001b[0;32m~/miniconda3/envs/lcls-live/lib/python3.8/site-packages/pytao/interface_commands.py:14\u001b[0m, in \u001b[0;36m__execute\u001b[0;34m(tao, cmd, as_dict, raises, method_name, cmd_type)\u001b[0m\n\u001b[1;32m      8\u001b[0m func_for_type \u001b[38;5;241m=\u001b[39m {\n\u001b[1;32m      9\u001b[0m     \u001b[38;5;124m\"\u001b[39m\u001b[38;5;124mstring_list\u001b[39m\u001b[38;5;124m\"\u001b[39m: tao\u001b[38;5;241m.\u001b[39mcmd,\n\u001b[1;32m     10\u001b[0m     \u001b[38;5;124m\"\u001b[39m\u001b[38;5;124mreal_array\u001b[39m\u001b[38;5;124m\"\u001b[39m: tao\u001b[38;5;241m.\u001b[39mcmd_real,\n\u001b[1;32m     11\u001b[0m     \u001b[38;5;124m\"\u001b[39m\u001b[38;5;124minteger_array\u001b[39m\u001b[38;5;124m\"\u001b[39m: tao\u001b[38;5;241m.\u001b[39mcmd_integer\n\u001b[1;32m     12\u001b[0m }\n\u001b[1;32m     13\u001b[0m func \u001b[38;5;241m=\u001b[39m func_for_type\u001b[38;5;241m.\u001b[39mget(cmd_type, tao\u001b[38;5;241m.\u001b[39mcmd)\n\u001b[0;32m---> 14\u001b[0m ret \u001b[38;5;241m=\u001b[39m \u001b[43mfunc\u001b[49m\u001b[43m(\u001b[49m\u001b[43mcmd\u001b[49m\u001b[43m,\u001b[49m\u001b[43m \u001b[49m\u001b[43mraises\u001b[49m\u001b[38;5;241;43m=\u001b[39;49m\u001b[43mraises\u001b[49m\u001b[43m)\u001b[49m\n\u001b[1;32m     15\u001b[0m special_parser \u001b[38;5;241m=\u001b[39m \u001b[38;5;28mgetattr\u001b[39m(__parsers, \u001b[38;5;124mf\u001b[39m\u001b[38;5;124m'\u001b[39m\u001b[38;5;124mparse_\u001b[39m\u001b[38;5;132;01m{\u001b[39;00mmethod_name\u001b[38;5;132;01m}\u001b[39;00m\u001b[38;5;124m'\u001b[39m, \u001b[38;5;124m\"\u001b[39m\u001b[38;5;124m\"\u001b[39m)\n\u001b[1;32m     16\u001b[0m \u001b[38;5;28;01mif\u001b[39;00m special_parser:\n",
      "File \u001b[0;32m~/miniconda3/envs/lcls-live/lib/python3.8/site-packages/pytao/tao_ctypes/core.py:229\u001b[0m, in \u001b[0;36mTao.cmd_real\u001b[0;34m(self, cmd, raises)\u001b[0m\n\u001b[1;32m    227\u001b[0m \u001b[38;5;28mself\u001b[39m\u001b[38;5;241m.\u001b[39mreset_output()\n\u001b[1;32m    228\u001b[0m \u001b[38;5;28;01mif\u001b[39;00m raises:\n\u001b[0;32m--> 229\u001b[0m     \u001b[38;5;28;01mraise\u001b[39;00m \u001b[38;5;167;01mRuntimeError\u001b[39;00m(err)\n\u001b[1;32m    230\u001b[0m \u001b[38;5;28;01melse\u001b[39;00m:\n\u001b[1;32m    231\u001b[0m     \u001b[38;5;28;01mreturn\u001b[39;00m \u001b[38;5;28;01mNone\u001b[39;00m\n",
      "\u001b[0;31mRuntimeError\u001b[0m: ERROR detected: [ERROR | 2023-FEB-06 00:59:45] tao_python_cmd:\n    \"python bunch_comb -array_out s @ 1\": COMB_DS_SAVE NOT POSITIVE.\nINVALID"
     ]
    }
   ],
   "source": [
    "s = tao.bunch_comb('s')\n",
    "mean_x = tao.bunch_comb('x')\n",
    "max_x = mean_x + tao.bunch_comb('rel_max.1')\n",
    "min_x = mean_x + tao.bunch_comb('rel_min.1')\n",
    "sigma_x = np.sqrt(tao.bunch_comb('sigma.11'))\n",
    "fig, ax = plt.subplots()\n",
    "\n",
    "ax.fill_between(s, min_x, max_x, alpha=0.2)\n",
    "ax.plot(s, sigma_x, label=r'$+\\sigma_x$')\n",
    "ax.plot(s, mean_x, label=r'$<x>$', marker='.')\n",
    "ax.plot(s, -sigma_x, label=r'$-\\sigma_x$')\n",
    "ax.set_xlabel('s (m)')\n",
    "ax.set_ylabel('beam sizes (m)')\n",
    "plt.legend()"
   ]
  },
  {
   "cell_type": "code",
   "execution_count": 16,
   "id": "d226cc7e-5b7d-46ab-8b2d-8c66cddceb85",
   "metadata": {},
   "outputs": [
    {
     "ename": "RuntimeError",
     "evalue": "ERROR detected: [ERROR | 2023-FEB-04 20:57:13] tao_python_cmd:\n    \"python bunch_comb -array_out s @ 1\": COMB_DS_SAVE NOT POSITIVE.\nINVALID",
     "output_type": "error",
     "traceback": [
      "\u001b[0;31m---------------------------------------------------------------------------\u001b[0m",
      "\u001b[0;31mRuntimeError\u001b[0m                              Traceback (most recent call last)",
      "Cell \u001b[0;32mIn[16], line 1\u001b[0m\n\u001b[0;32m----> 1\u001b[0m s \u001b[38;5;241m=\u001b[39m \u001b[43mtao\u001b[49m\u001b[38;5;241;43m.\u001b[39;49m\u001b[43mbunch_comb\u001b[49m\u001b[43m(\u001b[49m\u001b[38;5;124;43m'\u001b[39;49m\u001b[38;5;124;43ms\u001b[39;49m\u001b[38;5;124;43m'\u001b[39;49m\u001b[43m)\u001b[49m\n",
      "File \u001b[0;32m~/miniconda3/envs/lcls-live/lib/python3.8/site-packages/pytao/interface_commands.py:226\u001b[0m, in \u001b[0;36mbunch_comb\u001b[0;34m(tao, who, ix_uni, ix_branch, ix_bunch, flags, verbose, as_dict, raises)\u001b[0m\n\u001b[1;32m    224\u001b[0m     \u001b[38;5;28;01mreturn\u001b[39;00m __execute(tao, cmd, as_dict, raises, method_name\u001b[38;5;241m=\u001b[39m\u001b[38;5;124m'\u001b[39m\u001b[38;5;124mbunch_comb\u001b[39m\u001b[38;5;124m'\u001b[39m, cmd_type\u001b[38;5;241m=\u001b[39m\u001b[38;5;124m'\u001b[39m\u001b[38;5;124mstring_list\u001b[39m\u001b[38;5;124m'\u001b[39m)\n\u001b[1;32m    225\u001b[0m \u001b[38;5;28;01mif\u001b[39;00m \u001b[38;5;124m'\u001b[39m\u001b[38;5;124m-array_out\u001b[39m\u001b[38;5;124m'\u001b[39m \u001b[38;5;129;01min\u001b[39;00m flags:\n\u001b[0;32m--> 226\u001b[0m     \u001b[38;5;28;01mreturn\u001b[39;00m \u001b[43m__execute\u001b[49m\u001b[43m(\u001b[49m\u001b[43mtao\u001b[49m\u001b[43m,\u001b[49m\u001b[43m \u001b[49m\u001b[43mcmd\u001b[49m\u001b[43m,\u001b[49m\u001b[43m \u001b[49m\u001b[43mas_dict\u001b[49m\u001b[43m,\u001b[49m\u001b[43m \u001b[49m\u001b[43mraises\u001b[49m\u001b[43m,\u001b[49m\u001b[43m \u001b[49m\u001b[43mmethod_name\u001b[49m\u001b[38;5;241;43m=\u001b[39;49m\u001b[38;5;124;43m'\u001b[39;49m\u001b[38;5;124;43mbunch_comb\u001b[39;49m\u001b[38;5;124;43m'\u001b[39;49m\u001b[43m,\u001b[49m\u001b[43m \u001b[49m\u001b[43mcmd_type\u001b[49m\u001b[38;5;241;43m=\u001b[39;49m\u001b[38;5;124;43m'\u001b[39;49m\u001b[38;5;124;43mreal_array\u001b[39;49m\u001b[38;5;124;43m'\u001b[39;49m\u001b[43m)\u001b[49m\n",
      "File \u001b[0;32m~/miniconda3/envs/lcls-live/lib/python3.8/site-packages/pytao/interface_commands.py:14\u001b[0m, in \u001b[0;36m__execute\u001b[0;34m(tao, cmd, as_dict, raises, method_name, cmd_type)\u001b[0m\n\u001b[1;32m      8\u001b[0m func_for_type \u001b[38;5;241m=\u001b[39m {\n\u001b[1;32m      9\u001b[0m     \u001b[38;5;124m\"\u001b[39m\u001b[38;5;124mstring_list\u001b[39m\u001b[38;5;124m\"\u001b[39m: tao\u001b[38;5;241m.\u001b[39mcmd,\n\u001b[1;32m     10\u001b[0m     \u001b[38;5;124m\"\u001b[39m\u001b[38;5;124mreal_array\u001b[39m\u001b[38;5;124m\"\u001b[39m: tao\u001b[38;5;241m.\u001b[39mcmd_real,\n\u001b[1;32m     11\u001b[0m     \u001b[38;5;124m\"\u001b[39m\u001b[38;5;124minteger_array\u001b[39m\u001b[38;5;124m\"\u001b[39m: tao\u001b[38;5;241m.\u001b[39mcmd_integer\n\u001b[1;32m     12\u001b[0m }\n\u001b[1;32m     13\u001b[0m func \u001b[38;5;241m=\u001b[39m func_for_type\u001b[38;5;241m.\u001b[39mget(cmd_type, tao\u001b[38;5;241m.\u001b[39mcmd)\n\u001b[0;32m---> 14\u001b[0m ret \u001b[38;5;241m=\u001b[39m \u001b[43mfunc\u001b[49m\u001b[43m(\u001b[49m\u001b[43mcmd\u001b[49m\u001b[43m,\u001b[49m\u001b[43m \u001b[49m\u001b[43mraises\u001b[49m\u001b[38;5;241;43m=\u001b[39;49m\u001b[43mraises\u001b[49m\u001b[43m)\u001b[49m\n\u001b[1;32m     15\u001b[0m special_parser \u001b[38;5;241m=\u001b[39m \u001b[38;5;28mgetattr\u001b[39m(__parsers, \u001b[38;5;124mf\u001b[39m\u001b[38;5;124m'\u001b[39m\u001b[38;5;124mparse_\u001b[39m\u001b[38;5;132;01m{\u001b[39;00mmethod_name\u001b[38;5;132;01m}\u001b[39;00m\u001b[38;5;124m'\u001b[39m, \u001b[38;5;124m\"\u001b[39m\u001b[38;5;124m\"\u001b[39m)\n\u001b[1;32m     16\u001b[0m \u001b[38;5;28;01mif\u001b[39;00m special_parser:\n",
      "File \u001b[0;32m~/miniconda3/envs/lcls-live/lib/python3.8/site-packages/pytao/tao_ctypes/core.py:229\u001b[0m, in \u001b[0;36mTao.cmd_real\u001b[0;34m(self, cmd, raises)\u001b[0m\n\u001b[1;32m    227\u001b[0m \u001b[38;5;28mself\u001b[39m\u001b[38;5;241m.\u001b[39mreset_output()\n\u001b[1;32m    228\u001b[0m \u001b[38;5;28;01mif\u001b[39;00m raises:\n\u001b[0;32m--> 229\u001b[0m     \u001b[38;5;28;01mraise\u001b[39;00m \u001b[38;5;167;01mRuntimeError\u001b[39;00m(err)\n\u001b[1;32m    230\u001b[0m \u001b[38;5;28;01melse\u001b[39;00m:\n\u001b[1;32m    231\u001b[0m     \u001b[38;5;28;01mreturn\u001b[39;00m \u001b[38;5;28;01mNone\u001b[39;00m\n",
      "\u001b[0;31mRuntimeError\u001b[0m: ERROR detected: [ERROR | 2023-FEB-04 20:57:13] tao_python_cmd:\n    \"python bunch_comb -array_out s @ 1\": COMB_DS_SAVE NOT POSITIVE.\nINVALID"
     ]
    }
   ],
   "source": [
    "s = tao.bunch_comb('s')"
   ]
  },
  {
   "cell_type": "code",
   "execution_count": null,
   "id": "8b2c1cf6-ae34-4e59-9bd3-161a06866484",
   "metadata": {},
   "outputs": [],
   "source": []
  }
 ],
 "metadata": {
  "kernelspec": {
   "display_name": "Lcls-live",
   "language": "python",
   "name": "lcls-live"
  },
  "language_info": {
   "codemirror_mode": {
    "name": "ipython",
    "version": 3
   },
   "file_extension": ".py",
   "mimetype": "text/x-python",
   "name": "python",
   "nbconvert_exporter": "python",
   "pygments_lexer": "ipython3",
   "version": "3.8.15"
  }
 },
 "nbformat": 4,
 "nbformat_minor": 5
}
