{
 "cells": [
  {
   "cell_type": "markdown",
   "id": "995348dd-9245-4264-bb16-553fa32a53a3",
   "metadata": {},
   "source": [
    "## Instructions to use Tao plot ( skip if you do not need Tao plot )\n",
    "\n",
    "###### To use Tao plot, `Xquartz` is required.\n",
    "###### https://www.xquartz.org\n",
    "\n",
    "###### `Xcode` might be additionally required.\n",
    "###### Detialed instructions are at:\n",
    "##### https://wiki.classe.cornell.edu/ACC/ACL/OffsiteDoc#DistDownload\n",
    "\n"
   ]
  },
  {
   "cell_type": "markdown",
   "id": "17cf4c02-86f7-41fc-9b14-5d517723d84f",
   "metadata": {},
   "source": [
    "## Tao initialization"
   ]
  },
  {
   "cell_type": "code",
   "execution_count": 146,
   "id": "a4b69690-aa52-40b0-afca-edfd9db6fc7b",
   "metadata": {},
   "outputs": [],
   "source": [
    "from pytao import Tao"
   ]
  },
  {
   "cell_type": "code",
   "execution_count": 153,
   "id": "098ee7ae-e111-4f7b-b717-2048ca80db31",
   "metadata": {},
   "outputs": [],
   "source": [
    "# This activates tao, and a plot window (with Xquartz) should pop up.\n",
    "# If this crashes the kernel, try with -noplot option below, or follow the instructions above.\n",
    "tao = Tao('-init tao.init')\n",
    "\n",
    "#tao = Tao('-init tao.init -noplot')"
   ]
  },
  {
   "cell_type": "markdown",
   "id": "bf0318af-2947-488b-8483-adc18d1a14f6",
   "metadata": {},
   "source": [
    "## Run Tao commands \n",
    "#### Note that `cmd` takes one while `cmds` takes a list of many\n",
    "#### These commands can be run using vanilla tao in a terminal"
   ]
  },
  {
   "cell_type": "code",
   "execution_count": 8,
   "id": "0025c2fb-f22c-437a-a6aa-8b92b76922d5",
   "metadata": {},
   "outputs": [
    {
     "data": {
      "text/plain": [
       "['# Values shown are for the Exit End of each Element:',\n",
       " '# Index  name    key                      s       l      beta_a',\n",
       " '      1  MAR.BEG Marker               0.000   0.000  5.0000E+00',\n",
       " '      2  P1      Pipe                 1.000   1.000  5.2000E+00',\n",
       " '      3  B1      Sbend                1.200   0.200  5.1295E+00',\n",
       " '# Index  name    key                      s       l      beta_a',\n",
       " '# Values shown are for the Exit End of each Element:']"
      ]
     },
     "execution_count": 8,
     "metadata": {},
     "output_type": "execute_result"
    }
   ],
   "source": [
    "tao.cmd('show lat 1:3 -at beta_a')"
   ]
  },
  {
   "cell_type": "code",
   "execution_count": 52,
   "id": "7684dac5-c201-4688-80c9-573cbb4fcbef",
   "metadata": {},
   "outputs": [
    {
     "data": {
      "text/plain": [
       "[['',\n",
       "  '\\x1b[34mTao\\x1b[0m: show ele 2:3',\n",
       "  '         2  P1                                               1.000',\n",
       "  '         3  B1                                               1.200',\n",
       "  'Number of Matches: 2',\n",
       "  '',\n",
       "  '\\x1b[34mTao\\x1b[0m: sho lat 5:6 -at key',\n",
       "  '# Values shown are for the Exit End of each Element:',\n",
       "  '# Index  name  key                      s       l  key',\n",
       "  '      5  P2\\\\Q1 Quadrupole           1.550   0.100  Quadrupole',\n",
       "  '      6  P2#2  Pipe                 1.850   0.300  Pipe',\n",
       "  '# Index  name  key                      s       l  key',\n",
       "  '# Values shown are for the Exit End of each Element:']]"
      ]
     },
     "execution_count": 52,
     "metadata": {},
     "output_type": "execute_result"
    }
   ],
   "source": [
    "tao.cmds(['show ele 2:3; sho lat 5:6 -at key'])"
   ]
  },
  {
   "cell_type": "markdown",
   "id": "91b4b2e2-61a3-4f90-a23f-675a8c508c0c",
   "metadata": {},
   "source": [
    "## Tao magic\n",
    "#### The `%%tao` header allows the commands to run cleanly\n",
    "#### Note that commenting in Tao use `!`, not `#`"
   ]
  },
  {
   "cell_type": "code",
   "execution_count": 27,
   "id": "4442d198-1a5b-4fd3-9b70-521bc13787a9",
   "metadata": {
    "tags": []
   },
   "outputs": [
    {
     "name": "stdout",
     "output_type": "stream",
     "text": [
      "-------------------------\n",
      "Tao> sho lat -s 1.5:2.3 -at eta_x\n",
      "# Values shown are for the Exit End of each Element:\n",
      "# Index  name  key                      s       l       eta_x\n",
      "      5  P2\\Q1 Quadrupole           1.550   0.100  7.9123E-02\n",
      "      6  P2#2  Pipe                 1.850   0.300  1.3202E-01\n",
      "      7  P2\\Q2 Quadrupole           1.950   0.100  1.4965E-01\n",
      "      8  P2#3  Pipe                 2.200   0.250  1.9374E-01\n",
      "# Index  name  key                      s       l       eta_x\n",
      "# Values shown are for the Exit End of each Element:\n",
      "-------------------------\n",
      "Tao> \n"
     ]
    }
   ],
   "source": [
    "%%tao\n",
    "sho lat -s 1.5:2.3 -at eta_x"
   ]
  },
  {
   "cell_type": "markdown",
   "id": "c6f6a0d6-7ba4-465d-9b1f-32dd3af30729",
   "metadata": {},
   "source": [
    "### Try the following commands \n",
    "##### Uncomment by removing the `!`"
   ]
  },
  {
   "cell_type": "code",
   "execution_count": 156,
   "id": "577bf6ef-6329-4a3f-8fa9-d4ba4bcfb09e",
   "metadata": {},
   "outputs": [
    {
     "name": "stdout",
     "output_type": "stream",
     "text": [
      "-------------------------\n",
      "Tao> !sho lat -lords quad::* -at l\n",
      "-------------------------\n",
      "Tao> !sho lat -no_label_lines -tracking_elements B* -at b_field\n",
      "-------------------------\n",
      "Tao> !sho -write ele_3.dat ele 3 \n",
      "-------------------------\n",
      "Tao> !sho mat 1 3 \n",
      "-------------------------\n",
      "Tao> !sho uni\n",
      "-------------------------\n",
      "Tao> !sho global\n",
      "-------------------------\n",
      "Tao> \n"
     ]
    }
   ],
   "source": [
    "%%tao\n",
    "!sho lat -lords quad::* -at l\n",
    "!sho lat -no_label_lines -tracking_elements B* -at b_field\n",
    "!sho -write ele_3.dat ele 3 \n",
    "!sho mat 1 3 \n",
    "!sho uni\n",
    "!sho global"
   ]
  },
  {
   "cell_type": "markdown",
   "id": "3b181cc8-6fd7-480d-abe4-8af2f1ba7cac",
   "metadata": {},
   "source": [
    "#### useful alias ( user can define more in `tao.startup` )"
   ]
  },
  {
   "cell_type": "code",
   "execution_count": 157,
   "id": "f17531ed-021e-48e5-abb2-76a76244aa8b",
   "metadata": {},
   "outputs": [
    {
     "name": "stdout",
     "output_type": "stream",
     "text": [
      "-------------------------\n",
      "Tao> alias\n",
      "vim                                     sp vim [[1]]\n",
      "view                                    set default uni = [[1]]\n",
      "vv                                      veto var *\n",
      "vd                                      veto dat *@*\n",
      "vk                                      set var *|key_bound = F\n",
      "ode                                     set global optimizer = de\n",
      "olm                                     set global optimizer = lm\n",
      "osvd                                    set global optimizer = svd\n",
      "olmdif                                  set global optimizer = lmdif\n",
      "ogeo                                    set global optimizer = geodesic_lm\n",
      "sgeo                                    set geodesic_lm\n",
      "scycles                                 set global n_opti_cycles = [[1]]\n",
      "sloops                                  set global n_opti_loops = [[1]]\n",
      "sde                                     set global de_lm_step_ratio = [[1]]\n",
      "spop                                    set global de_var_to_population_factor = [[1]]\n",
      "SLD                                     set lattice model=design\n",
      "sfloor                                  set graph floor.plan floor_plan_view = [[1]]\n",
      "beamoff                                 set global track_type = single\n",
      "beamon                                  set global track_type = beam\n",
      "snparticle                              set beam_init n_particle = [[1]]\n",
      "timeron                                 set global beam_timer_on = true\n",
      "timeroff                                set global beam_timer_on = false\n",
      "plotoff                                 set global plot_on = false\n",
      "ploton                                  set global plot_on = true\n",
      "clearplots                              place floor none;place top none;place middle none;place bottom none\n",
      "phaseplots                              place r11 zphase;place r12 xphase;place r21 zhist;place r22 yphase;place bottom layout\n",
      "mat6on                                  set universe * twiss_calc on\n",
      "mat6off                                 set universe * twiss_calc off\n",
      "-------------------------\n",
      "Tao> \n"
     ]
    }
   ],
   "source": [
    "%%tao\n",
    "alias"
   ]
  },
  {
   "cell_type": "markdown",
   "id": "7bfc328b-a32c-418d-8207-c946a4cc3bdc",
   "metadata": {},
   "source": [
    "## Tao method commands\n",
    "#### These give clean parsing and further data processing"
   ]
  },
  {
   "cell_type": "code",
   "execution_count": 63,
   "id": "1c64e50b-7b1a-4d6a-8b5b-32b1ca357504",
   "metadata": {},
   "outputs": [
    {
     "data": {
      "text/plain": [
       "{'x': 0.0,\n",
       " 'px': 0.0,\n",
       " 'y': 0.0,\n",
       " 'py': 0.0,\n",
       " 'z': 0.0,\n",
       " 'pz': 0.0,\n",
       " 'spin': array([0., 0., 0.]),\n",
       " 'field': array([0., 0.]),\n",
       " 'phase': array([0., 0.]),\n",
       " 's': 1.5,\n",
       " 't': 5.01000676656434e-09,\n",
       " 'charge': 0.0,\n",
       " 'dt_ref': 0.0,\n",
       " 'p0c': 9986935.46955716,\n",
       " 'beta': 0.998693546955716,\n",
       " 'ix_ele': 5,\n",
       " 'state': 'Alive',\n",
       " 'direction': 1,\n",
       " 'species': 'Positron',\n",
       " 'location': 'Inside'}"
      ]
     },
     "execution_count": 63,
     "metadata": {},
     "output_type": "execute_result"
    }
   ],
   "source": [
    "tao.orbit_at_s(s_offset=1.5)"
   ]
  },
  {
   "cell_type": "code",
   "execution_count": 60,
   "id": "060cde43-cea2-452b-bb91-fb1e507e465e",
   "metadata": {},
   "outputs": [
    {
     "data": {
      "text/plain": [
       "array([ 1.18923327e+01, -1.17408115e+00,  1.74447511e+00, -4.70463955e-01,\n",
       "       -1.38777878e-16,  0.00000000e+00])"
      ]
     },
     "execution_count": 60,
     "metadata": {},
     "output_type": "execute_result"
    }
   ],
   "source": [
    "tao.evaluate('data::twiss.end[1:6]|model')"
   ]
  },
  {
   "cell_type": "code",
   "execution_count": 155,
   "id": "7e2b8104-a779-430f-b7e3-9b01fdf5ec96",
   "metadata": {},
   "outputs": [
    {
     "data": {
      "text/plain": [
       "array([3.3, 0. , 0. , 0. , 0. , 0. ])"
      ]
     },
     "execution_count": 155,
     "metadata": {},
     "output_type": "execute_result"
    }
   ],
   "source": [
    "tao.cmd('set ele Q1 k1=3.3')\n",
    "tao.evaluate('var::quad[1:6]|model')"
   ]
  },
  {
   "cell_type": "code",
   "execution_count": 64,
   "id": "5307a644-a2d1-4584-85c9-e241b906e54d",
   "metadata": {},
   "outputs": [
    {
     "name": "stdout",
     "output_type": "stream",
     "text": [
      "python lat_list -array_out -track_only @>>*|model ele.s\n"
     ]
    },
    {
     "data": {
      "text/plain": [
       "array([0.  , 0.  , 1.  , 1.2 , 1.45])"
      ]
     },
     "execution_count": 64,
     "metadata": {},
     "output_type": "execute_result"
    }
   ],
   "source": [
    "s = tao.lat_list('*', 'ele.s', verbose=True)\n",
    "s[0:5]"
   ]
  },
  {
   "cell_type": "code",
   "execution_count": 65,
   "id": "d2a25ee0-8d3e-481f-8212-c3ddcfed038c",
   "metadata": {},
   "outputs": [
    {
     "data": {
      "text/plain": [
       "['BEGINNING', 'MAR.BEG', 'P1', 'B1', 'P2#1']"
      ]
     },
     "execution_count": 65,
     "metadata": {},
     "output_type": "execute_result"
    }
   ],
   "source": [
    "names = tao.lat_list('*', 'ele.name')\n",
    "names[0:5]"
   ]
  },
  {
   "cell_type": "code",
   "execution_count": 77,
   "id": "316f408f-bccb-4b22-a412-f8354b256ea0",
   "metadata": {},
   "outputs": [
    {
     "data": {
      "text/plain": [
       "Text(0, 0.5, '$\\\\eta_x$ (m)')"
      ]
     },
     "execution_count": 77,
     "metadata": {},
     "output_type": "execute_result"
    },
    {
     "data": {
      "image/png": "[encoded data removed]",
      "text/plain": [
       "<Figure size 640x480 with 1 Axes>"
      ]
     },
     "metadata": {
      "image/png": {
       "height": 432,
       "width": 578
      }
     },
     "output_type": "display_data"
    }
   ],
   "source": [
    "%config InlineBackend.figure_format = 'retina'\n",
    "import matplotlib.pyplot as plt\n",
    "import numpy as np\n",
    "\n",
    "plt.plot(\n",
    "    tao.lat_list('*', 'ele.s'),\n",
    "    tao.lat_list('*', 'ele.a.eta'),\n",
    "    marker='.'\n",
    ")\n",
    "\n",
    "plt.xlabel('s (m)')\n",
    "plt.ylabel(r'$\\eta_x$ (m)')"
   ]
  },
  {
   "cell_type": "markdown",
   "id": "cfa671b0-e93f-4282-94c4-cd03e51e159a",
   "metadata": {},
   "source": [
    "## Other useful commands"
   ]
  },
  {
   "cell_type": "code",
   "execution_count": 75,
   "id": "2388c5e1-890d-40bc-ae41-08ec2cee4189",
   "metadata": {},
   "outputs": [
    {
     "name": "stdout",
     "output_type": "stream",
     "text": [
      "['beam', 'beam_init', 'bmad_com', 'branch1', 'building_wall_graph', 'building_wall_list', 'building_wall_point', 'building_wall_section', 'bunch1', 'bunch_comb', 'bunch_params', 'constraints', 'da_aperture', 'da_params', 'data', 'data_d1_array', 'data_d2', 'data_d2_array', 'data_d2_create', 'data_d2_destroy', 'data_d_array', 'data_parameter', 'data_set_design_value', 'datum_create', 'datum_has_ele', 'derivative', 'ele_ac_kicker', 'ele_cartesian_map', 'ele_chamber_wall', 'ele_control_var', 'ele_cylindrical_map', 'ele_elec_multipoles', 'ele_floor', 'ele_gen_attribs', 'ele_grid_field', 'ele_head', 'ele_lord_slave', 'ele_mat6', 'ele_methods', 'ele_multipoles', 'ele_orbit', 'ele_param', 'ele_photon', 'ele_spin_taylor', 'ele_taylor', 'ele_taylor_field', 'ele_twiss', 'ele_wake', 'ele_wall3d', 'em_field', 'enum', 'evaluate', 'floor_orbit', 'floor_plan', 'help', 'inum', 'lat_branch_list', 'lat_calc_done', 'lat_ele_list', 'lat_list', 'lat_param_units', 'matrix', 'merit', 'orbit_at_s', 'parse_tao_python_data', 'place_buffer', 'plot1', 'plot_curve', 'plot_curve_manage', 'plot_graph', 'plot_graph_manage', 'plot_histogram', 'plot_lat_layout', 'plot_line', 'plot_list', 'plot_symbol', 'plot_template_manage', 'plot_transfer', 'ptc_com', 'ring_general', 'shape_list', 'shape_manage', 'shape_pattern_list', 'shape_pattern_manage', 'shape_pattern_point_manage', 'shape_set', 'show', 'species_to_int', 'species_to_str', 'spin_invariant', 'spin_polarization', 'spin_resonance', 'super_universe', 'tao_global', 'tao_parameter_dict', 'twiss_at_s', 'universe', 'var', 'var_create', 'var_general', 'var_v1_array', 'var_v1_create', 'var_v1_destroy', 'var_v_array', 'wave']\n"
     ]
    }
   ],
   "source": [
    "from pytao import interface_commands\n",
    "all_cmds = [name for name in dir(interface_commands) if not name.startswith('__')]\n",
    "print(all_cmds)"
   ]
  },
  {
   "cell_type": "code",
   "execution_count": null,
   "id": "54c774ae-d128-429e-b861-50c4f341ea93",
   "metadata": {},
   "outputs": [],
   "source": []
  }
 ],
 "metadata": {
  "kernelspec": {
   "display_name": "Lcls-live",
   "language": "python",
   "name": "lcls-live"
  },
  "language_info": {
   "codemirror_mode": {
    "name": "ipython",
    "version": 3
   },
   "file_extension": ".py",
   "mimetype": "text/x-python",
   "name": "python",
   "nbconvert_exporter": "python",
   "pygments_lexer": "ipython3",
   "version": "3.8.15"
  }
 },
 "nbformat": 4,
 "nbformat_minor": 5
}
