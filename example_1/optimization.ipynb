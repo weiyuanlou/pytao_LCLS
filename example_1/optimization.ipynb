{
 "cells": [
  {
   "cell_type": "markdown",
   "id": "65fb3fd7-d1e6-4412-affb-74cf4810b971",
   "metadata": {},
   "source": [
    "#### Run and understand `pytao_basic_examples.ipynb` first !!"
   ]
  },
  {
   "cell_type": "markdown",
   "id": "70a4c19a-b757-4bb8-b9ee-e770862a97a3",
   "metadata": {},
   "source": [
    "## Tao initialization"
   ]
  },
  {
   "cell_type": "code",
   "execution_count": 3,
   "id": "4b0da2ce-9936-47ca-9afa-55e02167244e",
   "metadata": {},
   "outputs": [],
   "source": [
    "from pytao import Tao"
   ]
  },
  {
   "cell_type": "code",
   "execution_count": 4,
   "id": "29f0e69e-0030-492c-9112-abbefe22c902",
   "metadata": {},
   "outputs": [],
   "source": [
    "# This activates tao, and a plot window (with Xquartz) should pop up.\n",
    "# If this crashes the kernel, try again with -noplot option below.\n",
    "tao = Tao('-init tao.init')\n",
    "\n",
    "#tao = Tao('-init tao.init -noplot')"
   ]
  },
  {
   "cell_type": "markdown",
   "id": "add49a70-6137-417a-96c0-62a06463b6f1",
   "metadata": {},
   "source": [
    "## Tao optimization\n",
    "#### Tao data and variables are defined in `tao.init`\n",
    "#### run 'alias' to learn some special commands below"
   ]
  },
  {
   "cell_type": "code",
   "execution_count": 5,
   "id": "50863488-47e2-4126-b8c6-665f1514f57c",
   "metadata": {},
   "outputs": [
    {
     "name": "stdout",
     "output_type": "stream",
     "text": [
      "-------------------------\n",
      "Tao> sho dat\n",
      "\n",
      "  Name                                 Using for Optimization\n",
      "  twiss.end[1:6]                                 Using: 1:6\n",
      "  twiss.max[1:2]                                 Using: 1:2\n",
      "-------------------------\n",
      "Tao> sho var\n",
      "       Name                                      Using for Optimization\n",
      "    quad[1:6]\n",
      "-------------------------\n",
      "Tao> \n"
     ]
    }
   ],
   "source": [
    "%%tao\n",
    "sho dat\n",
    "sho var"
   ]
  },
  {
   "cell_type": "code",
   "execution_count": 6,
   "id": "b7e466f9-9050-4d85-a35f-e8382d5df40a",
   "metadata": {},
   "outputs": [
    {
     "name": "stdout",
     "output_type": "stream",
     "text": [
      "-------------------------\n",
      "Tao> sho top\n",
      "\n",
      "! Top 10\n",
      "\n",
      "Constraints                     Ref_Ele    Start_Ele   Ele/S    Meas-or-Lim    Model       Merit      Max_Loc\n",
      "twiss.end[3]  beta.b <target>                         END        1.2500E+01   1.7445E+00  1.157E+03\n",
      "twiss.end[4]  alpha.b <target>                        END       -1.0000E+00  -4.7046E-01  2.804E+01\n",
      "twiss.end[1]  beta.a <target>                         END        1.2500E+01   1.1892E+01  3.693E+00\n",
      "twiss.end[2]  alpha.a <target>                        END       -1.0000E+00  -1.1741E+00  3.030E+00\n",
      "twiss.end[5]  eta.x <target>                          END        0.0000E+00  -1.3878E-16  1.926E-31\n",
      "twiss.max[2]  eta.x <abs_max>             Q1          END        1.0000E+00   2.1440E-01  0.000E+00  B2\n",
      "twiss.max[1]  beta.a <max>                Q1          END        1.0000E+02   1.1892E+01  0.000E+00  P5\n",
      "twiss.end[6]  etap.x <target>                         END        0.0000E+00   0.0000E+00  0.000E+00\n",
      "Constraints                     Ref_Ele    Start_Ele   Ele/S    Meas-or-Lim    Model       Merit      Max_Loc\n",
      "\n",
      " figure of merit: 1.191577E+03\n",
      "\n",
      "List of non-zero contributors to the Merit Function:\n",
      "Name                                          Merit           Sigma [= sqrt(Chi^2/N)]\n",
      "twiss.end                                     1.1916E+03      4.8241E+00\n",
      "-------------------------\n",
      "Tao> \n"
     ]
    }
   ],
   "source": [
    "%%tao\n",
    "sho top"
   ]
  },
  {
   "cell_type": "code",
   "execution_count": 7,
   "id": "0432d054-a894-46b3-bb2b-49923214e91a",
   "metadata": {},
   "outputs": [
    {
     "name": "stdout",
     "output_type": "stream",
     "text": [
      "-------------------------\n",
      "Tao> SLD\n",
      "-------------------------\n",
      "Tao> vv\n",
      "  quad[1:6]                                      Using:\n",
      "-------------------------\n",
      "Tao> vd\n",
      "  twiss.end[1:6]                                 Using:\n",
      "  twiss.max[1:2]                                 Using:\n",
      "-------------------------\n",
      "Tao> use dat twiss.end[1:6]\n",
      "  twiss.end[1:6]                                 Using: 1:6\n",
      "  twiss.max[1:2]                                 Using:\n",
      "-------------------------\n",
      "Tao> use dat twiss.max[1:2]\n",
      "  twiss.end[1:6]                                 Using: 1:6\n",
      "  twiss.max[1:2]                                 Using: 1:2\n",
      "-------------------------\n",
      "Tao> use var quad[1:6]\n",
      "  quad[1:6]                                      Using: 1:6\n",
      "-------------------------\n",
      "Tao> \n"
     ]
    }
   ],
   "source": [
    "%%tao \n",
    "SLD\n",
    "vv\n",
    "vd\n",
    "use dat twiss.end[1:6]\n",
    "use dat twiss.max[1:2]\n",
    "use var quad[1:6]"
   ]
  },
  {
   "cell_type": "code",
   "execution_count": 8,
   "id": "279f6dbb-7dfd-4229-a528-1747ef8ca46c",
   "metadata": {},
   "outputs": [
    {
     "name": "stdout",
     "output_type": "stream",
     "text": [
      "-------------------------\n",
      "Tao> sho merit\n",
      "\n",
      "! Top 10\n",
      "\n",
      "Constraints                     Ref_Ele    Start_Ele   Ele/S    Meas-or-Lim    Model       Merit      Max_Loc\n",
      "twiss.end[3]  beta.b <target>                         END        1.2500E+01   1.7445E+00  1.157E+03\n",
      "twiss.end[4]  alpha.b <target>                        END       -1.0000E+00  -4.7046E-01  2.804E+01\n",
      "twiss.end[1]  beta.a <target>                         END        1.2500E+01   1.1892E+01  3.693E+00\n",
      "twiss.end[2]  alpha.a <target>                        END       -1.0000E+00  -1.1741E+00  3.030E+00\n",
      "twiss.end[5]  eta.x <target>                          END        0.0000E+00  -1.3878E-16  1.926E-31\n",
      "quad[6]       Q6[K1]                                  4.35      -1.0000E+30   0.0000E+00  0.000E+00\n",
      "quad[5]       Q5[K1]                                  3.95      -1.0000E+30   0.0000E+00  0.000E+00\n",
      "quad[4]       Q4[K1]                                  3.15      -1.0000E+30   0.0000E+00  0.000E+00\n",
      "quad[3]       Q3[K1]                                  2.75      -1.0000E+30   0.0000E+00  0.000E+00\n",
      "quad[2]       Q2[K1]                                  1.95      -1.0000E+30   0.0000E+00  0.000E+00\n",
      "Constraints                     Ref_Ele    Start_Ele   Ele/S    Meas-or-Lim    Model       Merit      Max_Loc\n",
      "\n",
      " figure of merit: 1.191577E+03\n",
      "\n",
      "List of non-zero contributors to the Merit Function:\n",
      "Name                                          Merit           Sigma [= sqrt(Chi^2/N)]\n",
      "twiss.end                                     1.1916E+03      4.8241E+00\n",
      "-------------------------\n",
      "Tao> \n"
     ]
    }
   ],
   "source": [
    "%%tao\n",
    "sho merit"
   ]
  },
  {
   "cell_type": "markdown",
   "id": "1c20e85a-9d3b-4813-9ca5-e13cf86a1a97",
   "metadata": {},
   "source": [
    "#### Note that the merit value is high due to optics mismatching"
   ]
  },
  {
   "cell_type": "code",
   "execution_count": 9,
   "id": "ab36f6ea-819f-4a5a-9e5f-55d13d250e35",
   "metadata": {},
   "outputs": [
    {
     "name": "stdout",
     "output_type": "stream",
     "text": [
      "-------------------------\n",
      "Tao> run\n",
      "Optimizing with: lmdif\n",
      "Type ``.'' to stop the optimizer before it's finished.\n",
      "  Cycle      Merit\n",
      "    1    1.1916E+03\n",
      "    2    1.1916E+03\n",
      "    3    1.1916E+03\n",
      "    4    1.1916E+03\n",
      "    5    1.1916E+03\n",
      "    6    1.1916E+03\n",
      "    7    1.1916E+03\n",
      "    8    1.1236E+03\n",
      "    9    1.1236E+03\n",
      "   10    1.1236E+03\n",
      "   11    1.1236E+03\n",
      "   12    1.1236E+03\n",
      "   13    1.1236E+03\n",
      "   14    1.1236E+03\n",
      "   15    3.7524E+02\n",
      "   16    3.7524E+02\n",
      "   17    3.7524E+02\n",
      "   18    3.7524E+02\n",
      "   19    3.7524E+02\n",
      "   20    3.7524E+02\n",
      "   21    3.7524E+02\n",
      "   22    3.1008E+01\n",
      "   23    3.1008E+01\n",
      "   24    3.1008E+01\n",
      "   25    3.1008E+01\n",
      "   26    3.1008E+01\n",
      "   27    3.1008E+01\n",
      "   28    3.1008E+01\n",
      "   29    1.6238E+02\n",
      "   30    1.0260E+01\n",
      "   31    1.0260E+01\n",
      "   32    1.0260E+01\n",
      "   33    1.0260E+01\n",
      "   34    1.0260E+01\n",
      "   35    1.0260E+01\n",
      "   36    1.0260E+01\n",
      "   37    8.5867E+00\n",
      "   38    8.5867E+00\n",
      "   39    8.5867E+00\n",
      "   40    8.5867E+00\n",
      "   41    8.5867E+00\n",
      "   42    8.5867E+00\n",
      "   43    8.5867E+00\n",
      "   44    6.8874E+00\n",
      "   45    6.8874E+00\n",
      "   46    6.8874E+00\n",
      "   47    6.8874E+00\n",
      "   48    6.8874E+00\n",
      "   49    6.8874E+00\n",
      "   50    6.8874E+00\n",
      "   51    6.3375E+00\n",
      "   52    6.3375E+00\n",
      "   53    6.3375E+00\n",
      "   54    6.3375E+00\n",
      "   55    6.3375E+00\n",
      "   56    6.3375E+00\n",
      "   57    6.3375E+00\n",
      "   58    2.5132E+00\n",
      "   59    2.5132E+00\n",
      "   60    2.5132E+00\n",
      "   61    2.5132E+00\n",
      "   62    2.5132E+00\n",
      "   63    2.5132E+00\n",
      "   64    2.5132E+00\n",
      "   65    3.7042E+00\n",
      "   66    2.1333E+00\n",
      "   67    2.1333E+00\n",
      "   68    2.1333E+00\n",
      "   69    2.1333E+00\n",
      "   70    2.1333E+00\n",
      "   71    2.1333E+00\n",
      "   72    2.1333E+00\n",
      "   73    2.1555E+00\n",
      "   74    2.1182E+00\n",
      "   75    2.1182E+00\n",
      "   76    2.1182E+00\n",
      "   77    2.1182E+00\n",
      "   78    2.1182E+00\n",
      "   79    2.1182E+00\n",
      "   80    2.1182E+00\n",
      "   81    2.1101E+00\n",
      "   82    2.1101E+00\n",
      "   83    2.1101E+00\n",
      "   84    2.1101E+00\n",
      "   85    2.1101E+00\n",
      "   86    2.1101E+00\n",
      "   87    2.1101E+00\n",
      "   88    2.0882E+00\n",
      "   89    2.0882E+00\n",
      "   90    2.0882E+00\n",
      "   91    2.0882E+00\n",
      "   92    2.0882E+00\n",
      "   93    2.0882E+00\n",
      "   94    2.0882E+00\n",
      "   95    2.0603E+00\n",
      "   96    2.0603E+00\n",
      "   97    2.0603E+00\n",
      "   98    2.0603E+00\n",
      "   99    2.0603E+00\n",
      "  100    2.0603E+00\n",
      "Written: var1.out\n",
      "-------------------------\n",
      "Tao> \n"
     ]
    }
   ],
   "source": [
    "%%tao\n",
    "run"
   ]
  },
  {
   "cell_type": "markdown",
   "id": "d4ff1a25-88cb-4066-9bd5-cd571db016ba",
   "metadata": {},
   "source": [
    "#### Optimization above fails to converge.\n",
    "#### A better initial guess is required.\n",
    "#### We can call optimization using an external tao script."
   ]
  },
  {
   "cell_type": "code",
   "execution_count": 10,
   "id": "bc74409a-59d3-4bec-aa6d-e414b09ca467",
   "metadata": {},
   "outputs": [
    {
     "name": "stdout",
     "output_type": "stream",
     "text": [
      "-------------------------\n",
      "Tao> call Optimize.tao\n",
      "\n",
      "\u001b[34mTao\u001b[0m: ! Some educational \"guess\" of the initial condition\n",
      "\n",
      "\u001b[34mTao\u001b[0m: set ele Q1 k1 = 6\n",
      "\n",
      "\u001b[34mTao\u001b[0m: set ele Q2 k1 = -18\n",
      "\n",
      "\u001b[34mTao\u001b[0m: set ele Q3 k1 = 16\n",
      "\n",
      "\u001b[34mTao\u001b[0m: set ele Q4 k1 = -16\n",
      "\n",
      "\u001b[34mTao\u001b[0m: set ele Q5 k1 = -1.4\n",
      "\n",
      "\u001b[34mTao\u001b[0m: set ele Q6 k1 = 2.4\n",
      "\n",
      "\u001b[34mTao\u001b[0m: set global quiet = all ! This prevents further output messages to terminal\n",
      "-------------------------\n",
      "Tao> \n"
     ]
    }
   ],
   "source": [
    "%%tao\n",
    "call Optimize.tao"
   ]
  },
  {
   "cell_type": "markdown",
   "id": "05a11f0f-c877-47d1-9f72-b8c24bf845aa",
   "metadata": {},
   "source": [
    "#### Merit has dropped significantly. Optimization complete."
   ]
  },
  {
   "cell_type": "code",
   "execution_count": 11,
   "id": "d321bb52-f0b4-46a2-8763-d3935e99204c",
   "metadata": {},
   "outputs": [
    {
     "data": {
      "text/plain": [
       "['  6.52063184606780E-28']"
      ]
     },
     "execution_count": 11,
     "metadata": {},
     "output_type": "execute_result"
    }
   ],
   "source": [
    "tao.merit()"
   ]
  },
  {
   "cell_type": "code",
   "execution_count": 17,
   "id": "88612d6f-9ba8-4846-8cd2-8250b11055c3",
   "metadata": {},
   "outputs": [
    {
     "data": {
      "text/plain": [
       "Text(0, 0.5, '$\\\\beta$ (m)')"
      ]
     },
     "execution_count": 17,
     "metadata": {},
     "output_type": "execute_result"
    },
    {
     "data": {
      "image/png": "[encoded data removed]",
      "text/plain": [
       "<Figure size 640x480 with 1 Axes>"
      ]
     },
     "metadata": {
      "image/png": {
       "height": 432,
       "width": 564
      }
     },
     "output_type": "display_data"
    }
   ],
   "source": [
    "%config InlineBackend.figure_format = 'retina'\n",
    "import matplotlib.pyplot as plt\n",
    "import numpy as np\n",
    "\n",
    "plt.plot(\n",
    "    tao.lat_list('*', 'ele.s'),\n",
    "    tao.lat_list('*', 'ele.a.beta'),\n",
    "    marker = '.',\n",
    "    label = r'$\\beta_x$'\n",
    ")\n",
    "\n",
    "plt.plot(\n",
    "    tao.lat_list('*', 'ele.s'),\n",
    "    tao.lat_list('*', 'ele.b.beta'),\n",
    "    marker = '.',\n",
    "    label = r'$\\beta_y$'\n",
    ")\n",
    "\n",
    "plt.legend()\n",
    "plt.xlabel('s (m)')\n",
    "plt.ylabel(r'$\\beta$ (m)')"
   ]
  },
  {
   "cell_type": "code",
   "execution_count": null,
   "id": "fcad7a71-d287-496a-bf32-9b4d92484f52",
   "metadata": {},
   "outputs": [],
   "source": []
  }
 ],
 "metadata": {
  "kernelspec": {
   "display_name": "Lcls-live",
   "language": "python",
   "name": "lcls-live"
  },
  "language_info": {
   "codemirror_mode": {
    "name": "ipython",
    "version": 3
   },
   "file_extension": ".py",
   "mimetype": "text/x-python",
   "name": "python",
   "nbconvert_exporter": "python",
   "pygments_lexer": "ipython3",
   "version": "3.8.15"
  }
 },
 "nbformat": 4,
 "nbformat_minor": 5
}
