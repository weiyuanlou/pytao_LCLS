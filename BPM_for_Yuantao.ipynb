{
 "cells": [
  {
   "cell_type": "markdown",
   "id": "85bbc122-0e8c-48e1-bd1d-e3c7bd3d0f68",
   "metadata": {},
   "source": [
    "# Setup Instructions "
   ]
  },
  {
   "cell_type": "markdown",
   "id": "d6c35a3d-791b-486f-8a73-9432395beae8",
   "metadata": {},
   "source": [
    "### (1) Create lcls-live environment ( which includes conda-forged version of Bamd and Tao )\n",
    "\n",
    "####    (a) Copy https://github.com/ChristopherMayes/lcls-live/blob/master/environment.yml\n",
    "####    (b) conda env create -f environment.yml\n",
    "####    (c) source activate lcls-live\n",
    "####    (d) python -m ipykernel install --user --name lcls-live --display-name Lcls-live\n",
    "\n",
    "\n",
    "### (2) Gain access to lcls-lattice\n",
    "\n",
    "#### If on personal computer, `git clone https://github.com/slaclab/lcls-lattice.git`\n",
    "#### If on SLAC SDF, use Chris’s directory: `export LCLS_LATTICE=/u/ad/cmayes/nfs/GitHub/lcls-lattice/`\n",
    "#### For details go to https://slaclab.github.io/lcls-live/getting-started.html\n"
   ]
  },
  {
   "cell_type": "markdown",
   "id": "483942eb-e498-4ed3-8f06-0c6c39123a5a",
   "metadata": {},
   "source": [
    "# Codes"
   ]
  },
  {
   "cell_type": "code",
   "execution_count": 1,
   "id": "5bdc24fd-5ede-4965-8b2c-ae00e70a0372",
   "metadata": {},
   "outputs": [],
   "source": [
    "# Useful for debugging\n",
    "%load_ext autoreload\n",
    "%autoreload 2\n",
    "\n",
    "%config InlineBackend.figure_format = 'retina'"
   ]
  },
  {
   "cell_type": "markdown",
   "id": "7f802696-667c-4741-b46a-3b6ff0833ae9",
   "metadata": {},
   "source": [
    "# Initialize Tao"
   ]
  },
  {
   "cell_type": "code",
   "execution_count": 1,
   "id": "b0bcb295-7499-40f0-9270-e50c754971d1",
   "metadata": {},
   "outputs": [],
   "source": [
    "#from lcls_live.bmad import LCLSTaoModel\n",
    "#from lcls_live.epics import epics_proxy\n",
    "\n",
    "import os\n",
    "\n",
    "from pytao import Tao\n",
    "import pandas as pd"
   ]
  },
  {
   "cell_type": "code",
   "execution_count": 2,
   "id": "1ce9b1b1-e057-4ee3-9cfd-eb5d4372f071",
   "metadata": {},
   "outputs": [],
   "source": [
    "# Basic model with options\n",
    "\n",
    "#MODEL = 'sc_sxr' # For SPS beamline\n",
    "#MODEL = 'sc_hxr' # For SPH beamline\n",
    "MODEL = 'sc_bsyd' # For SPD beamline\n",
    "\n",
    "\n",
    "OPTIONS = f'-noplot'\n",
    "INIT = f'-init $LCLS_LATTICE/bmad/models/{MODEL}/tao.init {OPTIONS}'\n",
    "\n",
    "# Make sure this exists\n",
    "assert 'LCLS_LATTICE' in os.environ\n",
    "\n",
    "#INIT"
   ]
  },
  {
   "cell_type": "code",
   "execution_count": 3,
   "id": "87c94d96-102a-4a67-9f07-a77a6e511d5a",
   "metadata": {},
   "outputs": [],
   "source": [
    "# Do NOT run this cell twice within one kernel instance\n",
    "tao = Tao(INIT)"
   ]
  },
  {
   "cell_type": "code",
   "execution_count": 6,
   "id": "36f45ef9-3992-44fb-b7f0-2ec130ab50b1",
   "metadata": {},
   "outputs": [],
   "source": [
    "# Make sure Bmad version is up-to-date\n",
    "# tao.so_lib"
   ]
  },
  {
   "cell_type": "markdown",
   "id": "d4e1485c-3e27-4a1c-ba74-9e8c56a778f3",
   "metadata": {},
   "source": [
    "# BPM list"
   ]
  },
  {
   "cell_type": "code",
   "execution_count": 4,
   "id": "6e681be4-c3af-4ab4-bc24-650bfbe278d9",
   "metadata": {},
   "outputs": [],
   "source": [
    "# Set the beginning and end elements between which BPMs are to be found\n",
    "\n",
    "ele_start = 'BEGGUNB'\n",
    "\n",
    "#ele_end   = 'ENDSPS'  # for SPS beamline\n",
    "#ele_end   = 'ENDSPH'  # for SPH beamline\n",
    "ele_end   = 'ENDSLTD'  # for SPD beamline"
   ]
  },
  {
   "cell_type": "code",
   "execution_count": 5,
   "id": "d44ca321-8662-4b2a-886a-bac2774c6052",
   "metadata": {},
   "outputs": [],
   "source": [
    "# Check if the elements specified exist\n",
    "if len(tao.lat_list(ele_end,'ele.ix_ele')) == 0:\n",
    "    print('The end element specified is not in the current lattice!!')"
   ]
  },
  {
   "cell_type": "code",
   "execution_count": 6,
   "id": "da512209-57bc-415b-9db6-951487421bde",
   "metadata": {},
   "outputs": [],
   "source": [
    "ix_start = tao.lat_list(ele_start,'ele.ix_ele')[0]\n",
    "ix_end   = tao.lat_list(ele_end,'ele.ix_ele')[0]\n",
    "\n",
    "BPM_string = f'{ix_start}:{ix_end}&BPM*'\n",
    "\n",
    "name_list  = tao.lat_list(BPM_string,'ele.name')\n",
    "s_list     = tao.lat_list(BPM_string,'ele.s')\n",
    "eta_x_list = tao.lat_list(BPM_string,'ele.eta_x')"
   ]
  },
  {
   "cell_type": "code",
   "execution_count": 7,
   "id": "c43f54ac-6b22-469c-8add-599d2ec1672f",
   "metadata": {},
   "outputs": [],
   "source": [
    "df=pd.DataFrame()\n",
    "df['Name'] = name_list \n",
    "df['s(m)'] = s_list\n",
    "df['eta(m)'] = eta_x_list"
   ]
  },
  {
   "cell_type": "code",
   "execution_count": 8,
   "id": "d3b96255-a06d-400e-844f-19421e04a95a",
   "metadata": {},
   "outputs": [
    {
     "data": {
      "text/html": [
       "<div>\n",
       "<style scoped>\n",
       "    .dataframe tbody tr th:only-of-type {\n",
       "        vertical-align: middle;\n",
       "    }\n",
       "\n",
       "    .dataframe tbody tr th {\n",
       "        vertical-align: top;\n",
       "    }\n",
       "\n",
       "    .dataframe thead th {\n",
       "        text-align: right;\n",
       "    }\n",
       "</style>\n",
       "<table border=\"1\" class=\"dataframe\">\n",
       "  <thead>\n",
       "    <tr style=\"text-align: right;\">\n",
       "      <th></th>\n",
       "      <th>Name</th>\n",
       "      <th>s(m)</th>\n",
       "      <th>eta(m)</th>\n",
       "    </tr>\n",
       "  </thead>\n",
       "  <tbody>\n",
       "    <tr>\n",
       "      <th>0</th>\n",
       "      <td>BPM1B</td>\n",
       "      <td>0.489650</td>\n",
       "      <td>0.000000e+00</td>\n",
       "    </tr>\n",
       "    <tr>\n",
       "      <th>1</th>\n",
       "      <td>BPM2B</td>\n",
       "      <td>1.884224</td>\n",
       "      <td>0.000000e+00</td>\n",
       "    </tr>\n",
       "    <tr>\n",
       "      <th>2</th>\n",
       "      <td>BPM0H01</td>\n",
       "      <td>18.645042</td>\n",
       "      <td>0.000000e+00</td>\n",
       "    </tr>\n",
       "    <tr>\n",
       "      <th>3</th>\n",
       "      <td>BPM0H04</td>\n",
       "      <td>24.035167</td>\n",
       "      <td>0.000000e+00</td>\n",
       "    </tr>\n",
       "    <tr>\n",
       "      <th>4</th>\n",
       "      <td>BPM0H05</td>\n",
       "      <td>25.257467</td>\n",
       "      <td>0.000000e+00</td>\n",
       "    </tr>\n",
       "    <tr>\n",
       "      <th>...</th>\n",
       "      <td>...</td>\n",
       "      <td>...</td>\n",
       "      <td>...</td>\n",
       "    </tr>\n",
       "    <tr>\n",
       "      <th>85</th>\n",
       "      <td>BPMDAS</td>\n",
       "      <td>2934.015161</td>\n",
       "      <td>-1.831367e-13</td>\n",
       "    </tr>\n",
       "    <tr>\n",
       "      <th>86</th>\n",
       "      <td>BPMSP2D</td>\n",
       "      <td>2972.290761</td>\n",
       "      <td>-5.198622e-13</td>\n",
       "    </tr>\n",
       "    <tr>\n",
       "      <th>87</th>\n",
       "      <td>BPMSP3D</td>\n",
       "      <td>3051.005727</td>\n",
       "      <td>-7.017107e-13</td>\n",
       "    </tr>\n",
       "    <tr>\n",
       "      <th>88</th>\n",
       "      <td>BPMSP4D</td>\n",
       "      <td>3157.709420</td>\n",
       "      <td>-9.005216e-13</td>\n",
       "    </tr>\n",
       "    <tr>\n",
       "      <th>89</th>\n",
       "      <td>BPMSP5D</td>\n",
       "      <td>3213.447995</td>\n",
       "      <td>-1.004337e-12</td>\n",
       "    </tr>\n",
       "  </tbody>\n",
       "</table>\n",
       "<p>78 rows × 3 columns</p>\n",
       "</div>"
      ],
      "text/plain": [
       "       Name         s(m)        eta(m)\n",
       "0     BPM1B     0.489650  0.000000e+00\n",
       "1     BPM2B     1.884224  0.000000e+00\n",
       "2   BPM0H01    18.645042  0.000000e+00\n",
       "3   BPM0H04    24.035167  0.000000e+00\n",
       "4   BPM0H05    25.257467  0.000000e+00\n",
       "..      ...          ...           ...\n",
       "85   BPMDAS  2934.015161 -1.831367e-13\n",
       "86  BPMSP2D  2972.290761 -5.198622e-13\n",
       "87  BPMSP3D  3051.005727 -7.017107e-13\n",
       "88  BPMSP4D  3157.709420 -9.005216e-13\n",
       "89  BPMSP5D  3213.447995 -1.004337e-12\n",
       "\n",
       "[78 rows x 3 columns]"
      ]
     },
     "execution_count": 8,
     "metadata": {},
     "output_type": "execute_result"
    }
   ],
   "source": [
    "# Drop the BPMs with \"non-zero\" dispersion\n",
    "df2 = df.drop(df[abs(df['eta(m)']) > 1e-6].index)\n",
    "df2"
   ]
  },
  {
   "cell_type": "code",
   "execution_count": 9,
   "id": "7283b711-df1b-445f-ad8e-6f01adab1529",
   "metadata": {},
   "outputs": [
    {
     "data": {
      "text/html": [
       "<div>\n",
       "<style scoped>\n",
       "    .dataframe tbody tr th:only-of-type {\n",
       "        vertical-align: middle;\n",
       "    }\n",
       "\n",
       "    .dataframe tbody tr th {\n",
       "        vertical-align: top;\n",
       "    }\n",
       "\n",
       "    .dataframe thead th {\n",
       "        text-align: right;\n",
       "    }\n",
       "</style>\n",
       "<table border=\"1\" class=\"dataframe\">\n",
       "  <thead>\n",
       "    <tr style=\"text-align: right;\">\n",
       "      <th></th>\n",
       "      <th>Name</th>\n",
       "      <th>s(m)</th>\n",
       "      <th>eta(m)</th>\n",
       "    </tr>\n",
       "  </thead>\n",
       "  <tbody>\n",
       "    <tr>\n",
       "      <th>0</th>\n",
       "      <td>BPM1B</td>\n",
       "      <td>0.489650</td>\n",
       "      <td>0.000000e+00</td>\n",
       "    </tr>\n",
       "    <tr>\n",
       "      <th>1</th>\n",
       "      <td>BPM2B</td>\n",
       "      <td>1.884224</td>\n",
       "      <td>0.000000e+00</td>\n",
       "    </tr>\n",
       "    <tr>\n",
       "      <th>2</th>\n",
       "      <td>BPM0H01</td>\n",
       "      <td>18.645042</td>\n",
       "      <td>0.000000e+00</td>\n",
       "    </tr>\n",
       "    <tr>\n",
       "      <th>3</th>\n",
       "      <td>BPM0H04</td>\n",
       "      <td>24.035167</td>\n",
       "      <td>0.000000e+00</td>\n",
       "    </tr>\n",
       "    <tr>\n",
       "      <th>4</th>\n",
       "      <td>BPM0H05</td>\n",
       "      <td>25.257467</td>\n",
       "      <td>0.000000e+00</td>\n",
       "    </tr>\n",
       "    <tr>\n",
       "      <th>...</th>\n",
       "      <td>...</td>\n",
       "      <td>...</td>\n",
       "      <td>...</td>\n",
       "    </tr>\n",
       "    <tr>\n",
       "      <th>73</th>\n",
       "      <td>BPMDAS</td>\n",
       "      <td>2934.015161</td>\n",
       "      <td>-1.831367e-13</td>\n",
       "    </tr>\n",
       "    <tr>\n",
       "      <th>74</th>\n",
       "      <td>BPMSP2D</td>\n",
       "      <td>2972.290761</td>\n",
       "      <td>-5.198622e-13</td>\n",
       "    </tr>\n",
       "    <tr>\n",
       "      <th>75</th>\n",
       "      <td>BPMSP3D</td>\n",
       "      <td>3051.005727</td>\n",
       "      <td>-7.017107e-13</td>\n",
       "    </tr>\n",
       "    <tr>\n",
       "      <th>76</th>\n",
       "      <td>BPMSP4D</td>\n",
       "      <td>3157.709420</td>\n",
       "      <td>-9.005216e-13</td>\n",
       "    </tr>\n",
       "    <tr>\n",
       "      <th>77</th>\n",
       "      <td>BPMSP5D</td>\n",
       "      <td>3213.447995</td>\n",
       "      <td>-1.004337e-12</td>\n",
       "    </tr>\n",
       "  </tbody>\n",
       "</table>\n",
       "<p>78 rows × 3 columns</p>\n",
       "</div>"
      ],
      "text/plain": [
       "       Name         s(m)        eta(m)\n",
       "0     BPM1B     0.489650  0.000000e+00\n",
       "1     BPM2B     1.884224  0.000000e+00\n",
       "2   BPM0H01    18.645042  0.000000e+00\n",
       "3   BPM0H04    24.035167  0.000000e+00\n",
       "4   BPM0H05    25.257467  0.000000e+00\n",
       "..      ...          ...           ...\n",
       "73   BPMDAS  2934.015161 -1.831367e-13\n",
       "74  BPMSP2D  2972.290761 -5.198622e-13\n",
       "75  BPMSP3D  3051.005727 -7.017107e-13\n",
       "76  BPMSP4D  3157.709420 -9.005216e-13\n",
       "77  BPMSP5D  3213.447995 -1.004337e-12\n",
       "\n",
       "[78 rows x 3 columns]"
      ]
     },
     "execution_count": 9,
     "metadata": {},
     "output_type": "execute_result"
    }
   ],
   "source": [
    "# Reset index if needed\n",
    "df2.reset_index(drop=True)"
   ]
  },
  {
   "cell_type": "code",
   "execution_count": 15,
   "id": "74848395-c4d6-4874-9e6c-c73e0c255b34",
   "metadata": {},
   "outputs": [],
   "source": [
    "# Save the file as a CSV\n",
    "df2.to_csv('file1.csv')"
   ]
  }
 ],
 "metadata": {
  "kernelspec": {
   "display_name": "Lcls-live",
   "language": "python",
   "name": "lcls-live"
  },
  "language_info": {
   "codemirror_mode": {
    "name": "ipython",
    "version": 3
   },
   "file_extension": ".py",
   "mimetype": "text/x-python",
   "name": "python",
   "nbconvert_exporter": "python",
   "pygments_lexer": "ipython3",
   "version": "3.8.10"
  }
 },
 "nbformat": 4,
 "nbformat_minor": 5
}
