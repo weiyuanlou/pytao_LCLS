{
 "cells": [
  {
   "cell_type": "code",
   "execution_count": 1,
   "id": "aed8fce1-e41a-48d5-954b-b2c23a08ff75",
   "metadata": {},
   "outputs": [],
   "source": [
    "MODEL = 'sc_diag0' # or sc_diag0 or sc_inj\n",
    "BEGELE = 'BEGINNING'\n",
    "ENDELE = 'END'"
   ]
  },
  {
   "cell_type": "code",
   "execution_count": 2,
   "id": "fbd20f35-0e11-4e2f-929b-b9827590167c",
   "metadata": {},
   "outputs": [],
   "source": [
    "from pytao import Tao\n",
    "\n",
    "#tao = Tao(f'-init $LCLS_LATTICE/bmad/models/{MODEL}/tao.init  -slice  {BEGELE}:{ENDELE}')\n",
    "\n",
    "\n",
    "tao = Tao(f'-init tao.init')\n",
    "\n",
    "# Master switches for element scaling\n",
    "tao.cmd('set ele quad::* field_master = T')\n",
    "tao.cmd('set ele sbend::* field_master = T')\n",
    "#tao.cmd('set ele lcavity::CAVL* autoscale_amplitude = T') # field_au\n",
    "if MODEL == 'sc_inj':\n",
    "    tao.cmd('set ele lcavity::CAVL* autoscale_phase = T')"
   ]
  },
  {
   "cell_type": "code",
   "execution_count": 3,
   "id": "d5b79fa7-f1a3-46d1-87fc-add489e1b7fb",
   "metadata": {},
   "outputs": [
    {
     "name": "stdout",
     "output_type": "stream",
     "text": [
      "-------------------------\n",
      "Tao> sho beam\n",
      "Universe: 1  of: 1\n",
      "\n",
      "global%track_type           = \"single\"\n",
      "global%beam_timer_on        = T\n",
      "\n",
      "General beam components (set by \"set beam ...\"):\n",
      "always_reinit     = F\n",
      "saved_at          = \"MARKER::*\"\n",
      "dump_at           = \"\"\n",
      "dump_file         = \"\"\n",
      "comb_ds_save      =  -1.00000000E+00\n",
      "comb_max_ds_save  =  -1.00000000E+00\n",
      "comb index range:   0  -1\n",
      "track_start       = \"OTR0H04\"\n",
      "track_end         = \"END\"\n",
      "beam_init components (set by \"set beam_init ...\"):\n",
      "  %position_file          = \"\"\n",
      "  %distribution_type      = \"\"  \"\"  \"\"\n",
      "  %use_particle_start     = F\n",
      "  %center                 =   0.00000000E+00  0.00000000E+00  0.00000000E+00  0.00000000E+00  0.00000000E+00  0.00000000E+00\n",
      "  %spin                   =   0.00000000E+00  0.00000000E+00  0.00000000E+00\n",
      "  %center_jitter          =   0.00000000E+00  0.00000000E+00  0.00000000E+00  0.00000000E+00  0.00000000E+00  0.00000000E+00\n",
      "  %n_particle             = 1000\n",
      "  %bunch_charge           =   1.00000000E-10\n",
      "  %a_norm_emit            =   1.00000000E-06  ! Equivalent emittance:  4.05233446E-07\n",
      "  %b_norm_emit            =   1.00000000E-06  ! Equivalent emittance:  4.05233446E-07\n",
      "  %a_emit                 =   0.00000000E+00  ! Equivalent normalized emittance:  0.00000000E+00\n",
      "  %b_emit                 =   0.00000000E+00  ! Equivalent normalized emittance:  0.00000000E+00\n",
      "  %dPz_dz                 =   0.00000000E+00\n",
      "  %dt_bunch               =   0.00000000E+00\n",
      "  %sig_z                  =   1.00000000E-03\n",
      "  %sig_pz                 =   1.00000000E-04\n",
      "  %emit_jitter            =   0.00000000E+00  0.00000000E+00\n",
      "  %sig_z_jitter           =   0.00000000E+00\n",
      "  %sig_pz_jitter          =   0.00000000E+00\n",
      "  %species                = \"\"\n",
      "  %renorm_center          = T\n",
      "  %renorm_sigma           = T\n",
      "  %random_engine          = \"quasi\"\n",
      "  %random_gauss_converter = \"exact\"\n",
      "  %random_sigma_cutoff    = -1.000\n",
      "\n",
      "bmad_com components (set by \"set bmad_com ...\"):\n",
      "  %sr_wakes_on                     = T\n",
      "  %lr_wakes_on                     = T\n",
      "  %csr_and_space_charge_on         = F\n",
      "  %spin_tracking_on                = F\n",
      "  %spin_sokolov_ternov_flipping_on = F\n",
      "  %radiation_damping_on            = F\n",
      "  %radiation_zero_average          = F\n",
      "  %radiation_fluctuations_on       = T\n",
      "\n",
      "space_charge_com components (set by \"set space_charge_com ...\"):\n",
      "  %ds_track_step                  =   0.00000000E+00\n",
      "  %dt_track_step                  =   1.00000000E-12\n",
      "  %cathode_strength_cutoff        =   9.99999978E-03\n",
      "  %rel_tol_tracking               =   1.00000000E-08\n",
      "  %abs_tol_tracking               =   1.00000000E-10\n",
      "  %beam_chamber_height            =   0.00000000E+00\n",
      "  %sigma_cutoff                   =   1.00000001E-01\n",
      "  %space_charge_mesh_size         = 32  32  64\n",
      "  %csr3d_mesh_size                = 32  32  64\n",
      "  %n_bin                          = 0\n",
      "  %particle_bin_span              = 2\n",
      "  %n_shield_images                = 0\n",
      "  %sc_min_in_bin                  = 10\n",
      "  %lsc_kick_transverse_dependence = F\n",
      "  %diagnostic_output_file         = \"\"\n",
      "-------------------------\n",
      "Tao> \n"
     ]
    }
   ],
   "source": [
    "%%tao\n",
    "sho beam"
   ]
  },
  {
   "cell_type": "code",
   "execution_count": 4,
   "id": "0e896512-71f1-4ff0-96f5-8082fd33c59f",
   "metadata": {},
   "outputs": [
    {
     "name": "stdout",
     "output_type": "stream",
     "text": [
      "-------------------------\n",
      "Tao> beamon\n",
      "-------------------------\n",
      "Tao> \n"
     ]
    }
   ],
   "source": [
    "%%tao\n",
    "beamon"
   ]
  },
  {
   "cell_type": "code",
   "execution_count": 5,
   "id": "70e7cd44-3005-4454-97b6-848c9c6ed8c6",
   "metadata": {},
   "outputs": [
    {
     "name": "stdout",
     "output_type": "stream",
     "text": [
      "-------------------------\n",
      "Tao> place floor orbit\n",
      "-------------------------\n",
      "Tao> place top bunch_size_x \n",
      "-------------------------\n",
      "Tao> x_scale top 0 60\n",
      "-------------------------\n",
      "Tao> \n",
      "-------------------------\n",
      "Tao> sc\n",
      "-------------------------\n",
      "Tao> \n"
     ]
    }
   ],
   "source": [
    "%%tao\n",
    "place floor orbit\n",
    "place top bunch_size_x \n",
    "x_scale top 0 60\n",
    "\n",
    "sc\n"
   ]
  },
  {
   "cell_type": "code",
   "execution_count": 6,
   "id": "c7f006f9-2b95-471a-b399-192f5ee870ee",
   "metadata": {},
   "outputs": [
    {
     "name": "stdout",
     "output_type": "stream",
     "text": [
      "-------------------------\n",
      "Tao> beamoff\n",
      "-------------------------\n",
      "Tao> \n"
     ]
    }
   ],
   "source": [
    "%%tao\n",
    "beamoff"
   ]
  },
  {
   "cell_type": "code",
   "execution_count": 7,
   "id": "2da6fd13-6809-40ad-be99-77606ff18d23",
   "metadata": {},
   "outputs": [
    {
     "name": "stdout",
     "output_type": "stream",
     "text": [
      "-------------------------\n",
      "Tao> set ele CAVL016 phi0 = 0.\n",
      "-------------------------\n",
      "Tao> \n"
     ]
    }
   ],
   "source": [
    "%%tao\n",
    "set ele CAVL016 phi0 = 0."
   ]
  },
  {
   "cell_type": "code",
   "execution_count": 8,
   "id": "c9f4f245-7389-45a9-8693-b1b5542bad4b",
   "metadata": {},
   "outputs": [
    {
     "name": "stdout",
     "output_type": "stream",
     "text": [
      "-------------------------\n",
      "Tao> set ele CAVL016 phi0_err = 0.\n",
      "-------------------------\n",
      "Tao> \n"
     ]
    }
   ],
   "source": [
    "%%tao\n",
    "set ele CAVL016 phi0_err = 0."
   ]
  },
  {
   "cell_type": "code",
   "execution_count": 9,
   "id": "49c4309c-718c-4a72-8e8c-afa6504a7af9",
   "metadata": {},
   "outputs": [
    {
     "name": "stdout",
     "output_type": "stream",
     "text": [
      "-------------------------\n",
      "Tao> sho ele CAVL016\n",
      "Element # 83\n",
      "Element Name: CAVL016\n",
      "Element Type:  \"F1.3-19\"\n",
      "Element Alias:  \"ACCL:L0B:0160\"\n",
      "Key: Lcavity\n",
      "S_start, S:      9.741955,     10.779699\n",
      "Ref_time:  3.688410E-08\n",
      "\n",
      "Attribute values [Only non-zero values shown]:\n",
      "    1  L                           =  1.0377431E+00 m        31  L_ACTIVE                    =  1.1530479E-01 m\n",
      "    3  RF_FREQUENCY                =  1.3000000E+09 Hz        5  RF_WAVELENGTH               =  2.3060958E-01 m\n",
      "    7  GRADIENT_ERR                =  0.0000000E+00 eV/m\n",
      "    8  VOLTAGE                     =  1.7226536E+07 Volt      6  GRADIENT                    =  1.6600000E+07 eV/m\n",
      "    9  VOLTAGE_ERR                 =  0.0000000E+00 Volt\n",
      "   10  FRINGE_TYPE                 =  Full (4)               11  FRINGE_AT                   =  Both_Ends (3)\n",
      "   13  SPIN_FRINGE_ON              =  T (1)\n",
      "   17  STATIC_LINEAR_MAP           =  F (0)\n",
      "   18  AUTOSCALE_AMPLITUDE         =  T (1)                  19  AUTOSCALE_PHASE             =  T (1)\n",
      "   20  LONGITUDINAL_MODE           = 0\n",
      "   21  E_LOSS                      =  0.0000000E+00 eV\n",
      "   25  PHI0_ERR                    =  0.0000000E+00 rad/2pi\n",
      "   29  FIELD_AUTOSCALE             =  1.0000000E+00          27  PHI0_AUTOSCALE              =  0.0000000E+00 rad/2pi\n",
      "   33  N_CELL                      = 1                       23  CAVITY_TYPE                 =  Standing_Wave (1)\n",
      "   44  COUPLER_PHASE               =  0.0000000E+00 rad/2pi\n",
      "   47  COUPLER_AT                  =  Exit_End (2)           46  COUPLER_STRENGTH            =  0.0000000E+00\n",
      "   50  DELTA_REF_TIME              =  3.4616807E-09 sec\n",
      "   51  P0C_START                   =  4.8399003E+07 eV           BETA_START                  =  9.9994427E-01\n",
      "   52  E_TOT_START                 =  4.8401701E+07 eV           DELTA_E                     =  1.7226536E+07 eV\n",
      "   53  P0C                         =  6.5626247E+07 eV           BETA                        =  9.9996969E-01\n",
      "   54  E_TOT                       =  6.5628237E+07 eV           GAMMA                       =  1.2843126E+02\n",
      "   65  INTEGRATOR_ORDER            = 0\n",
      "   67  DS_STEP                     =  1.0377431E-01 m        66  NUM_STEPS                   = 10\n",
      "   68  CSR_DS_STEP                 =  0.0000000E+00 m\n",
      "   71  X1_LIMIT                    =  3.5000000E-02 m        72  X2_LIMIT                    =  3.5000000E-02 m\n",
      "   73  Y1_LIMIT                    =  3.5000000E-02 m        74  Y2_LIMIT                    =  3.5000000E-02 m\n",
      "\n",
      "       TRACKING_METHOD              =  Bmad_Standard             APERTURE_AT                =  Exit_End\n",
      "       MAT6_CALC_METHOD             =  Auto                      APERTURE_TYPE              =  Rectangular\n",
      "       SPIN_TRACKING_METHOD         =  Tracking                  OFFSET_MOVES_APERTURE      =  F\n",
      "       PTC_INTEGRATION_TYPE         =  Matrix_Kick               SYMPLECTIFY                =  F\n",
      "       CSR_METHOD                   =  Off                       FIELD_MASTER               =  F\n",
      "       SPACE_CHARGE_METHOD          =  Off                       LONGITUDINAL ORIENTATION   =       1\n",
      "       FIELD_CALC                   =  Bmad_Standard\n",
      "\n",
      "Slave_status: Free\n",
      "\n",
      "Lord_status:  Not_a_Lord\n",
      "\n",
      "Twiss at end of element:\n",
      "                          A              B            Cbar                        C_mat\n",
      "  Beta (m)         2.46538643     2.37584439  |   0.00000000   0.00000000      0.00000000   0.00000000\n",
      "  Alpha           -0.42668880    -0.43126330  |   0.00000000   0.00000000      0.00000000   0.00000000\n",
      "  Gamma (1/m)      0.47946371     0.49918590  |   Gamma_c =   1.00000000       Mode_Flip = F\n",
      "  Phi (rad)        5.10100517     5.10545135            X              Y              Z\n",
      "  Eta (m)          0.00000000     0.00000000     0.00000000     0.00000000    -1.03194723\n",
      "  Etap             0.00000000     0.00000000     0.00000000     0.00000000    -0.00000000\n",
      "\n",
      "Short-Range Wake:\n",
      "  scale_with_length = T\n",
      "  amp_scale         = 4.30355E+13\n",
      "  z_scale           = 588.23529411765\n",
      "  z_max             = 0.01\n",
      "\n",
      "  Short-Range Longitudinal Pseudo Modes:\n",
      "   #        Amp        Damp           K         Phi   Transverse_Dependence\n",
      "   1  3.7144E-01  2.4646E-01  0.0000E+00  2.5000E-01   none\n",
      "   2  3.8524E-01  1.6326E+00  0.0000E+00  2.5000E-01   none\n",
      "   3  2.3355E-01  2.0924E+01  0.0000E+00  2.5000E-01   none\n",
      "\n",
      "Orbit:  Electron   State: Alive\n",
      "         Position[mm] Momentum[mrad]        Spin   |\n",
      "  X:       0.00000000     0.00000000               | t_particle [sec]:        3.68840991E-08  E_tot: 6.56282E+07\n",
      "  Y:       0.00000000     0.00000000               | t_part-t_ref [sec]:      0.00000000E+00  PC:    6.56262E+07\n",
      "  Z:      -0.00000000     0.00000000               | (t_ref-t_part)*Vel [m]:  0.00000000E+00  Beta:  0.999969687\n",
      "  Particle Phase relative to RF Phase (rad/2pi): 6.65529877E-16\n",
      "-------------------------\n",
      "Tao> \n"
     ]
    }
   ],
   "source": [
    "%%tao\n",
    "sho ele CAVL016"
   ]
  },
  {
   "cell_type": "code",
   "execution_count": 10,
   "id": "d7949208-72d1-44a8-b16c-58f1d11985f4",
   "metadata": {},
   "outputs": [
    {
     "name": "stdout",
     "output_type": "stream",
     "text": [
      "-------------------------\n",
      "Tao> sho ele OTRDG04\n",
      "Element # 353\n",
      "Element Name: OTRDG04\n",
      "Element Type:  \"OTR INJ\"\n",
      "Element Alias:  \"OTRS:DIAG0:525\"\n",
      "Key: Monitor\n",
      "S_start, S:     61.870875,     61.870875\n",
      "Ref_time:  2.073082E-07\n",
      "\n",
      "Attribute values [Only non-zero values shown]:\n",
      "    1  L                           =  0.0000000E+00 m\n",
      "    5  CRUNCH                      =  0.0000000E+00 rad\n",
      "    6  NOISE                       =  0.0000000E+00\n",
      "    7  OSC_AMPLITUDE               =  0.0000000E+00 m\n",
      "   10  FRINGE_TYPE                 =  None (1)               11  FRINGE_AT                   =  Both_Ends (3)\n",
      "   13  SPIN_FRINGE_ON              =  T (1)\n",
      "   17  STATIC_LINEAR_MAP           =  F (0)\n",
      "   21  CRUNCH_CALIB                =  0.0000000E+00 rad\n",
      "   24  TILT_CALIB                  =  0.0000000E+00 rad\n",
      "   25  DE_ETA_MEAS                 =  0.0000000E+00\n",
      "   26  N_SAMPLE                    =  0.0000000E+00\n",
      "   50  DELTA_REF_TIME              =  0.0000000E+00 sec\n",
      "   53  P0C                         =  9.9998694E+07 eV           BETA                        =  9.9998694E-01\n",
      "   54  E_TOT                       =  1.0000000E+08 eV           GAMMA                       =  1.9569512E+02\n",
      "   65  INTEGRATOR_ORDER            = 0\n",
      "   67  DS_STEP                     =  2.0000000E-01 m        66  NUM_STEPS                   = 1\n",
      "   68  CSR_DS_STEP                 =  0.0000000E+00 m\n",
      "\n",
      "       TRACKING_METHOD              =  Bmad_Standard             APERTURE_AT                =  Exit_End\n",
      "       MAT6_CALC_METHOD             =  Auto                      APERTURE_TYPE              =  Rectangular\n",
      "       SPIN_TRACKING_METHOD         =  Tracking                  OFFSET_MOVES_APERTURE      =  F\n",
      "       PTC_INTEGRATION_TYPE         =  Matrix_Kick               SYMPLECTIFY                =  F\n",
      "       CSR_METHOD                   =  Off                       LONGITUDINAL ORIENTATION   =       1\n",
      "       SPACE_CHARGE_METHOD          =  Off\n",
      "       FIELD_CALC                   =  Bmad_Standard\n",
      "\n",
      "Slave_status: Free\n",
      "\n",
      "Lord_status:  Not_a_Lord\n",
      "\n",
      "Twiss at end of element:\n",
      "                          A              B            Cbar                        C_mat\n",
      "  Beta (m)         5.31852367     0.15840783  |   0.00032852   0.00629137     -0.01675923   0.00577470\n",
      "  Alpha           -1.59812978    -0.51194524  |   0.00037640   0.00024346     -0.00476159   0.00177722\n",
      "  Gamma (1/m)      0.66823408     7.96733284  |   Gamma_c =   1.00000114       Mode_Flip = F\n",
      "  Phi (rad)       20.73258839    23.67199575            X              Y              Z\n",
      "  Eta (m)         -0.00560404    -0.53999357     0.00000000    -0.53999295   -11.18321005\n",
      "  Etap            -0.00151074    -0.59671220     0.00000000    -0.59671151    -0.00000000\n",
      "\n",
      "Orbit:  Electron   State: Alive\n",
      "         Position[mm] Momentum[mrad]        Spin   |\n",
      "  X:       0.00000000     0.00000000               | t_particle [sec]:        2.07308229E-07  E_tot: 1.00000E+08\n",
      "  Y:      -0.00000000    -0.00000000               | t_part-t_ref [sec]:      0.00000000E+00  PC:    9.99987E+07\n",
      "  Z:      -0.00000000     0.00000000               | (t_ref-t_part)*Vel [m]:  0.00000000E+00  Beta:  0.999986944\n",
      "-------------------------\n",
      "Tao> \n"
     ]
    }
   ],
   "source": [
    "%%tao\n",
    "sho ele OTRDG04"
   ]
  },
  {
   "cell_type": "code",
   "execution_count": null,
   "id": "e7db5e2e-1ca7-4469-b37f-6d58c492ac86",
   "metadata": {},
   "outputs": [],
   "source": []
  }
 ],
 "metadata": {
  "kernelspec": {
   "display_name": "Lcls-live",
   "language": "python",
   "name": "lcls-live"
  },
  "language_info": {
   "codemirror_mode": {
    "name": "ipython",
    "version": 3
   },
   "file_extension": ".py",
   "mimetype": "text/x-python",
   "name": "python",
   "nbconvert_exporter": "python",
   "pygments_lexer": "ipython3",
   "version": "3.8.15"
  }
 },
 "nbformat": 4,
 "nbformat_minor": 5
}
