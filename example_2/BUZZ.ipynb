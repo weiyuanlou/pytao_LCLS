{
 "cells": [
  {
   "cell_type": "code",
   "execution_count": 13,
   "id": "c8490525-6a62-4546-96fe-8520ce6a5140",
   "metadata": {},
   "outputs": [],
   "source": [
    "import epics, os, time"
   ]
  },
  {
   "cell_type": "code",
   "execution_count": 14,
   "id": "f1209f84-8302-4051-ad39-09c9b170794b",
   "metadata": {},
   "outputs": [],
   "source": [
    "from epics import caget\n",
    "from time import sleep"
   ]
  },
  {
   "cell_type": "code",
   "execution_count": 15,
   "id": "4a7dfe09-bc55-4541-b0aa-dfabdf82a3ed",
   "metadata": {},
   "outputs": [
    {
     "data": {
      "text/plain": [
       "52.01447677612305"
      ]
     },
     "execution_count": 15,
     "metadata": {},
     "output_type": "execute_result"
    }
   ],
   "source": [
    "caget(\"TORO:GUNB:360:CHRG\")"
   ]
  },
  {
   "cell_type": "code",
   "execution_count": 16,
   "id": "126347aa-8d2b-4992-9032-07aa428a971e",
   "metadata": {},
   "outputs": [],
   "source": [
    "def run1():\n",
    "    flag = 1\n",
    "    if caget(\"TPR:LGUN:TS01:0:CH00_RATE\") < 8.0:\n",
    "        flag = 0\n",
    "        sleep(5.0)\n",
    "        while caget(\"TPR:LGUN:TS01:0:CH00_RATE\") < 8.0:        \n",
    "            os.system( \"say no beam\" )\n",
    "            sleep(2.0)\n",
    "    return None\n",
    "\n",
    "def run2():\n",
    "    flag = 1\n",
    "    if caget(\"TORO:GUNB:360:CHRG\") < 30:\n",
    "        flag = 0\n",
    "        sleep(5.0)\n",
    "        while caget(\"TORO:GUNB:360:CHRG\") < 30:         \n",
    "            os.system( \"say no beam\" )\n",
    "            sleep(2.0)\n",
    "    return None"
   ]
  },
  {
   "cell_type": "code",
   "execution_count": 17,
   "id": "2e22bd2b-f982-4505-bd5f-f65517e92729",
   "metadata": {},
   "outputs": [],
   "source": [
    "#os.system(\"say hello\")"
   ]
  },
  {
   "cell_type": "code",
   "execution_count": 18,
   "id": "1e131646-a10a-48d9-b104-da2b6ca883c3",
   "metadata": {},
   "outputs": [
    {
     "name": "stderr",
     "output_type": "stream",
     "text": [
      "Speaking failed: -128\n",
      "CA.Client.Exception...............................................\n",
      "    Warning: \"Virtual circuit unresponsive\"\n",
      "    Context: \"localhost:24111\"\n",
      "    Source File: ../tcpiiu.cpp line 926\n",
      "    Current Time: Sat Nov 19 2022 04:13:25.480586728\n",
      "..................................................................\n",
      "Speaking failed: -128\n",
      "CA.Client.Exception...............................................\n",
      "    Warning: \"Virtual circuit disconnect\"\n",
      "    Context: \"localhost:24111\"\n",
      "    Source File: ../cac.cpp line 1237\n",
      "    Current Time: Sat Nov 19 2022 04:13:29.282821718\n",
      "..................................................................\n",
      "CAC: Unable to connect because \"Connection refused\"\n",
      "CAC: error = \"Network is unreachable\" sending UDP msg to 134.79.87.255:5064\n"
     ]
    },
    {
     "name": "stdout",
     "output_type": "stream",
     "text": [
      "cannot connect to TORO:GUNB:360:CHRG\n"
     ]
    },
    {
     "ename": "TypeError",
     "evalue": "'<' not supported between instances of 'NoneType' and 'int'",
     "output_type": "error",
     "traceback": [
      "\u001b[0;31m---------------------------------------------------------------------------\u001b[0m",
      "\u001b[0;31mTypeError\u001b[0m                                 Traceback (most recent call last)",
      "Cell \u001b[0;32mIn [18], line 3\u001b[0m\n\u001b[1;32m      1\u001b[0m \u001b[38;5;28;01mwhile\u001b[39;00m \u001b[38;5;28;01mTrue\u001b[39;00m:\n\u001b[1;32m      2\u001b[0m     run1()\n\u001b[0;32m----> 3\u001b[0m     \u001b[43mrun2\u001b[49m\u001b[43m(\u001b[49m\u001b[43m)\u001b[49m\n",
      "Cell \u001b[0;32mIn [16], line 16\u001b[0m, in \u001b[0;36mrun2\u001b[0;34m()\u001b[0m\n\u001b[1;32m     14\u001b[0m flag \u001b[38;5;241m=\u001b[39m \u001b[38;5;241m0\u001b[39m\n\u001b[1;32m     15\u001b[0m sleep(\u001b[38;5;241m5.0\u001b[39m)\n\u001b[0;32m---> 16\u001b[0m \u001b[38;5;28;01mwhile\u001b[39;00m \u001b[43mcaget\u001b[49m\u001b[43m(\u001b[49m\u001b[38;5;124;43m\"\u001b[39;49m\u001b[38;5;124;43mTORO:GUNB:360:CHRG\u001b[39;49m\u001b[38;5;124;43m\"\u001b[39;49m\u001b[43m)\u001b[49m\u001b[43m \u001b[49m\u001b[38;5;241;43m<\u001b[39;49m\u001b[43m \u001b[49m\u001b[38;5;241;43m30\u001b[39;49m:         \n\u001b[1;32m     17\u001b[0m     os\u001b[38;5;241m.\u001b[39msystem( \u001b[38;5;124m\"\u001b[39m\u001b[38;5;124msay no beam\u001b[39m\u001b[38;5;124m\"\u001b[39m )\n\u001b[1;32m     18\u001b[0m     sleep(\u001b[38;5;241m2.0\u001b[39m)\n",
      "\u001b[0;31mTypeError\u001b[0m: '<' not supported between instances of 'NoneType' and 'int'"
     ]
    },
    {
     "name": "stderr",
     "output_type": "stream",
     "text": [
      "CAC: ok sending UDP msg to 134.79.87.255:5064\n",
      "CAC: Unable to connect because \"Invalid argument\"\n",
      "CAC: error = \"Network is unreachable\" sending UDP msg to 134.79.87.255:5064\n"
     ]
    }
   ],
   "source": [
    "while True:\n",
    "    run1()\n",
    "    run2()"
   ]
  },
  {
   "cell_type": "code",
   "execution_count": null,
   "id": "d79e09a8-f228-4e5e-aa90-32afe66c74a7",
   "metadata": {},
   "outputs": [],
   "source": []
  },
  {
   "cell_type": "code",
   "execution_count": null,
   "id": "fd69b364-d9c6-4cbb-a813-745e73218f3f",
   "metadata": {},
   "outputs": [],
   "source": []
  }
 ],
 "metadata": {
  "kernelspec": {
   "display_name": "Python 3 (ipykernel)",
   "language": "python",
   "name": "python3"
  },
  "language_info": {
   "codemirror_mode": {
    "name": "ipython",
    "version": 3
   },
   "file_extension": ".py",
   "mimetype": "text/x-python",
   "name": "python",
   "nbconvert_exporter": "python",
   "pygments_lexer": "ipython3",
   "version": "3.8.15"
  }
 },
 "nbformat": 4,
 "nbformat_minor": 5
}
