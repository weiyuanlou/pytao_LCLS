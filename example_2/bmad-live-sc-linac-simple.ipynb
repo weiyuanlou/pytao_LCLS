{
 "cells": [
  {
   "cell_type": "markdown",
   "id": "200cddb5-9fa2-461b-8e50-cfb0c2ae6100",
   "metadata": {},
   "source": [
    "### Check epics connection"
   ]
  },
  {
   "cell_type": "code",
   "execution_count": 1,
   "id": "eab02fe3-b47b-4c49-8886-c1f9a5b9db2b",
   "metadata": {},
   "outputs": [],
   "source": [
    "from epics import caget"
   ]
  },
  {
   "cell_type": "code",
   "execution_count": 2,
   "id": "0efe9094-cd1e-4a2f-9150-96e73f8613d8",
   "metadata": {},
   "outputs": [
    {
     "name": "stdout",
     "output_type": "stream",
     "text": [
      "cannot connect to OTRS:DIAG0:525:XRMS\n"
     ]
    }
   ],
   "source": [
    "# Make sure these lines are included in your bash_rc or bash_profile.\n",
    "#######\n",
    "# alias epicsproxy=\"ssh -fN -L <some number over 24000>:lcls-prod01.slac.stanford.edu:5068 slac\"\n",
    "# export EPICS_CA_NAME_SERVERS=localhost:<same number over 24000>\n",
    "# alias epicstest=\"caget KLYS:LI22:11:KPHR\"\n",
    "#######\n",
    "\n",
    "## In a terminal, run \"epicsproxy\" in and enter SLAC credential to establish connection.\n",
    "## Then run \"epicstest\". If the connection worked, a number should be returned. \n",
    "## If a number is returned, yet this cell fails, re-start jupyter. \n",
    "\n",
    "#caget(\"QUAD:HTR:440:BACT\")\n",
    "caget(\"OTRS:DIAG0:525:XRMS\")"
   ]
  },
  {
   "cell_type": "markdown",
   "id": "04e05da3-9185-4251-8d82-3ede18a2471a",
   "metadata": {},
   "source": [
    "## Choose and slice Bmad lattice"
   ]
  },
  {
   "cell_type": "code",
   "execution_count": 3,
   "id": "dd15ca44-aa6e-4e42-ad3a-0110fce365df",
   "metadata": {},
   "outputs": [],
   "source": [
    "from bmad_live import get_DM_GOOD, get_pvdata, tao_commands, set_htr_twiss, run1"
   ]
  },
  {
   "cell_type": "code",
   "execution_count": 5,
   "id": "86496ea3-9320-4769-a088-531fcbc2b8eb",
   "metadata": {},
   "outputs": [],
   "source": [
    "MODEL = 'sc_bsyd' # or sc_diag0 or sc_inj\n",
    "\n",
    "BEGELE = 'BEGINNING'\n",
    "\n",
    "#ENDELE = 'OTR0H04'\n",
    "ENDELE = \"ENDCOL0\"\n",
    "\n",
    "## Do not include sections beyond the beam's reach!!!\n",
    "#ENDELE = 'END'\n",
    "#ENDELE = 'ENDL3B'"
   ]
  },
  {
   "cell_type": "code",
   "execution_count": 6,
   "id": "160ec56c-411e-41b4-a982-a62f5e40fb58",
   "metadata": {},
   "outputs": [],
   "source": [
    "from pytao import Tao\n",
    "\n",
    "tao = Tao(f'-init $LCLS_LATTICE/bmad/models/{MODEL}/tao.init  -slice  {BEGELE}:{ENDELE}')\n",
    "\n",
    "# Master switches for element scaling\n",
    "tao.cmd('set ele quad::* field_master = T')\n",
    "#tao.cmd('set ele lcavity::CAVL* autoscale_amplitude = T') # field_au\n",
    "if MODEL == 'sc_inj':\n",
    "    tao.cmd('set ele lcavity::CAVL* autoscale_phase = T')"
   ]
  },
  {
   "cell_type": "code",
   "execution_count": 7,
   "id": "9de5ee90-75f7-430f-ac0c-61c416f3a800",
   "metadata": {},
   "outputs": [
    {
     "name": "stdout",
     "output_type": "stream",
     "text": [
      "Bad PV: BPMS:COL0:940:Y\n",
      "Bad PV: BPMS:COL0:480:X\n",
      "Bad PV: BPMS:COL0:720:TMIT\n",
      "Bad PV: BPMS:COL0:880:Y\n",
      "Bad PV: SOLN:GUNB:823:BACT\n",
      "Bad PV: BPMS:HTR:460:Y\n",
      "Bad PV: BPMS:COL0:400:TMIT\n",
      "Bad PV: BPMS:HTR:980:X\n",
      "Bad PV: QUAD:COL0:260:BACT\n",
      "Bad PV: BPMS:COL0:560:Y\n",
      "Bad PV: BPMS:COL0:240:X\n",
      "Bad PV: BPMS:COL0:135:X\n",
      "Bad PV: QUAD:HTR:860:BACT\n",
      "Bad PV: ACCL:L0B:0170:PACTMEAN\n",
      "Bad PV: BPMS:COL0:720:X\n",
      "Bad PV: BPMS:HTR:120:Y\n",
      "Bad PV: QUAD:COL0:480:BACT\n",
      "Bad PV: QUAD:HTR:440:BACT\n",
      "Bad PV: QUAD:COL0:720:BACT\n",
      "Bad PV: ACCL:L0B:0160:AACTMEAN\n",
      "Bad PV: QUAD:GUNB:212:1:BACT\n",
      "Bad PV: BPMS:COL0:560:X\n",
      "Bad PV: BPMS:COL0:280:X\n",
      "Bad PV: BPMS:HTR:120:X\n",
      "Bad PV: BPMS:COL0:560:TMIT\n",
      "Bad PV: BPMS:HTR:460:TMIT\n",
      "Bad PV: BPMS:COL0:800:X\n",
      "Bad PV: BPMS:COL0:320:Y\n",
      "Bad PV: BPMS:HTR:540:Y\n",
      "Bad PV: QUAD:L0B:0185:BACT\n",
      "Bad PV: ACCL:GUNB:455:AACT_AVG\n",
      "Bad PV: BPMS:HTR:365:TMIT\n",
      "Bad PV: BPMS:HTR:860:TMIT\n",
      "Bad PV: QUAD:HTR:120:BACT\n",
      "Bad PV: QUAD:COL0:800:BACT\n",
      "Bad PV: BPMS:HTR:120:TMIT\n",
      "Bad PV: BPMS:COL0:135:TMIT\n",
      "Bad PV: BPMS:COL0:240:Y\n",
      "Bad PV: ACCL:L0B:0180:AACTMEAN\n",
      "Bad PV: BPMS:COL0:880:X\n",
      "Bad PV: BPMS:HTR:830:Y\n",
      "Bad PV: BPMS:HTR:540:TMIT\n",
      "Bad PV: BPMS:COL0:260:X\n",
      "Bad PV: BPMS:HTR:320:X\n",
      "Bad PV: BPMS:HTR:960:Y\n",
      "Bad PV: QUAD:HTR:830:BACT\n",
      "Bad PV: QUAD:HTR:140:BACT\n",
      "Bad PV: BPMS:HTR:830:X\n",
      "Bad PV: BPMS:HTR:760:TMIT\n",
      "Bad PV: QUAD:COL0:320:BACT\n",
      "Bad PV: BPMS:COL0:800:Y\n",
      "Bad PV: BPMS:COL0:800:TMIT\n",
      "Bad PV: QUAD:HTR:300:BACT\n",
      "Bad PV: BPMS:HTR:960:TMIT\n",
      "Bad PV: ACCL:L0B:0130:AACTMEAN\n",
      "Bad PV: ACCL:L0B:0140:PACTMEAN\n",
      "Bad PV: BPMS:HTR:540:X\n",
      "Bad PV: BPMS:HTR:365:Y\n",
      "Bad PV: BPMS:COL0:280:Y\n",
      "Bad PV: ACCL:GUNB:455:PACT_AVG\n",
      "Bad PV: ACCL:L0B:0120:PACTMEAN\n",
      "Bad PV: BPMS:HTR:460:X\n",
      "Bad PV: BPMS:HTR:320:TMIT\n",
      "Bad PV: BPMS:GUNB:314:TMIT\n",
      "Bad PV: BPMS:HTR:980:TMIT\n",
      "Bad PV: BPMS:COL0:260:Y\n",
      "Bad PV: BPMS:HTR:760:Y\n",
      "Bad PV: ACCL:L0B:0150:AACTMEAN\n",
      "Bad PV: QUAD:COL0:240:BACT\n",
      "Bad PV: BPMS:COL0:720:Y\n",
      "Bad PV: BPMS:HTR:860:Y\n",
      "Bad PV: BPMS:COL0:480:TMIT\n",
      "Bad PV: BPMS:GUNB:314:X\n",
      "Bad PV: QUAD:HTR:960:BACT\n",
      "Bad PV: BPMS:COL0:320:X\n",
      "Bad PV: SOLN:GUNB:212:BACT\n",
      "Bad PV: BPMS:COL0:940:X\n",
      "Bad PV: ACCL:L0B:0160:PACTMEAN\n",
      "Bad PV: BPMS:COL0:480:Y\n",
      "Bad PV: BPMS:HTR:980:Y\n",
      "Bad PV: QUAD:COL0:940:BACT\n",
      "Bad PV: BPMS:COL0:135:Y\n",
      "Bad PV: ACCL:L0B:0130:PACTMEAN\n",
      "Bad PV: QUAD:COL0:640:BACT\n",
      "Bad PV: BPMS:HTR:860:X\n",
      "Bad PV: BPMS:COL0:640:X\n",
      "Bad PV: BPMS:GUNB:314:Y\n",
      "Bad PV: QUAD:HTR:980:BACT\n",
      "Bad PV: QUAD:COL0:560:BACT\n",
      "Bad PV: QUAD:HTR:460:BACT\n",
      "Bad PV: BPMS:COL0:260:TMIT\n",
      "Bad PV: ACCL:L0B:0150:PACTMEAN\n",
      "Bad PV: SOLN:GUNB:100:BACT\n",
      "Bad PV: BPMS:COL0:880:TMIT\n",
      "Bad PV: QUAD:GUNB:823:1:BACT\n",
      "Bad PV: BPMS:GUNB:925:X\n",
      "Bad PV: BPMS:COL0:320:TMIT\n",
      "Bad PV: BPMS:COL0:640:TMIT\n",
      "Bad PV: QUAD:HTR:365:BACT\n",
      "Bad PV: BPMS:COL0:400:Y\n",
      "Bad PV: QUAD:COL0:400:BACT\n",
      "Bad PV: BPMS:COL0:280:TMIT\n",
      "Bad PV: QUAD:GUNB:823:2:BACT\n",
      "Bad PV: BPMS:HTR:365:X\n",
      "Bad PV: QUAD:HTR:320:BACT\n",
      "Bad PV: QUAD:COL0:280:BACT\n",
      "Bad PV: QUAD:COL0:880:BACT\n",
      "Bad PV: BPMS:COL0:640:Y\n",
      "Bad PV: ACCL:L0B:0120:AACTMEAN\n",
      "Bad PV: BPMS:HTR:830:TMIT\n",
      "Bad PV: BPMS:COL0:940:TMIT\n",
      "Bad PV: BPMS:COL0:400:X\n",
      "Bad PV: ACCL:L0B:0110:AACTMEAN\n",
      "Bad PV: ACCL:L0B:0140:AACTMEAN\n",
      "Bad PV: ACCL:L0B:0170:AACTMEAN\n",
      "Bad PV: BPMS:HTR:760:X\n",
      "Bad PV: ACCL:L0B:0180:PACTMEAN\n",
      "Bad PV: BPMS:GUNB:925:Y\n",
      "Bad PV: QUAD:GUNB:212:2:BACT\n",
      "Bad PV: QUAD:HTR:385:BACT\n",
      "Bad PV: BPMS:HTR:960:X\n",
      "Bad PV: BPMS:COL0:240:TMIT\n",
      "Bad PV: BPMS:GUNB:925:TMIT\n",
      "Bad PV: BPMS:HTR:320:Y\n",
      "Bad PV: ACCL:L0B:0110:PACTMEAN\n"
     ]
    }
   ],
   "source": [
    "MONITOR, DM_GOOD = get_DM_GOOD(tao, MODEL)"
   ]
  },
  {
   "cell_type": "code",
   "execution_count": 16,
   "id": "ba7f4f18-77f8-4a4e-a638-c3b198de1596",
   "metadata": {},
   "outputs": [
    {
     "data": {
      "text/plain": [
       "[]"
      ]
     },
     "execution_count": 16,
     "metadata": {},
     "output_type": "execute_result"
    },
    {
     "name": "stderr",
     "output_type": "stream",
     "text": [
      "CAC: error = \"Network is unreachable\" sending UDP msg to 192.168.1.255:5064\n"
     ]
    }
   ],
   "source": [
    "#%%tao\n",
    "tao.cmd(\"set ele CAVL011 is_on = T\")"
   ]
  },
  {
   "cell_type": "code",
   "execution_count": 9,
   "id": "a5510f36-61ee-4a60-ad04-f11acf16c6f5",
   "metadata": {},
   "outputs": [],
   "source": [
    "# Scale Tao plots using Tao magic\n",
    "\n",
    "#%%tao\n",
    "#place top energy\n",
    "#place middle orbit\n",
    "#x_s top 0 100\n",
    "#sc *\n",
    "#tao.cmd('set global plot_on = F')"
   ]
  },
  {
   "cell_type": "code",
   "execution_count": 10,
   "id": "6b72b580-6dca-4eb0-9276-c81b866c9682",
   "metadata": {},
   "outputs": [
    {
     "name": "stdout",
     "output_type": "stream",
     "text": [
      "dt: 0.1279299259185791\n"
     ]
    },
    {
     "name": "stderr",
     "output_type": "stream",
     "text": [
      "CAC: Unable to connect because \"Invalid argument\"\n",
      "CAC: Unable to connect because \"Invalid argument\"\n",
      "CAC: Unable to connect because \"Invalid argument\"\n",
      "CAC: Unable to connect because \"Invalid argument\"\n",
      "CAC: Unable to connect because \"Invalid argument\"\n",
      "CAC: Unable to connect because \"Invalid argument\"\n",
      "CAC: Unable to connect because \"Invalid argument\"\n",
      "CAC: Unable to connect because \"Invalid argument\"\n",
      "CAC: Unable to connect because \"Invalid argument\"\n",
      "CAC: Unable to connect because \"Invalid argument\"\n",
      "CAC: Unable to connect because \"Invalid argument\"\n",
      "CAC: Unable to connect because \"Invalid argument\"\n",
      "CAC: Unable to connect because \"Invalid argument\"\n",
      "CAC: Unable to connect because \"Invalid argument\"\n",
      "CAC: Unable to connect because \"Invalid argument\"\n",
      "CAC: Unable to connect because \"Invalid argument\"\n",
      "CAC: Unable to connect because \"Invalid argument\"\n",
      "CAC: Unable to connect because \"Invalid argument\"\n",
      "CAC: Unable to connect because \"Invalid argument\"\n",
      "CAC: Unable to connect because \"Invalid argument\"\n",
      "CAC: Unable to connect because \"Invalid argument\"\n",
      "CAC: Unable to connect because \"Invalid argument\"\n",
      "CAC: Unable to connect because \"Invalid argument\"\n",
      "CAC: Unable to connect because \"Invalid argument\"\n",
      "CAC: Unable to connect because \"Invalid argument\"\n",
      "CAC: Unable to connect because \"Invalid argument\"\n",
      "CAC: Unable to connect because \"Invalid argument\"\n",
      "CAC: Unable to connect because \"Invalid argument\"\n",
      "CAC: Unable to connect because \"Invalid argument\"\n",
      "CAC: Unable to connect because \"Invalid argument\"\n",
      "CAC: Unable to connect because \"Invalid argument\"\n",
      "CAC: Unable to connect because \"Invalid argument\"\n",
      "CAC: Unable to connect because \"Invalid argument\"\n",
      "CAC: Unable to connect because \"Invalid argument\"\n",
      "CAC: Unable to connect because \"Invalid argument\"\n",
      "CAC: Unable to connect because \"Invalid argument\"\n",
      "CAC: Unable to connect because \"Invalid argument\"\n",
      "CAC: Unable to connect because \"Invalid argument\"\n",
      "CAC: Unable to connect because \"Invalid argument\"\n",
      "CAC: Unable to connect because \"Invalid argument\"\n",
      "CAC: Unable to connect because \"Invalid argument\"\n",
      "CAC: Unable to connect because \"Invalid argument\"\n",
      "CAC: Unable to connect because \"Invalid argument\"\n",
      "CAC: Unable to connect because \"Invalid argument\"\n",
      "CAC: Unable to connect because \"Invalid argument\"\n",
      "CAC: Unable to connect because \"Invalid argument\"\n",
      "CAC: Unable to connect because \"Invalid argument\"\n",
      "CAC: Unable to connect because \"Invalid argument\"\n",
      "CAC: Unable to connect because \"Invalid argument\"\n",
      "CAC: Unable to connect because \"Invalid argument\"\n",
      "CAC: Unable to connect because \"Invalid argument\"\n",
      "CAC: Unable to connect because \"Invalid argument\"\n",
      "CAC: Unable to connect because \"Invalid argument\"\n",
      "CAC: Unable to connect because \"Invalid argument\"\n",
      "CAC: Unable to connect because \"Invalid argument\"\n",
      "CAC: Unable to connect because \"Invalid argument\"\n",
      "CAC: Unable to connect because \"Invalid argument\"\n",
      "CAC: Unable to connect because \"Invalid argument\"\n",
      "CAC: Unable to connect because \"Invalid argument\"\n",
      "CAC: Unable to connect because \"Invalid argument\"\n",
      "CAC: Unable to connect because \"Invalid argument\"\n",
      "CAC: Unable to connect because \"Invalid argument\"\n",
      "CAC: Unable to connect because \"Invalid argument\"\n",
      "CAC: Unable to connect because \"Invalid argument\"\n",
      "CAC: Unable to connect because \"Invalid argument\"\n",
      "CAC: Unable to connect because \"Invalid argument\"\n",
      "CAC: Unable to connect because \"Invalid argument\"\n",
      "CAC: Unable to connect because \"Invalid argument\"\n",
      "CAC: Unable to connect because \"Invalid argument\"\n",
      "CAC: Unable to connect because \"Invalid argument\"\n",
      "CAC: Unable to connect because \"Invalid argument\"\n",
      "CAC: Unable to connect because \"Invalid argument\"\n",
      "CAC: Unable to connect because \"Invalid argument\"\n",
      "CAC: Unable to connect because \"Invalid argument\"\n",
      "CAC: Unable to connect because \"Invalid argument\"\n",
      "CAC: Unable to connect because \"Invalid argument\"\n",
      "CAC: Unable to connect because \"Invalid argument\"\n",
      "CAC: Unable to connect because \"Invalid argument\"\n",
      "CAC: Unable to connect because \"Invalid argument\"\n",
      "CAC: Unable to connect because \"Invalid argument\"\n",
      "CAC: Unable to connect because \"Invalid argument\"\n",
      "CAC: Unable to connect because \"Invalid argument\"\n",
      "CAC: Unable to connect because \"Invalid argument\"\n",
      "CAC: Unable to connect because \"Invalid argument\"\n",
      "CAC: Unable to connect because \"Invalid argument\"\n",
      "CAC: Unable to connect because \"Invalid argument\"\n",
      "CAC: Unable to connect because \"Invalid argument\"\n",
      "CAC: Unable to connect because \"Invalid argument\"\n",
      "CAC: Unable to connect because \"Invalid argument\"\n",
      "CAC: Unable to connect because \"Invalid argument\"\n",
      "CAC: Unable to connect because \"Invalid argument\"\n",
      "CAC: Unable to connect because \"Invalid argument\"\n",
      "CAC: Unable to connect because \"Invalid argument\"\n",
      "CAC: Unable to connect because \"Invalid argument\"\n",
      "CAC: Unable to connect because \"Invalid argument\"\n",
      "CAC: Unable to connect because \"Invalid argument\"\n",
      "CAC: Unable to connect because \"Invalid argument\"\n",
      "CAC: Unable to connect because \"Invalid argument\"\n",
      "CAC: Unable to connect because \"Invalid argument\"\n",
      "CAC: Unable to connect because \"Invalid argument\"\n",
      "CAC: Unable to connect because \"Invalid argument\"\n",
      "CAC: Unable to connect because \"Invalid argument\"\n",
      "CAC: Unable to connect because \"Invalid argument\"\n",
      "CAC: Unable to connect because \"Invalid argument\"\n",
      "CAC: Unable to connect because \"Invalid argument\"\n",
      "CAC: Unable to connect because \"Invalid argument\"\n",
      "CAC: Unable to connect because \"Invalid argument\"\n",
      "CAC: Unable to connect because \"Invalid argument\"\n",
      "CAC: Unable to connect because \"Invalid argument\"\n",
      "CAC: Unable to connect because \"Invalid argument\"\n",
      "CAC: Unable to connect because \"Invalid argument\"\n",
      "CAC: Unable to connect because \"Invalid argument\"\n",
      "CAC: Unable to connect because \"Invalid argument\"\n",
      "CAC: Unable to connect because \"Invalid argument\"\n",
      "CAC: Unable to connect because \"Invalid argument\"\n",
      "CAC: Unable to connect because \"Invalid argument\"\n",
      "CAC: Unable to connect because \"Invalid argument\"\n",
      "CAC: Unable to connect because \"Invalid argument\"\n",
      "CAC: Unable to connect because \"Invalid argument\"\n",
      "CAC: Unable to connect because \"Invalid argument\"\n",
      "CAC: Unable to connect because \"Invalid argument\"\n",
      "CAC: Unable to connect because \"Invalid argument\"\n",
      "CAC: Unable to connect because \"Invalid argument\"\n",
      "CAC: Unable to connect because \"Invalid argument\"\n",
      "CAC: Unable to connect because \"Invalid argument\"\n",
      "CAC: Unable to connect because \"Invalid argument\"\n",
      "CAC: Unable to connect because \"Invalid argument\"\n",
      "CAC: Unable to connect because \"Invalid argument\"\n",
      "CAC: Unable to connect because \"Invalid argument\"\n",
      "CAC: Unable to connect because \"Invalid argument\"\n",
      "CAC: Unable to connect because \"Invalid argument\"\n",
      "CAC: Unable to connect because \"Invalid argument\"\n",
      "CAC: Unable to connect because \"Invalid argument\"\n",
      "CAC: Unable to connect because \"Invalid argument\"\n",
      "CAC: Unable to connect because \"Invalid argument\"\n",
      "CAC: Unable to connect because \"Invalid argument\"\n",
      "CAC: Unable to connect because \"Invalid argument\"\n",
      "CAC: Unable to connect because \"Invalid argument\"\n",
      "CAC: Unable to connect because \"Invalid argument\"\n",
      "CAC: Unable to connect because \"Invalid argument\"\n",
      "CAC: Unable to connect because \"Invalid argument\"\n",
      "CAC: Unable to connect because \"Invalid argument\"\n",
      "CAC: Unable to connect because \"Invalid argument\"\n",
      "CAC: Unable to connect because \"Invalid argument\"\n",
      "CAC: Unable to connect because \"Invalid argument\"\n",
      "CAC: Unable to connect because \"Invalid argument\"\n",
      "CAC: Unable to connect because \"Invalid argument\"\n",
      "CAC: Unable to connect because \"Invalid argument\"\n",
      "CAC: Unable to connect because \"Invalid argument\"\n",
      "CAC: Unable to connect because \"Invalid argument\"\n",
      "CAC: Unable to connect because \"Invalid argument\"\n",
      "CAC: Unable to connect because \"Invalid argument\"\n",
      "CAC: Unable to connect because \"Invalid argument\"\n",
      "CAC: Unable to connect because \"Invalid argument\"\n",
      "CAC: Unable to connect because \"Invalid argument\"\n",
      "CAC: Unable to connect because \"Invalid argument\"\n",
      "CAC: Unable to connect because \"Invalid argument\"\n",
      "CAC: Unable to connect because \"Invalid argument\"\n",
      "CAC: Unable to connect because \"Invalid argument\"\n",
      "CAC: Unable to connect because \"Invalid argument\"\n",
      "CAC: Unable to connect because \"Invalid argument\"\n",
      "CAC: Unable to connect because \"Invalid argument\"\n",
      "CAC: Unable to connect because \"Invalid argument\"\n",
      "CAC: Unable to connect because \"Invalid argument\"\n",
      "CAC: Unable to connect because \"Invalid argument\"\n",
      "CAC: Unable to connect because \"Invalid argument\"\n",
      "CAC: Unable to connect because \"Invalid argument\"\n",
      "CAC: Unable to connect because \"Invalid argument\"\n",
      "CAC: Unable to connect because \"Invalid argument\"\n",
      "CAC: Unable to connect because \"Invalid argument\"\n",
      "CAC: Unable to connect because \"Invalid argument\"\n",
      "CAC: Unable to connect because \"Invalid argument\"\n",
      "CAC: Unable to connect because \"Invalid argument\"\n",
      "CAC: Unable to connect because \"Invalid argument\"\n",
      "CAC: Unable to connect because \"Invalid argument\"\n",
      "CAC: Unable to connect because \"Invalid argument\"\n",
      "CAC: Unable to connect because \"Invalid argument\"\n",
      "CAC: Unable to connect because \"Invalid argument\"\n",
      "CAC: Unable to connect because \"Invalid argument\"\n",
      "CAC: Unable to connect because \"Invalid argument\"\n",
      "CAC: Unable to connect because \"Invalid argument\"\n",
      "CAC: Unable to connect because \"Invalid argument\"\n",
      "CAC: Unable to connect because \"Invalid argument\"\n",
      "CAC: Unable to connect because \"Invalid argument\"\n",
      "CAC: Unable to connect because \"Invalid argument\"\n",
      "CAC: Unable to connect because \"Invalid argument\"\n",
      "CAC: Unable to connect because \"Invalid argument\"\n",
      "CAC: Unable to connect because \"Invalid argument\"\n",
      "CAC: Unable to connect because \"Invalid argument\"\n",
      "CAC: Unable to connect because \"Invalid argument\"\n",
      "CAC: Unable to connect because \"Invalid argument\"\n",
      "CAC: Unable to connect because \"Invalid argument\"\n",
      "CAC: Unable to connect because \"Invalid argument\"\n",
      "CAC: Unable to connect because \"Invalid argument\"\n",
      "CAC: Unable to connect because \"Invalid argument\"\n",
      "CAC: Unable to connect because \"Invalid argument\"\n",
      "CAC: Unable to connect because \"Invalid argument\"\n",
      "CAC: Unable to connect because \"Invalid argument\"\n",
      "CAC: Unable to connect because \"Invalid argument\"\n",
      "CAC: Unable to connect because \"Invalid argument\"\n",
      "CAC: Unable to connect because \"Invalid argument\"\n",
      "CAC: Unable to connect because \"Invalid argument\"\n",
      "CAC: Unable to connect because \"Invalid argument\"\n",
      "CAC: Unable to connect because \"Invalid argument\"\n",
      "CAC: Unable to connect because \"Invalid argument\"\n",
      "CAC: Unable to connect because \"Invalid argument\"\n",
      "CAC: Unable to connect because \"Invalid argument\"\n",
      "CAC: Unable to connect because \"Invalid argument\"\n",
      "CAC: Unable to connect because \"Invalid argument\"\n",
      "CAC: Unable to connect because \"Invalid argument\"\n",
      "CAC: Unable to connect because \"Invalid argument\"\n",
      "CAC: Unable to connect because \"Invalid argument\"\n",
      "CAC: Unable to connect because \"Invalid argument\"\n",
      "CAC: Unable to connect because \"Invalid argument\"\n",
      "CAC: Unable to connect because \"Invalid argument\"\n",
      "CAC: Unable to connect because \"Invalid argument\"\n",
      "CAC: Unable to connect because \"Invalid argument\"\n",
      "CAC: Unable to connect because \"Invalid argument\"\n",
      "CAC: Unable to connect because \"Invalid argument\"\n",
      "CAC: Unable to connect because \"Invalid argument\"\n",
      "CAC: Unable to connect because \"Invalid argument\"\n",
      "CAC: Unable to connect because \"Invalid argument\"\n",
      "CAC: Unable to connect because \"Invalid argument\"\n",
      "CAC: Unable to connect because \"Invalid argument\"\n",
      "CAC: Unable to connect because \"Invalid argument\"\n",
      "CAC: Unable to connect because \"Invalid argument\"\n",
      "CAC: Unable to connect because \"Invalid argument\"\n",
      "CAC: Unable to connect because \"Invalid argument\"\n",
      "CAC: Unable to connect because \"Invalid argument\"\n",
      "CAC: Unable to connect because \"Invalid argument\"\n",
      "CAC: Unable to connect because \"Invalid argument\"\n",
      "CAC: Unable to connect because \"Invalid argument\"\n",
      "CAC: Unable to connect because \"Invalid argument\"\n",
      "CAC: Unable to connect because \"Invalid argument\"\n",
      "CAC: Unable to connect because \"Invalid argument\"\n",
      "CAC: Unable to connect because \"Invalid argument\"\n",
      "CAC: Unable to connect because \"Invalid argument\"\n",
      "CAC: Unable to connect because \"Invalid argument\"\n",
      "CAC: Unable to connect because \"Invalid argument\"\n",
      "CAC: Unable to connect because \"Invalid argument\"\n",
      "CAC: Unable to connect because \"Invalid argument\"\n",
      "CAC: Unable to connect because \"Invalid argument\"\n",
      "CAC: Unable to connect because \"Invalid argument\"\n",
      "CAC: Unable to connect because \"Invalid argument\"\n",
      "CAC: Unable to connect because \"Invalid argument\"\n",
      "CAC: Unable to connect because \"Invalid argument\"\n",
      "CAC: Unable to connect because \"Invalid argument\"\n",
      "CAC: Unable to connect because \"Invalid argument\"\n",
      "CAC: Unable to connect because \"Invalid argument\"\n",
      "CAC: Unable to connect because \"Invalid argument\"\n",
      "CAC: Unable to connect because \"Invalid argument\"\n",
      "CAC: Unable to connect because \"Invalid argument\"\n",
      "CAC: Unable to connect because \"Invalid argument\"\n",
      "CAC: Unable to connect because \"Invalid argument\"\n",
      "CAC: Unable to connect because \"Invalid argument\"\n",
      "CAC: Unable to connect because \"Invalid argument\"\n",
      "CAC: Unable to connect because \"Invalid argument\"\n",
      "CAC: Unable to connect because \"Invalid argument\"\n",
      "CAC: Unable to connect because \"Invalid argument\"\n",
      "CAC: Unable to connect because \"Invalid argument\"\n",
      "CAC: Unable to connect because \"Invalid argument\"\n",
      "CAC: Unable to connect because \"Invalid argument\"\n",
      "CAC: Unable to connect because \"Invalid argument\"\n",
      "CAC: Unable to connect because \"Invalid argument\"\n",
      "CAC: Unable to connect because \"Invalid argument\"\n",
      "CAC: Unable to connect because \"Invalid argument\"\n",
      "CAC: Unable to connect because \"Invalid argument\"\n",
      "CAC: Unable to connect because \"Invalid argument\"\n",
      "CAC: Unable to connect because \"Invalid argument\"\n",
      "CAC: Unable to connect because \"Invalid argument\"\n",
      "CAC: Unable to connect because \"Invalid argument\"\n",
      "CAC: Unable to connect because \"Invalid argument\"\n",
      "CAC: Unable to connect because \"Invalid argument\"\n",
      "CAC: Unable to connect because \"Invalid argument\"\n",
      "CAC: Unable to connect because \"Invalid argument\"\n",
      "CAC: Unable to connect because \"Invalid argument\"\n",
      "CAC: Unable to connect because \"Invalid argument\"\n",
      "CAC: Unable to connect because \"Invalid argument\"\n",
      "CAC: Unable to connect because \"Invalid argument\"\n",
      "CAC: Unable to connect because \"Invalid argument\"\n",
      "CAC: Unable to connect because \"Invalid argument\"\n",
      "CAC: Unable to connect because \"Invalid argument\"\n",
      "CAC: Unable to connect because \"Invalid argument\"\n",
      "CAC: Unable to connect because \"Invalid argument\"\n",
      "CAC: Unable to connect because \"Invalid argument\"\n",
      "CAC: Unable to connect because \"Invalid argument\"\n",
      "CAC: Unable to connect because \"Invalid argument\"\n",
      "CAC: Unable to connect because \"Invalid argument\"\n",
      "CAC: Unable to connect because \"Invalid argument\"\n",
      "CAC: Unable to connect because \"Invalid argument\"\n",
      "CAC: Unable to connect because \"Invalid argument\"\n",
      "CAC: Unable to connect because \"Invalid argument\"\n",
      "CAC: Unable to connect because \"Invalid argument\"\n",
      "CAC: Unable to connect because \"Invalid argument\"\n",
      "CAC: Unable to connect because \"Invalid argument\"\n",
      "CAC: Unable to connect because \"Invalid argument\"\n",
      "CAC: Unable to connect because \"Invalid argument\"\n",
      "CAC: Unable to connect because \"Invalid argument\"\n",
      "CAC: Unable to connect because \"Invalid argument\"\n",
      "CAC: Unable to connect because \"Invalid argument\"\n",
      "CAC: Unable to connect because \"Invalid argument\"\n",
      "CAC: Unable to connect because \"Invalid argument\"\n",
      "CAC: Unable to connect because \"Invalid argument\"\n",
      "CAC: Unable to connect because \"Invalid argument\"\n",
      "CAC: Unable to connect because \"Invalid argument\"\n",
      "CAC: Unable to connect because \"Invalid argument\"\n",
      "CAC: Unable to connect because \"Invalid argument\"\n",
      "CAC: Unable to connect because \"Invalid argument\"\n",
      "CAC: Unable to connect because \"Invalid argument\"\n",
      "CAC: Unable to connect because \"Invalid argument\"\n",
      "CAC: Unable to connect because \"Invalid argument\"\n",
      "CAC: Unable to connect because \"Invalid argument\"\n",
      "CAC: Unable to connect because \"Invalid argument\"\n",
      "CAC: Unable to connect because \"Invalid argument\"\n",
      "CAC: Unable to connect because \"Invalid argument\"\n",
      "CAC: Unable to connect because \"Invalid argument\"\n",
      "CAC: Unable to connect because \"Invalid argument\"\n",
      "CAC: Unable to connect because \"Invalid argument\"\n",
      "CAC: Unable to connect because \"Invalid argument\"\n",
      "CAC: Unable to connect because \"Invalid argument\"\n",
      "CAC: Unable to connect because \"Invalid argument\"\n",
      "CAC: Unable to connect because \"Invalid argument\"\n",
      "CAC: Unable to connect because \"Invalid argument\"\n",
      "CAC: Unable to connect because \"Invalid argument\"\n",
      "CAC: Unable to connect because \"Invalid argument\"\n",
      "CAC: Unable to connect because \"Invalid argument\"\n",
      "CAC: Unable to connect because \"Invalid argument\"\n",
      "CAC: Unable to connect because \"Invalid argument\"\n",
      "CAC: Unable to connect because \"Invalid argument\"\n",
      "CAC: Unable to connect because \"Invalid argument\"\n",
      "CAC: Unable to connect because \"Invalid argument\"\n",
      "CAC: Unable to connect because \"Invalid argument\"\n",
      "CAC: Unable to connect because \"Invalid argument\"\n",
      "CAC: Unable to connect because \"Invalid argument\"\n",
      "CAC: Unable to connect because \"Invalid argument\"\n",
      "CAC: Unable to connect because \"Invalid argument\"\n",
      "CAC: Unable to connect because \"Invalid argument\"\n",
      "CAC: Unable to connect because \"Invalid argument\"\n",
      "CAC: Unable to connect because \"Invalid argument\"\n",
      "CAC: Unable to connect because \"Invalid argument\"\n",
      "CAC: Unable to connect because \"Invalid argument\"\n",
      "CAC: Unable to connect because \"Invalid argument\"\n",
      "CAC: Unable to connect because \"Invalid argument\"\n",
      "CAC: Unable to connect because \"Invalid argument\"\n",
      "CAC: Unable to connect because \"Invalid argument\"\n",
      "CAC: Unable to connect because \"Invalid argument\"\n",
      "CAC: error = \"Network is unreachable\" sending UDP msg to 198.129.223.255:5064\n",
      "CAC: ok sending UDP msg to 198.129.223.255:5064\n",
      "CAC: Unable to connect because \"Invalid argument\"\n",
      "CAC: Unable to connect because \"Invalid argument\"\n",
      "CAC: Unable to connect because \"Invalid argument\"\n",
      "CAC: Unable to connect because \"Invalid argument\"\n"
     ]
    }
   ],
   "source": [
    "# Updating tao live-model once\n",
    "\n",
    "run1(tao, MONITOR, DM_GOOD)"
   ]
  },
  {
   "cell_type": "code",
   "execution_count": 10,
   "id": "77c0c646-968a-466c-b6ef-564299946e62",
   "metadata": {},
   "outputs": [],
   "source": [
    "set_htr_twiss(tao)"
   ]
  },
  {
   "cell_type": "code",
   "execution_count": 11,
   "id": "46541902-4024-4b6c-b6cb-d3a4ba515795",
   "metadata": {},
   "outputs": [],
   "source": [
    "# mat2 x, y for PyEmittance\n",
    "def get_mats():\n",
    "    mat6 = tao.matrix('Q0H01#2', 'OTR0H04')['mat6']\n",
    "    \n",
    "    \n",
    "    #mat6 = tao.matrix('QDG004#2', 'OTRDG02')['mat6']\n",
    "    \n",
    "    mat2x = mat6[0:2, 0:2]\n",
    "    mat2y = mat6[2:4, 2:4]\n",
    "    return mat2x, mat2y"
   ]
  },
  {
   "cell_type": "code",
   "execution_count": 12,
   "id": "413b2bf6-66b8-47ec-9e63-efbdf1d81333",
   "metadata": {},
   "outputs": [
    {
     "data": {
      "text/plain": [
       "(array([[-3.12456865,  4.01328803],\n",
       "        [ 1.69661397, -2.49922515]]),\n",
       " array([[3.51169476, 5.37844322],\n",
       "        [1.3110681 , 2.29276912]]))"
      ]
     },
     "execution_count": 12,
     "metadata": {},
     "output_type": "execute_result"
    }
   ],
   "source": [
    "get_mats()"
   ]
  },
  {
   "cell_type": "markdown",
   "id": "ae7ffca5-fda5-41aa-a91f-e75c3a0d11d2",
   "metadata": {},
   "source": [
    "# Optics compensation"
   ]
  },
  {
   "cell_type": "code",
   "execution_count": 72,
   "id": "49e691ec-9583-450b-9004-9e0e19e11e49",
   "metadata": {},
   "outputs": [],
   "source": [
    "# Chris cheating\n",
    "\n",
    "def set_OTR0H04():\n",
    "    cmds = f\"\"\"\n",
    "set dat OTR0H04.midtwiss[1]|meas = 5\n",
    "set dat OTR0H04.midtwiss[2]|meas = 0\n",
    "set dat OTR0H04.midtwiss[3]|meas = 5\n",
    "set dat OTR0H04.midtwiss[4]|meas = 0\n",
    "vv\n",
    "vd\n",
    "use dat OTR0H04.midtwiss[1:4]\n",
    "use var begtwiss[1:4]\n",
    "run \n",
    "run\n",
    "\"\"\".split('\\n')\n",
    "    for cmd in cmds:\n",
    "        tao.cmd(cmd)\n",
    "    \n",
    "set_OTR0H04()"
   ]
  },
  {
   "cell_type": "code",
   "execution_count": 71,
   "id": "b59c7765-cc2f-4154-a8b0-817ae56c3b12",
   "metadata": {},
   "outputs": [
    {
     "name": "stdout",
     "output_type": "stream",
     "text": [
      "-------------------------\n",
      "Tao> SLD\n",
      "-------------------------\n",
      "Tao> \n"
     ]
    }
   ],
   "source": [
    "%%tao\n",
    "SLD"
   ]
  },
  {
   "cell_type": "code",
   "execution_count": null,
   "id": "c2f9485a-4932-4208-81ba-9a51a76078d8",
   "metadata": {},
   "outputs": [],
   "source": []
  },
  {
   "cell_type": "code",
   "execution_count": 62,
   "id": "71e90522-5acf-47f7-9343-c4c42f0852e0",
   "metadata": {},
   "outputs": [
    {
     "name": "stdout",
     "output_type": "stream",
     "text": [
      "dt: 0.1461658477783203\n"
     ]
    }
   ],
   "source": [
    "# Updating tao live-model once\n",
    "\n",
    "run1(tao, MONITOR, DM_GOOD)"
   ]
  },
  {
   "cell_type": "code",
   "execution_count": 63,
   "id": "b76e0814-fb6e-4f5c-b955-66bf5a1a31e0",
   "metadata": {},
   "outputs": [],
   "source": [
    "target_twiss_at_OTRC006 = tao.ele_twiss('OTRC006')\n",
    "target_twiss_at_OTRC006;"
   ]
  },
  {
   "cell_type": "code",
   "execution_count": 64,
   "id": "31317f96-a2bd-4f1c-a61e-f29a23efb933",
   "metadata": {},
   "outputs": [
    {
     "data": {
      "text/plain": [
       "{'mode_flip': False,\n",
       " 'beta_a': 53797.6848388652,\n",
       " 'alpha_a': 8389.31709154993,\n",
       " 'gamma_a': 1308.24667405997,\n",
       " 'phi_a': 9.42649184653333,\n",
       " 'eta_a': -3.12972839527373e-17,\n",
       " 'etap_a': 5.80137611377415e-18,\n",
       " 'beta_b': 2407.83276825869,\n",
       " 'alpha_b': -887.473212091431,\n",
       " 'gamma_b': 327.103157894753,\n",
       " 'phi_b': 15.7046349909977,\n",
       " 'eta_b': 8.21152593010106e-17,\n",
       " 'etap_b': 2.31425331521468e-17,\n",
       " 'eta_x': -5.14403433007268e-17,\n",
       " 'etap_x': 9.5351653951773e-18,\n",
       " 'eta_y': 0.0,\n",
       " 'etap_y': 0.0}"
      ]
     },
     "execution_count": 64,
     "metadata": {},
     "output_type": "execute_result"
    }
   ],
   "source": [
    "### Set the target Twiss to the current ( undistorted ) Twiss\n",
    "target_twiss_at_ENDHTR = tao.ele_twiss('ENDHTR')\n",
    "target_twiss_at_ENDHTR"
   ]
  },
  {
   "cell_type": "code",
   "execution_count": 13,
   "id": "80194e6b-0c79-426e-8de3-49af72050e6a",
   "metadata": {},
   "outputs": [],
   "source": [
    "#target_twiss_manual = {'beta_a':5.012, 'alpha_a':0.049,'beta_b':5.012,'alpha_b':0.049,'eta_x':0.0,'eta_y':0.0}"
   ]
  },
  {
   "cell_type": "code",
   "execution_count": 57,
   "id": "456f017b-ddcd-467e-bde7-e751e93e6d01",
   "metadata": {},
   "outputs": [],
   "source": [
    "def optimize_twiss_cmds(dat_name, var_name, desired_twiss):\n",
    "    \"\"\"\n",
    "        dat_name: STRING\n",
    "        var_name: STRING\n",
    "        desired_twiss : dictionary from tao.ele_twiss(\"ele_name\")\n",
    "    \"\"\"\n",
    "    \n",
    "    out = f\"\"\" \n",
    "set global lattice_calc_on = F\n",
    "!set global optimizer = lmdif \n",
    "set global optimizer = lm\n",
    "\n",
    "veto dat *\n",
    "veto var *\n",
    "\n",
    "set dat {dat_name}[1]|meas = {desired_twiss['beta_a']}\n",
    "set dat {dat_name}[2]|meas = {desired_twiss['alpha_a']}\n",
    "set dat {dat_name}[3]|meas = {desired_twiss['beta_b']}\n",
    "set dat {dat_name}[4]|meas = {desired_twiss['alpha_b']}\n",
    "!set dat {dat_name}[5]|meas = {desired_twiss['eta_x']}\n",
    "!set dat {dat_name}[6]|meas = {desired_twiss['etap_x']}\n",
    "\n",
    "use dat {dat_name}[1:4]\n",
    "use var {var_name}\n",
    "\n",
    "set global lattice_calc_on = T\n",
    "\n",
    "!show top\n",
    "\n",
    "run\n",
    "run\n",
    "run\n",
    "run\n",
    "run\n",
    "run\n",
    "\n",
    "!show dat {dat_name}\n",
    "!show merit\n",
    "\"\"\"\n",
    "    return out.split('\\n')"
   ]
  },
  {
   "cell_type": "code",
   "execution_count": 17,
   "id": "875868ee-fde3-4e5a-b93a-183ae34f981f",
   "metadata": {},
   "outputs": [],
   "source": [
    "TWISS_CMDS = optimize_twiss_cmds(\"HTR.endtwiss\", \"q.HTR[5:9]\", target_twiss_at_ENDHTR )\n",
    "tao.cmds(TWISS_CMDS);"
   ]
  },
  {
   "cell_type": "code",
   "execution_count": 18,
   "id": "fffcb2e6-7270-47b6-827a-bd7bdcf14137",
   "metadata": {},
   "outputs": [
    {
     "name": "stdout",
     "output_type": "stream",
     "text": [
      "Merit:   1.66771264439763E+05\n",
      "Merit:   7.50712841088190E+08\n",
      "Merit:   1.66771264439763E+05\n"
     ]
    }
   ],
   "source": [
    "tao.cmd('SLD')\n",
    "print('Merit:', tao.merit()[0])\n",
    "tao.cmd('change ele Q0H01 k1 @-0.1')\n",
    "print('Merit:', tao.merit()[0])\n",
    "tao.cmd('SLD')\n",
    "print('Merit:', tao.merit()[0])"
   ]
  },
  {
   "cell_type": "code",
   "execution_count": null,
   "id": "7eb7a7cf-1b69-42ca-8570-288760063889",
   "metadata": {},
   "outputs": [],
   "source": []
  },
  {
   "cell_type": "code",
   "execution_count": 54,
   "id": "68a6f93a-7c03-4d25-bade-b7548136b2ae",
   "metadata": {},
   "outputs": [],
   "source": [
    "rematching_quads = 'q.HTR[5:9]'\n",
    "\n",
    "var_info = tao.var_v_array(rematching_quads)\n",
    "N_var = len(var_info)\n",
    "q_names = [var_info[i]['var_attrib_name'][0:5] for i in range(N_var)]\n",
    "q_names\n",
    "\n",
    "dict_b1_grad = {q_names[i]:tao.ele_gen_attribs(q_names[i])['B1_GRADIENT'] for i in range(N_var)}"
   ]
  },
  {
   "cell_type": "code",
   "execution_count": 52,
   "id": "cfc4690a-aa7c-45c7-ac93-dcf23cc2bac8",
   "metadata": {},
   "outputs": [],
   "source": [
    "# Alternative way\n",
    "#q_names = [q_dat[i]['var_attrib_name'] for i in range(8)]\n",
    "#{q_names[i]:tao.lat_list(q_names[i], 'ele.b1_gradient', flags='-no_slaves')[0] for i in range(8)}"
   ]
  },
  {
   "cell_type": "code",
   "execution_count": 95,
   "id": "88e09730-05c1-4c29-9d97-70097012bab4",
   "metadata": {},
   "outputs": [],
   "source": [
    "def twiss_optimizer(quad_name, k1_strength, dat_name, var_name, desired_twiss, reset_lat=False, debug=False):\n",
    "    \n",
    "    if debug:\n",
    "        print(f'Rematching optics for {quad_name} with k1 = {k1_strength} 1/m^2')\n",
    "    if reset_lat:\n",
    "        tao.cmd('SLD')\n",
    "\n",
    "    # Perturb\n",
    "    tao.cmd(f'change ele {quad_name} k1 @{k1_strength}')\n",
    "       \n",
    "    TWISS_CMDS = optimize_twiss_cmds(dat_name, var_name, desired_twiss)\n",
    "    \n",
    "    merit = float(tao.merit()[0])\n",
    "    print(f\"Old marit: {merit}\")   \n",
    "    \n",
    "    \n",
    "    tao.cmds(TWISS_CMDS);\n",
    "    \n",
    "    \n",
    "    merit = float(tao.merit()[0]) \n",
    "    assert merit < 1E-16, f\"merit did NOT drop low enough: {merit}!!\"\n",
    "    print(f\"New merit: {merit}\")\n",
    "        \n",
    "        \n",
    "    \n",
    "    var_info = tao.var_v_array(var_name)\n",
    "    N_var = len(var_info)\n",
    "    q_names = [var_info[i]['var_attrib_name'][0:5] for i in range(N_var)]\n",
    " \n",
    "\n",
    "    dict_b1_grad = {q_names[i]:tao.ele_gen_attribs(q_names[i])['B1_GRADIENT'] for i in range(N_var)}\n",
    "\n",
    "    return dict_b1_grad\n",
    "    "
   ]
  },
  {
   "cell_type": "code",
   "execution_count": 96,
   "id": "5a9d8119-b0ba-4c2b-b5e2-f5d8effbfd88",
   "metadata": {},
   "outputs": [],
   "source": [
    "def twiss_optimizer2(quad_name, k1_strength, dat_name, var_name, desired_twiss, reset_lat=False, debug=False):\n",
    "    \n",
    "    #if debug:\n",
    "    #    print(f'Rematching optics for {quad_name} with k1 = {k1_strength} 1/m^2')\n",
    "    #if reset_lat:\n",
    "    #    tao.cmd('SLD')\n",
    "\n",
    "    # Perturb\n",
    "    #tao.cmd(f'change ele {quad_name} k1 @{k1_strength}')\n",
    "       \n",
    "    TWISS_CMDS = optimize_twiss_cmds(dat_name, var_name, desired_twiss)\n",
    "    \n",
    "    merit = float(tao.merit()[0])\n",
    "    print(f\"Old merit: {merit}\")   \n",
    "    \n",
    "    \n",
    "    tao.cmds(TWISS_CMDS);\n",
    "    \n",
    "    \n",
    "    merit = float(tao.merit()[0]) \n",
    "    assert merit < 1E-16, f\"merit did NOT drop low enough: {merit}!!\"\n",
    "    print(f\"New merit: {merit}\")\n",
    "        \n",
    "        \n",
    "    \n",
    "    var_info = tao.var_v_array(var_name)\n",
    "    N_var = len(var_info)\n",
    "    q_names = [var_info[i]['var_attrib_name'][0:5] for i in range(N_var)]\n",
    " \n",
    "\n",
    "    dict_b1_grad = {q_names[i]:tao.ele_gen_attribs(q_names[i])['B1_GRADIENT'] for i in range(N_var)}\n",
    "\n",
    "    return dict_b1_grad\n",
    "    "
   ]
  },
  {
   "cell_type": "code",
   "execution_count": 65,
   "id": "2fc868c5-cda6-4699-8899-2a82ed04b3bd",
   "metadata": {},
   "outputs": [
    {
     "name": "stdout",
     "output_type": "stream",
     "text": [
      "dt: 0.12140607833862305\n"
     ]
    }
   ],
   "source": [
    "# Updating tao live-model once\n",
    "\n",
    "run1(tao, MONITOR, DM_GOOD)"
   ]
  },
  {
   "cell_type": "code",
   "execution_count": 99,
   "id": "5ba4c487-3d1d-4b60-9267-08bafba55f04",
   "metadata": {},
   "outputs": [
    {
     "data": {
      "text/plain": [
       "-2.20040419577489"
      ]
     },
     "execution_count": 99,
     "metadata": {},
     "output_type": "execute_result"
    }
   ],
   "source": [
    "caget('QUAD:HTR:120:BACT')"
   ]
  },
  {
   "cell_type": "code",
   "execution_count": 102,
   "id": "3614e6e9-95cc-496a-ae9c-f746ac87ce2f",
   "metadata": {},
   "outputs": [
    {
     "data": {
      "text/plain": [
       "-2.2003108184"
      ]
     },
     "execution_count": 102,
     "metadata": {},
     "output_type": "execute_result"
    },
    {
     "name": "stderr",
     "output_type": "stream",
     "text": [
      "CA.Client.Exception...............................................\n",
      "    Warning: \"Virtual circuit unresponsive\"\n",
      "    Context: \"localhost:24111\"\n",
      "    Source File: ../tcpiiu.cpp line 926\n",
      "    Current Time: Tue Nov 22 2022 11:45:07.805106993\n",
      "..................................................................\n",
      "CA.Client.Exception...............................................\n",
      "    Warning: \"Virtual circuit disconnect\"\n",
      "    Context: \"localhost:24111\"\n",
      "    Source File: ../cac.cpp line 1237\n",
      "    Current Time: Tue Nov 22 2022 11:45:09.509185480\n",
      "..................................................................\n",
      "CAC: error = \"No route to host\" sending UDP msg to 134.79.87.255:5064\n",
      "CAC: Unable to connect because \"Connection refused\"\n",
      "CAC: error = \"Network is unreachable\" sending UDP msg to 134.79.87.255:5064\n",
      "CAC: ok sending UDP msg to 134.79.87.255:5064\n",
      "CAC: error = \"Network is unreachable\" sending UDP msg to 134.79.87.255:5064\n",
      "CAC: Unable to connect because \"Invalid argument\"\n",
      "CAC: Unable to connect because \"Invalid argument\"\n",
      "CAC: ok sending UDP msg to 134.79.87.255:5064\n",
      "CAC: Unable to connect because \"Invalid argument\"\n",
      "CAC: Unable to connect because \"Invalid argument\"\n",
      "CAC: Unable to connect because \"Invalid argument\"\n",
      "CAC: Unable to connect because \"Invalid argument\"\n",
      "CAC: Unable to connect because \"Invalid argument\"\n",
      "CAC: Unable to connect because \"Invalid argument\"\n",
      "CAC: Unable to connect because \"Invalid argument\"\n",
      "CAC: Unable to connect because \"Invalid argument\"\n",
      "CAC: Unable to connect because \"Invalid argument\"\n",
      "CAC: Unable to connect because \"Invalid argument\"\n",
      "CAC: Unable to connect because \"Invalid argument\"\n",
      "CAC: Unable to connect because \"Invalid argument\"\n",
      "CAC: Unable to connect because \"Invalid argument\"\n",
      "CAC: error = \"Network is unreachable\" sending UDP msg to 134.79.87.255:5064\n",
      "CAC: Unable to connect because \"Invalid argument\"\n",
      "CAC: ok sending UDP msg to 134.79.87.255:5064\n",
      "CAC: Unable to connect because \"Invalid argument\"\n",
      "CAC: Unable to connect because \"Invalid argument\"\n",
      "CAC: Unable to connect because \"Invalid argument\"\n",
      "CAC: Unable to connect because \"Invalid argument\"\n",
      "CAC: Unable to connect because \"Invalid argument\"\n",
      "CAC: Unable to connect because \"Invalid argument\"\n",
      "CAC: Unable to connect because \"Invalid argument\"\n",
      "CAC: Unable to connect because \"Invalid argument\"\n",
      "CAC: Unable to connect because \"Invalid argument\"\n",
      "CAC: Unable to connect because \"Invalid argument\"\n",
      "CAC: Unable to connect because \"Invalid argument\"\n",
      "CAC: Unable to connect because \"Invalid argument\"\n",
      "CAC: Unable to connect because \"Invalid argument\"\n",
      "CAC: Unable to connect because \"Invalid argument\"\n",
      "CAC: Unable to connect because \"Invalid argument\"\n",
      "CAC: Unable to connect because \"Invalid argument\"\n",
      "CAC: Unable to connect because \"Invalid argument\"\n",
      "CAC: Unable to connect because \"Invalid argument\"\n",
      "CAC: Unable to connect because \"Invalid argument\"\n"
     ]
    }
   ],
   "source": [
    "1.7687386 * 1.2440000E-01 * -10"
   ]
  },
  {
   "cell_type": "code",
   "execution_count": 90,
   "id": "0df68b46-146f-4490-a435-23825a734fb4",
   "metadata": {},
   "outputs": [
    {
     "name": "stdout",
     "output_type": "stream",
     "text": [
      "dt: 0.11398601531982422\n"
     ]
    }
   ],
   "source": [
    "run1(tao, MONITOR, DM_GOOD)\n",
    "set_OTR0H04()\n",
    "target_twiss_at_ENDHTR = tao.ele_twiss('ENDHTR')"
   ]
  },
  {
   "cell_type": "code",
   "execution_count": null,
   "id": "dc0c568e-51b8-446f-a141-2079520e10cd",
   "metadata": {},
   "outputs": [],
   "source": [
    "# Distort the QUAD on the real machine, and run this again\n",
    "run1(tao, MONITOR, DM_GOOD)"
   ]
  },
  {
   "cell_type": "code",
   "execution_count": 93,
   "id": "cfcb833b-56aa-4590-a40f-912a6a411026",
   "metadata": {},
   "outputs": [
    {
     "name": "stdout",
     "output_type": "stream",
     "text": [
      "Old merit: 3.66047060055099e-28\n",
      "New merit: 8.61436108501345e-26\n"
     ]
    },
    {
     "data": {
      "text/plain": [
       "{'Q0H05': 1.99047760958474,\n",
       " 'Q0H06': -0.489082889935051,\n",
       " 'Q0H07': -2.08005818801471,\n",
       " 'Q0H08': 2.20748978167364,\n",
       " 'QHD01': 2.33337098172311}"
      ]
     },
     "execution_count": 93,
     "metadata": {},
     "output_type": "execute_result"
    }
   ],
   "source": [
    "dat_name = \"HTR.endtwiss\"\n",
    "var_name = \"q.HTR[5:9]\"\n",
    "desired_twiss = target_twiss_at_ENDHTR\n",
    "\n",
    "\n",
    "dict_new_quads = twiss_optimizer2('Q0H01', -4.5 ,  dat_name, var_name, desired_twiss, reset_lat=False)\n",
    "dict_new_quads"
   ]
  },
  {
   "cell_type": "code",
   "execution_count": 83,
   "id": "96c8cfc5-751c-437c-9fc4-bbeaa774f732",
   "metadata": {},
   "outputs": [],
   "source": [
    "def prepare_caput_values(dict_quads, df):\n",
    "    \"\"\"\n",
    "    Given a dictionary of quad names (Bmad names) and values,\n",
    "    Provide a dictionary of the corresponding quad PV names and PV values. \n",
    "    \"\"\"\n",
    "    \n",
    "    quad_names = dict_quads.keys()\n",
    "    quad_values = dict_quads.values()\n",
    "    \n",
    "    df2 = df[df['bmad_name'].isin(quad_names)][['bmad_name','pvname','bmad_factor']]\n",
    "    print(df2)\n",
    "    \n",
    "    out = {}\n",
    "    \n",
    "    # temporary look-up dictionary (to make sure order does not matter)\n",
    "    q_value = {}\n",
    "    for name, value in zip(quad_names, quad_values):\n",
    "        q_value[name] = value\n",
    "    \n",
    "    for row in df2.itertuples():\n",
    "        \n",
    "        key = row.pvname\n",
    "        value = 1.0/row.bmad_factor * q_value[row.bmad_name]\n",
    "        \n",
    "        assert key not in out  # Check no repeated keys (quad PVs)\n",
    "        out[key] = value\n",
    "    return out"
   ]
  },
  {
   "cell_type": "code",
   "execution_count": 41,
   "id": "44b40b8d-9276-4033-8d62-b13e173355a4",
   "metadata": {},
   "outputs": [
    {
     "name": "stdout",
     "output_type": "stream",
     "text": [
      "  bmad_name             pvname  bmad_factor\n",
      "5     Q0H05  QUAD:HTR:365:BDES    -0.803859\n",
      "6     Q0H06  QUAD:HTR:385:BDES    -0.803859\n",
      "7     Q0H07  QUAD:HTR:440:BDES    -0.803859\n",
      "8     Q0H08  QUAD:HTR:460:BDES    -0.803859\n",
      "9     QHD01  QUAD:HTR:830:BDES    -0.803859\n"
     ]
    },
    {
     "data": {
      "text/plain": [
       "{'QUAD:HTR:365:BDES': -6.829562287617346,\n",
       " 'QUAD:HTR:385:BDES': -0.022527611493915807,\n",
       " 'QUAD:HTR:440:BDES': 3.884894913212843,\n",
       " 'QUAD:HTR:460:BDES': -3.352605432177624,\n",
       " 'QUAD:HTR:830:BDES': -2.7584432523164786}"
      ]
     },
     "execution_count": 41,
     "metadata": {},
     "output_type": "execute_result"
    }
   ],
   "source": [
    "df = DM_GOOD['quad'].data\n",
    "\n",
    "dict_to_caput = prepare_caput_values(dict_new_quads, df)\n",
    "dict_to_caput"
   ]
  },
  {
   "cell_type": "code",
   "execution_count": 53,
   "id": "a8f14728-c598-4b35-aa5a-000d9825e315",
   "metadata": {},
   "outputs": [
    {
     "data": {
      "text/plain": [
       "[-2.4766963, 0.610201, 2.5876414, -2.7461416, -2.9026848]"
      ]
     },
     "execution_count": 53,
     "metadata": {},
     "output_type": "execute_result"
    }
   ],
   "source": [
    "original_set_values = caget_many(dict_to_caput.keys())\n",
    "original_set_values"
   ]
  },
  {
   "cell_type": "code",
   "execution_count": 54,
   "id": "0421682c-89d2-4a59-b5ca-fb6221804d9e",
   "metadata": {},
   "outputs": [
    {
     "data": {
      "text/plain": [
       "{'QUAD:HTR:365:BDES': -2.4766963,\n",
       " 'QUAD:HTR:385:BDES': 0.610201,\n",
       " 'QUAD:HTR:440:BDES': 2.5876414,\n",
       " 'QUAD:HTR:460:BDES': -2.7461416,\n",
       " 'QUAD:HTR:830:BDES': -2.9026848}"
      ]
     },
     "execution_count": 54,
     "metadata": {},
     "output_type": "execute_result"
    }
   ],
   "source": [
    "# To recover old setting\n",
    "{list(dict_to_caput.keys())[i]:original_set_values[i] for i in range(len(original_set_values))}"
   ]
  },
  {
   "cell_type": "code",
   "execution_count": null,
   "id": "e91ff333-3fcd-4a00-836b-c85d0dbcc91a",
   "metadata": {},
   "outputs": [],
   "source": []
  },
  {
   "cell_type": "code",
   "execution_count": null,
   "id": "d48d3780-6d21-447a-9b53-0f3124caae41",
   "metadata": {},
   "outputs": [],
   "source": []
  }
 ],
 "metadata": {
  "kernelspec": {
   "display_name": "Lcls-live",
   "language": "python",
   "name": "lcls-live"
  },
  "language_info": {
   "codemirror_mode": {
    "name": "ipython",
    "version": 3
   },
   "file_extension": ".py",
   "mimetype": "text/x-python",
   "name": "python",
   "nbconvert_exporter": "python",
   "pygments_lexer": "ipython3",
   "version": "3.8.15"
  }
 },
 "nbformat": 4,
 "nbformat_minor": 5
}
